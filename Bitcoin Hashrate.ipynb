{
 "cells": [
  {
   "cell_type": "markdown",
   "metadata": {},
   "source": [
    "# Bitcoin Mining Analysis"
   ]
  },
  {
   "cell_type": "markdown",
   "metadata": {},
   "source": [
    "# by: Peixiong Zhao"
   ]
  },
  {
   "cell_type": "markdown",
   "metadata": {},
   "source": [
    "# Bitcoin Hashrate Analysis\n",
    "This analysis explores the current hashrate values sourced from blockchain.com and use rolling day averages as a mean of technical analysis. There is a significant drop in hashrate in the middle of 2021 due to China Ban and it ever since has increased to all time highs."
   ]
  },
  {
   "cell_type": "code",
   "execution_count": 124,
   "metadata": {},
   "outputs": [],
   "source": [
    "#import modules\n",
    "import pandas as pd\n",
    "import matplotlib.pyplot as plt\n",
    "import seaborn as sns\n",
    "import datetime as dt"
   ]
  },
  {
   "cell_type": "code",
   "execution_count": 125,
   "metadata": {},
   "outputs": [
    {
     "data": {
      "text/html": [
       "<div>\n",
       "<style scoped>\n",
       "    .dataframe tbody tr th:only-of-type {\n",
       "        vertical-align: middle;\n",
       "    }\n",
       "\n",
       "    .dataframe tbody tr th {\n",
       "        vertical-align: top;\n",
       "    }\n",
       "\n",
       "    .dataframe thead th {\n",
       "        text-align: right;\n",
       "    }\n",
       "</style>\n",
       "<table border=\"1\" class=\"dataframe\">\n",
       "  <thead>\n",
       "    <tr style=\"text-align: right;\">\n",
       "      <th></th>\n",
       "      <th>Timestamp</th>\n",
       "      <th>hash-rate</th>\n",
       "    </tr>\n",
       "  </thead>\n",
       "  <tbody>\n",
       "    <tr>\n",
       "      <th>0</th>\n",
       "      <td>2019-02-23 00:00:00</td>\n",
       "      <td>4.308872e+07</td>\n",
       "    </tr>\n",
       "    <tr>\n",
       "      <th>1</th>\n",
       "      <td>2019-02-24 00:00:00</td>\n",
       "      <td>4.129826e+07</td>\n",
       "    </tr>\n",
       "    <tr>\n",
       "      <th>2</th>\n",
       "      <td>2019-02-25 00:00:00</td>\n",
       "      <td>4.316213e+07</td>\n",
       "    </tr>\n",
       "    <tr>\n",
       "      <th>3</th>\n",
       "      <td>2019-02-26 00:00:00</td>\n",
       "      <td>4.859513e+07</td>\n",
       "    </tr>\n",
       "    <tr>\n",
       "      <th>4</th>\n",
       "      <td>2019-02-27 00:00:00</td>\n",
       "      <td>4.255847e+07</td>\n",
       "    </tr>\n",
       "  </tbody>\n",
       "</table>\n",
       "</div>"
      ],
      "text/plain": [
       "             Timestamp     hash-rate\n",
       "0  2019-02-23 00:00:00  4.308872e+07\n",
       "1  2019-02-24 00:00:00  4.129826e+07\n",
       "2  2019-02-25 00:00:00  4.316213e+07\n",
       "3  2019-02-26 00:00:00  4.859513e+07\n",
       "4  2019-02-27 00:00:00  4.255847e+07"
      ]
     },
     "execution_count": 125,
     "metadata": {},
     "output_type": "execute_result"
    }
   ],
   "source": [
    "#read the csv\n",
    "bitcoin_mining = pd.read_csv('hash-rate - raw data.csv')\n",
    "bitcoin_mining.head()"
   ]
  },
  {
   "cell_type": "code",
   "execution_count": 126,
   "metadata": {},
   "outputs": [
    {
     "data": {
      "text/html": [
       "<div>\n",
       "<style scoped>\n",
       "    .dataframe tbody tr th:only-of-type {\n",
       "        vertical-align: middle;\n",
       "    }\n",
       "\n",
       "    .dataframe tbody tr th {\n",
       "        vertical-align: top;\n",
       "    }\n",
       "\n",
       "    .dataframe thead th {\n",
       "        text-align: right;\n",
       "    }\n",
       "</style>\n",
       "<table border=\"1\" class=\"dataframe\">\n",
       "  <thead>\n",
       "    <tr style=\"text-align: right;\">\n",
       "      <th></th>\n",
       "      <th>Timestamp</th>\n",
       "      <th>hash-rate</th>\n",
       "      <th>30day_rolling_avg</th>\n",
       "      <th>60day_rolling_avg</th>\n",
       "      <th>90day_rolling_avg</th>\n",
       "      <th>30day_rolling_avg_std</th>\n",
       "    </tr>\n",
       "  </thead>\n",
       "  <tbody>\n",
       "    <tr>\n",
       "      <th>0</th>\n",
       "      <td>2019-02-23 00:00:00</td>\n",
       "      <td>4.308872e+07</td>\n",
       "      <td>NaN</td>\n",
       "      <td>NaN</td>\n",
       "      <td>NaN</td>\n",
       "      <td>NaN</td>\n",
       "    </tr>\n",
       "    <tr>\n",
       "      <th>1</th>\n",
       "      <td>2019-02-24 00:00:00</td>\n",
       "      <td>4.129826e+07</td>\n",
       "      <td>NaN</td>\n",
       "      <td>NaN</td>\n",
       "      <td>NaN</td>\n",
       "      <td>NaN</td>\n",
       "    </tr>\n",
       "    <tr>\n",
       "      <th>2</th>\n",
       "      <td>2019-02-25 00:00:00</td>\n",
       "      <td>4.316213e+07</td>\n",
       "      <td>NaN</td>\n",
       "      <td>NaN</td>\n",
       "      <td>NaN</td>\n",
       "      <td>NaN</td>\n",
       "    </tr>\n",
       "    <tr>\n",
       "      <th>3</th>\n",
       "      <td>2019-02-26 00:00:00</td>\n",
       "      <td>4.859513e+07</td>\n",
       "      <td>NaN</td>\n",
       "      <td>NaN</td>\n",
       "      <td>NaN</td>\n",
       "      <td>NaN</td>\n",
       "    </tr>\n",
       "    <tr>\n",
       "      <th>4</th>\n",
       "      <td>2019-02-27 00:00:00</td>\n",
       "      <td>4.255847e+07</td>\n",
       "      <td>NaN</td>\n",
       "      <td>NaN</td>\n",
       "      <td>NaN</td>\n",
       "      <td>NaN</td>\n",
       "    </tr>\n",
       "    <tr>\n",
       "      <th>5</th>\n",
       "      <td>2019-02-28 00:00:00</td>\n",
       "      <td>4.527497e+07</td>\n",
       "      <td>NaN</td>\n",
       "      <td>NaN</td>\n",
       "      <td>NaN</td>\n",
       "      <td>NaN</td>\n",
       "    </tr>\n",
       "    <tr>\n",
       "      <th>6</th>\n",
       "      <td>2019-03-01 00:00:00</td>\n",
       "      <td>4.889696e+07</td>\n",
       "      <td>NaN</td>\n",
       "      <td>NaN</td>\n",
       "      <td>NaN</td>\n",
       "      <td>NaN</td>\n",
       "    </tr>\n",
       "    <tr>\n",
       "      <th>7</th>\n",
       "      <td>2019-03-02 00:00:00</td>\n",
       "      <td>3.984197e+07</td>\n",
       "      <td>NaN</td>\n",
       "      <td>NaN</td>\n",
       "      <td>NaN</td>\n",
       "      <td>NaN</td>\n",
       "    </tr>\n",
       "    <tr>\n",
       "      <th>8</th>\n",
       "      <td>2019-03-03 00:00:00</td>\n",
       "      <td>4.406763e+07</td>\n",
       "      <td>NaN</td>\n",
       "      <td>NaN</td>\n",
       "      <td>NaN</td>\n",
       "      <td>NaN</td>\n",
       "    </tr>\n",
       "    <tr>\n",
       "      <th>9</th>\n",
       "      <td>2019-03-04 00:00:00</td>\n",
       "      <td>4.135114e+07</td>\n",
       "      <td>NaN</td>\n",
       "      <td>NaN</td>\n",
       "      <td>NaN</td>\n",
       "      <td>NaN</td>\n",
       "    </tr>\n",
       "  </tbody>\n",
       "</table>\n",
       "</div>"
      ],
      "text/plain": [
       "             Timestamp     hash-rate  30day_rolling_avg  60day_rolling_avg  \\\n",
       "0  2019-02-23 00:00:00  4.308872e+07                NaN                NaN   \n",
       "1  2019-02-24 00:00:00  4.129826e+07                NaN                NaN   \n",
       "2  2019-02-25 00:00:00  4.316213e+07                NaN                NaN   \n",
       "3  2019-02-26 00:00:00  4.859513e+07                NaN                NaN   \n",
       "4  2019-02-27 00:00:00  4.255847e+07                NaN                NaN   \n",
       "5  2019-02-28 00:00:00  4.527497e+07                NaN                NaN   \n",
       "6  2019-03-01 00:00:00  4.889696e+07                NaN                NaN   \n",
       "7  2019-03-02 00:00:00  3.984197e+07                NaN                NaN   \n",
       "8  2019-03-03 00:00:00  4.406763e+07                NaN                NaN   \n",
       "9  2019-03-04 00:00:00  4.135114e+07                NaN                NaN   \n",
       "\n",
       "   90day_rolling_avg  30day_rolling_avg_std  \n",
       "0                NaN                    NaN  \n",
       "1                NaN                    NaN  \n",
       "2                NaN                    NaN  \n",
       "3                NaN                    NaN  \n",
       "4                NaN                    NaN  \n",
       "5                NaN                    NaN  \n",
       "6                NaN                    NaN  \n",
       "7                NaN                    NaN  \n",
       "8                NaN                    NaN  \n",
       "9                NaN                    NaN  "
      ]
     },
     "metadata": {},
     "output_type": "display_data"
    }
   ],
   "source": [
    "#Set only the date from datetime\n",
    "date = pd.to_datetime(bitcoin_mining['Timestamp'])\n",
    "\n",
    "#Set x, y value\n",
    "x=date\n",
    "y=list(bitcoin_mining['hash-rate'])\n",
    "\n",
    "# computing a 7 day rolling average\n",
    "bitcoin_mining['30day_rolling_avg'] = bitcoin_mining['hash-rate'].rolling(30).mean()\n",
    "bitcoin_mining['60day_rolling_avg'] = bitcoin_mining['hash-rate'].rolling(60).mean()\n",
    "bitcoin_mining['90day_rolling_avg'] = bitcoin_mining['hash-rate'].rolling(90).mean()\n",
    "bitcoin_mining['30day_rolling_avg_std'] = bitcoin_mining['hash-rate'].rolling(30).std()    \n",
    "    \n",
    "# viewing the dataset\n",
    "display(bitcoin_mining.head(10))"
   ]
  },
  {
   "cell_type": "code",
   "execution_count": 127,
   "metadata": {},
   "outputs": [
    {
     "data": {
      "text/plain": [
       "Text(0.5, 1.0, 'Bitcoin Hashrate (P.Z)')"
      ]
     },
     "execution_count": 127,
     "metadata": {},
     "output_type": "execute_result"
    },
    {
     "data": {
      "image/png": "[encoded data removed]",
      "text/plain": [
       "<Figure size 1440x720 with 1 Axes>"
      ]
     },
     "metadata": {
      "needs_background": "light"
     },
     "output_type": "display_data"
    }
   ],
   "source": [
    "# set figure size\n",
    "plt.figure( figsize = ( 20, 10))\n",
    "  \n",
    "# plot a simple time series plot\n",
    "# using seaborn.lineplot()\n",
    "sns.lineplot( x=date,\n",
    "             y=list(bitcoin_mining['hash-rate']),\n",
    "             data = bitcoin_mining,\n",
    "             label = 'Hashrates')\n",
    "#Rolling Average\n",
    "sns.lineplot( x=date,\n",
    "             y=bitcoin_mining['30day_rolling_avg'],\n",
    "             data = bitcoin_mining,\n",
    "             label = 'Hashrates - 30Day',)\n",
    "sns.lineplot( x=date,\n",
    "             y=bitcoin_mining['60day_rolling_avg'],\n",
    "             data = bitcoin_mining,\n",
    "             label = 'Hashrates - 60Day',)\n",
    "sns.lineplot( x=date,\n",
    "             y=bitcoin_mining['90day_rolling_avg'],\n",
    "             data = bitcoin_mining,\n",
    "             label = 'Hashrates - 90Day',)\n",
    "      \n",
    "plt.xlabel( 'Months of the year')\n",
    "plt.ylabel('Hashrate')\n",
    "plt.title('Bitcoin Hashrate (P.Z)')"
   ]
  },
  {
   "cell_type": "code",
   "execution_count": 128,
   "metadata": {},
   "outputs": [
    {
     "data": {
      "text/plain": [
       "<matplotlib.collections.PolyCollection at 0x1e677d1e708>"
      ]
     },
     "execution_count": 128,
     "metadata": {},
     "output_type": "execute_result"
    },
    {
     "data": {
      "image/png": "[encoded data removed]",
      "text/plain": [
       "<Figure size 1440x720 with 1 Axes>"
      ]
     },
     "metadata": {
      "needs_background": "light"
     },
     "output_type": "display_data"
    }
   ],
   "source": [
    "plt.figure( figsize = ( 20, 10))\n",
    "bitcoin_mining['MA'] = bitcoin_mining['hash-rate'].rolling(30).mean()\n",
    "bitcoin_mining['STD'] = bitcoin_mining['hash-rate'].rolling(30).std()\n",
    "bitcoin_mining['BOL_UPPER'] = bitcoin_mining['MA'] + 2*bitcoin_mining['STD']\n",
    "bitcoin_mining['BOL_LOWER'] = bitcoin_mining['MA'] - 2*bitcoin_mining['STD']\n",
    "# bitcoin_mining['hash-rate'].plot()\n",
    "sns.lineplot( x=date,\n",
    "             y=list(bitcoin_mining['hash-rate']),\n",
    "             data = bitcoin_mining,ci=80,\n",
    "             label = 'Hashrates')\n",
    "plt.xlabel('Date')\n",
    "plt.ylabel('Hashrate')\n",
    "plt.title('Bitcoin Hashrate with STD (P.Z)')\n",
    "plt.fill_between(x,bitcoin_mining['BOL_LOWER'], bitcoin_mining['BOL_UPPER'], alpha=.4, label='2-STD')\n"
   ]
  },
  {
   "cell_type": "markdown",
   "metadata": {},
   "source": [
    "# Bitcoin Hashprice\n",
    "Hashprice is the market value per unit of hashing power. The unit is measured by dollar per terahash per second per day. The higher the hashing power, the cheaper the value of miner's hashing power becomes and vice versa when the hashrate drops, the value per unit of hashing power increases. Thefore hashprice has a negative correlation to hashrate. WHashrate is affected by changes in mining difficulty and bitcoin's price. As of February 2/25, the hashprice is approximately $0.20.  "
   ]
  },
  {
   "cell_type": "code",
   "execution_count": 129,
   "metadata": {},
   "outputs": [],
   "source": [
    "#import all the interested csv data sets\n",
    "hrate = pd.read_csv('hash-rate-1yr.csv',parse_dates=True,index_col='Timestamp')\n",
    "diff = pd.read_csv('difficulty-1y.csv',parse_dates=True,index_col='Timestamp')\n",
    "mprice = pd.read_csv('market-price-1yr.csv',parse_dates=True,index_col='Timestamp')\n",
    "mrev = pd.read_csv('miners-revenue-1yr.csv',parse_dates=True,index_col='Timestamp')"
   ]
  },
  {
   "cell_type": "code",
   "execution_count": 130,
   "metadata": {},
   "outputs": [
    {
     "data": {
      "text/html": [
       "<div>\n",
       "<style scoped>\n",
       "    .dataframe tbody tr th:only-of-type {\n",
       "        vertical-align: middle;\n",
       "    }\n",
       "\n",
       "    .dataframe tbody tr th {\n",
       "        vertical-align: top;\n",
       "    }\n",
       "\n",
       "    .dataframe thead th {\n",
       "        text-align: right;\n",
       "    }\n",
       "</style>\n",
       "<table border=\"1\" class=\"dataframe\">\n",
       "  <thead>\n",
       "    <tr style=\"text-align: right;\">\n",
       "      <th></th>\n",
       "      <th>hash-rate</th>\n",
       "      <th>difficulty</th>\n",
       "      <th>market-price</th>\n",
       "      <th>miners-revenue</th>\n",
       "    </tr>\n",
       "    <tr>\n",
       "      <th>Timestamp</th>\n",
       "      <th></th>\n",
       "      <th></th>\n",
       "      <th></th>\n",
       "      <th></th>\n",
       "    </tr>\n",
       "  </thead>\n",
       "  <tbody>\n",
       "    <tr>\n",
       "      <th>2021-02-22</th>\n",
       "      <td>1.436284e+08</td>\n",
       "      <td>2.172413e+13</td>\n",
       "      <td>57487.86</td>\n",
       "      <td>5.290547e+07</td>\n",
       "    </tr>\n",
       "    <tr>\n",
       "      <th>2021-02-23</th>\n",
       "      <td>1.371489e+08</td>\n",
       "      <td>2.172413e+13</td>\n",
       "      <td>54123.40</td>\n",
       "      <td>4.848789e+07</td>\n",
       "    </tr>\n",
       "    <tr>\n",
       "      <th>2021-02-24</th>\n",
       "      <td>1.717061e+08</td>\n",
       "      <td>2.172413e+13</td>\n",
       "      <td>48880.43</td>\n",
       "      <td>5.974618e+07</td>\n",
       "    </tr>\n",
       "    <tr>\n",
       "      <th>2021-02-25</th>\n",
       "      <td>1.684664e+08</td>\n",
       "      <td>2.172413e+13</td>\n",
       "      <td>50624.84</td>\n",
       "      <td>5.779255e+07</td>\n",
       "    </tr>\n",
       "    <tr>\n",
       "      <th>2021-02-26</th>\n",
       "      <td>1.501079e+08</td>\n",
       "      <td>2.172413e+13</td>\n",
       "      <td>46800.42</td>\n",
       "      <td>4.739514e+07</td>\n",
       "    </tr>\n",
       "  </tbody>\n",
       "</table>\n",
       "</div>"
      ],
      "text/plain": [
       "               hash-rate    difficulty  market-price  miners-revenue\n",
       "Timestamp                                                           \n",
       "2021-02-22  1.436284e+08  2.172413e+13      57487.86    5.290547e+07\n",
       "2021-02-23  1.371489e+08  2.172413e+13      54123.40    4.848789e+07\n",
       "2021-02-24  1.717061e+08  2.172413e+13      48880.43    5.974618e+07\n",
       "2021-02-25  1.684664e+08  2.172413e+13      50624.84    5.779255e+07\n",
       "2021-02-26  1.501079e+08  2.172413e+13      46800.42    4.739514e+07"
      ]
     },
     "execution_count": 130,
     "metadata": {},
     "output_type": "execute_result"
    }
   ],
   "source": [
    "#Display the information\n",
    "info = ['hrate', 'diff', 'mprice', 'mrev']\n",
    "hashprice = pd.concat([hrate,diff,mprice,mrev],axis=1,)\n",
    "hashprice.head()"
   ]
  },
  {
   "cell_type": "code",
   "execution_count": 131,
   "metadata": {},
   "outputs": [],
   "source": [
    "#Calculate the Hashprice based on Blockchain.com data\n",
    "hashprice['Hashprice'] = (hashprice['miners-revenue'])/(hashprice['hash-rate'])"
   ]
  },
  {
   "cell_type": "code",
   "execution_count": 134,
   "metadata": {},
   "outputs": [
    {
     "data": {
      "text/plain": [
       "<matplotlib.legend.Legend at 0x1e677d536c8>"
      ]
     },
     "execution_count": 134,
     "metadata": {},
     "output_type": "execute_result"
    },
    {
     "data": {
      "image/png": "[encoded data removed]",
      "text/plain": [
       "<Figure size 1440x720 with 1 Axes>"
      ]
     },
     "metadata": {
      "needs_background": "light"
     },
     "output_type": "display_data"
    }
   ],
   "source": [
    "#Creating the chart to show hash price\n",
    "plt.figure( figsize = ( 20, 10))\n",
    "sns.lineplot(data=hashprice, x=\"Timestamp\", y=\"Hashprice\", color = 'turquoise')\n",
    "plt.xlabel('Date')\n",
    "plt.ylabel('Hash Price($)')\n",
    "plt.title('Hash Price (P.Z)')\n",
    "plt.legend(labels=['Hash Price ($/TH/s/d)'])"
   ]
  },
  {
   "cell_type": "markdown",
   "metadata": {},
   "source": [
    "# Bitcoin Miners Economics\n",
    "This analysis takes a look at the miners and their specifications in order to evaluate their value. The graphs contain a scatterplot comparing the power efficiencies and hashrate power. The more efficient the miner is, the less power it needs to produce a hash. Therefore, if the plot is viewed in quadrants, the lower right quadrant would be a favorable choice for picking the miner. In addition, denver's deriviative(DD) is introduced in a sample of popular miners in the market. The denver deriviative accounts for current hashprics without a direct evaluation from bitcoin price. Various scores allows for evaluation for the ASIC price, how long the ASIC would run for, and the level to borrow to buy all hardware."
   ]
  },
  {
   "cell_type": "code",
   "execution_count": 107,
   "metadata": {},
   "outputs": [
    {
     "data": {
      "text/html": [
       "        <script type=\"text/javascript\">\n",
       "        window.PlotlyConfig = {MathJaxConfig: 'local'};\n",
       "        if (window.MathJax) {MathJax.Hub.Config({SVG: {font: \"STIX-Web\"}});}\n",
       "        if (typeof require !== 'undefined') {\n",
       "        require.undef(\"plotly\");\n",
       "        requirejs.config({\n",
       "            paths: {\n",
       "                'plotly': ['https://cdn.plot.ly/plotly-2.2.0.min']\n",
       "            }\n",
       "        });\n",
       "        require(['plotly'], function(Plotly) {\n",
       "            window._Plotly = Plotly;\n",
       "        });\n",
       "        }\n",
       "        </script>\n",
       "        "
      ]
     },
     "metadata": {},
     "output_type": "display_data"
    },
    {
     "data": {
      "text/html": [
       "        <script type=\"text/javascript\">\n",
       "        window.PlotlyConfig = {MathJaxConfig: 'local'};\n",
       "        if (window.MathJax) {MathJax.Hub.Config({SVG: {font: \"STIX-Web\"}});}\n",
       "        if (typeof require !== 'undefined') {\n",
       "        require.undef(\"plotly\");\n",
       "        requirejs.config({\n",
       "            paths: {\n",
       "                'plotly': ['https://cdn.plot.ly/plotly-2.2.0.min']\n",
       "            }\n",
       "        });\n",
       "        require(['plotly'], function(Plotly) {\n",
       "            window._Plotly = Plotly;\n",
       "        });\n",
       "        }\n",
       "        </script>\n",
       "        "
      ]
     },
     "metadata": {},
     "output_type": "display_data"
    }
   ],
   "source": [
    "import cufflinks as cf\n",
    "from plotly import __version__\n",
    "from plotly.offline import download_plotlyjs, init_notebook_mode, plot, iplot\n",
    "init_notebook_mode(connected=True)\n",
    "cf.go_offline()"
   ]
  },
  {
   "cell_type": "code",
   "execution_count": 99,
   "metadata": {},
   "outputs": [
    {
     "data": {
      "text/html": [
       "<div>\n",
       "<style scoped>\n",
       "    .dataframe tbody tr th:only-of-type {\n",
       "        vertical-align: middle;\n",
       "    }\n",
       "\n",
       "    .dataframe tbody tr th {\n",
       "        vertical-align: top;\n",
       "    }\n",
       "\n",
       "    .dataframe thead th {\n",
       "        text-align: right;\n",
       "    }\n",
       "</style>\n",
       "<table border=\"1\" class=\"dataframe\">\n",
       "  <thead>\n",
       "    <tr style=\"text-align: right;\">\n",
       "      <th></th>\n",
       "      <th>ASIC Model</th>\n",
       "      <th>Consumption(Watts)</th>\n",
       "      <th>Hash Power (Th/s)</th>\n",
       "      <th>Cost</th>\n",
       "      <th>Power Efficiency (J/T)</th>\n",
       "      <th>Cost Efficiency ($/Th)</th>\n",
       "      <th>WattDollar</th>\n",
       "      <th>Denver's Derivative</th>\n",
       "      <th>Hashprice</th>\n",
       "      <th>Elongated Hashprice</th>\n",
       "    </tr>\n",
       "  </thead>\n",
       "  <tbody>\n",
       "    <tr>\n",
       "      <th>0</th>\n",
       "      <td>Antminer S19Pro</td>\n",
       "      <td>3250</td>\n",
       "      <td>110</td>\n",
       "      <td>12000</td>\n",
       "      <td>29.5</td>\n",
       "      <td>109.090909</td>\n",
       "      <td>3218.181818</td>\n",
       "      <td>46.371496</td>\n",
       "      <td>0.2</td>\n",
       "      <td>69.4</td>\n",
       "    </tr>\n",
       "    <tr>\n",
       "      <th>1</th>\n",
       "      <td>Antminer S19jPro</td>\n",
       "      <td>3068</td>\n",
       "      <td>104</td>\n",
       "      <td>9984</td>\n",
       "      <td>29.5</td>\n",
       "      <td>96.000000</td>\n",
       "      <td>2832.000000</td>\n",
       "      <td>40.806916</td>\n",
       "      <td>0.2</td>\n",
       "      <td>69.4</td>\n",
       "    </tr>\n",
       "    <tr>\n",
       "      <th>2</th>\n",
       "      <td>Antminer S19Pro + Hyd</td>\n",
       "      <td>5445</td>\n",
       "      <td>198</td>\n",
       "      <td>15048</td>\n",
       "      <td>27.5</td>\n",
       "      <td>76.000000</td>\n",
       "      <td>2090.000000</td>\n",
       "      <td>30.115274</td>\n",
       "      <td>0.2</td>\n",
       "      <td>69.4</td>\n",
       "    </tr>\n",
       "    <tr>\n",
       "      <th>3</th>\n",
       "      <td>Antminer S19XP</td>\n",
       "      <td>3010</td>\n",
       "      <td>140</td>\n",
       "      <td>11620</td>\n",
       "      <td>21.5</td>\n",
       "      <td>83.000000</td>\n",
       "      <td>1784.500000</td>\n",
       "      <td>25.713256</td>\n",
       "      <td>0.2</td>\n",
       "      <td>69.4</td>\n",
       "    </tr>\n",
       "    <tr>\n",
       "      <th>4</th>\n",
       "      <td>Whatsminer M30s++ 112</td>\n",
       "      <td>3472</td>\n",
       "      <td>112</td>\n",
       "      <td>13035</td>\n",
       "      <td>31.0</td>\n",
       "      <td>116.383929</td>\n",
       "      <td>3607.901786</td>\n",
       "      <td>51.987057</td>\n",
       "      <td>0.2</td>\n",
       "      <td>69.4</td>\n",
       "    </tr>\n",
       "    <tr>\n",
       "      <th>5</th>\n",
       "      <td>Whatsminer M30s++ 106 (neq)</td>\n",
       "      <td>3286</td>\n",
       "      <td>106</td>\n",
       "      <td>8100</td>\n",
       "      <td>31.0</td>\n",
       "      <td>76.415094</td>\n",
       "      <td>2368.867925</td>\n",
       "      <td>34.133544</td>\n",
       "      <td>0.2</td>\n",
       "      <td>69.4</td>\n",
       "    </tr>\n",
       "    <tr>\n",
       "      <th>6</th>\n",
       "      <td>Whatsminer M32</td>\n",
       "      <td>3312</td>\n",
       "      <td>68</td>\n",
       "      <td>3557</td>\n",
       "      <td>50.0</td>\n",
       "      <td>52.308824</td>\n",
       "      <td>2615.441176</td>\n",
       "      <td>37.686472</td>\n",
       "      <td>0.2</td>\n",
       "      <td>69.4</td>\n",
       "    </tr>\n",
       "  </tbody>\n",
       "</table>\n",
       "</div>"
      ],
      "text/plain": [
       "                    ASIC Model  Consumption(Watts)  Hash Power (Th/s)   Cost  \\\n",
       "0              Antminer S19Pro                3250                110  12000   \n",
       "1             Antminer S19jPro                3068                104   9984   \n",
       "2        Antminer S19Pro + Hyd                5445                198  15048   \n",
       "3               Antminer S19XP                3010                140  11620   \n",
       "4        Whatsminer M30s++ 112                3472                112  13035   \n",
       "5  Whatsminer M30s++ 106 (neq)                3286                106   8100   \n",
       "6               Whatsminer M32                3312                 68   3557   \n",
       "\n",
       "   Power Efficiency (J/T)  Cost Efficiency ($/Th)   WattDollar  \\\n",
       "0                    29.5              109.090909  3218.181818   \n",
       "1                    29.5               96.000000  2832.000000   \n",
       "2                    27.5               76.000000  2090.000000   \n",
       "3                    21.5               83.000000  1784.500000   \n",
       "4                    31.0              116.383929  3607.901786   \n",
       "5                    31.0               76.415094  2368.867925   \n",
       "6                    50.0               52.308824  2615.441176   \n",
       "\n",
       "   Denver's Derivative  Hashprice  Elongated Hashprice  \n",
       "0            46.371496        0.2                 69.4  \n",
       "1            40.806916        0.2                 69.4  \n",
       "2            30.115274        0.2                 69.4  \n",
       "3            25.713256        0.2                 69.4  \n",
       "4            51.987057        0.2                 69.4  \n",
       "5            34.133544        0.2                 69.4  \n",
       "6            37.686472        0.2                 69.4  "
      ]
     },
     "execution_count": 99,
     "metadata": {},
     "output_type": "execute_result"
    }
   ],
   "source": [
    "miner_info = pd.read_excel('Miner_Info.xlsx')\n",
    "miner_info_asics = pd.read_excel('Miner_Info.xlsx ','DenverAsics (2)')\n",
    "miner_info.head()\n",
    "miner_info_asics.head()\n",
    "miner_info_asics.dropna()"
   ]
  },
  {
   "cell_type": "code",
   "execution_count": 133,
   "metadata": {},
   "outputs": [
    {
     "data": {
      "application/vnd.plotly.v1+json": {
       "config": {
        "plotlyServerURL": "https://plot.ly"
       },
       "data": [
        {
         "hovertemplate": "Product=AntMiner S1 [1]<br>Hashrate(Th/s)=%{x}<br>Power Efficiency (J/Th)=%{y}<extra></extra>",
         "legendgroup": "AntMiner S1 [1]",
         "marker": {
          "color": "#636efa",
          "symbol": "circle"
         },
         "mode": "markers",
         "name": "AntMiner S1 [1]",
         "orientation": "v",
         "showlegend": true,
         "type": "scatter",
         "x": [
          0.18
         ],
         "xaxis": "x",
         "y": [
          2000
         ],
         "yaxis": "y"
        },
        {
         "hovertemplate": "Product=AntMiner S2 [3]<br>Hashrate(Th/s)=%{x}<br>Power Efficiency (J/Th)=%{y}<extra></extra>",
         "legendgroup": "AntMiner S2 [3]",
         "marker": {
          "color": "#EF553B",
          "symbol": "circle"
         },
         "mode": "markers",
         "name": "AntMiner S2 [3]",
         "orientation": "v",
         "showlegend": true,
         "type": "scatter",
         "x": [
          1
         ],
         "xaxis": "x",
         "y": [
          1100
         ],
         "yaxis": "y"
        },
        {
         "hovertemplate": "Product=AntMiner S3 [4]<br>Hashrate(Th/s)=%{x}<br>Power Efficiency (J/Th)=%{y}<extra></extra>",
         "legendgroup": "AntMiner S3 [4]",
         "marker": {
          "color": "#00cc96",
          "symbol": "circle"
         },
         "mode": "markers",
         "name": "AntMiner S3 [4]",
         "orientation": "v",
         "showlegend": true,
         "type": "scatter",
         "x": [
          0.441
         ],
         "xaxis": "x",
         "y": [
          770.9750566893424
         ],
         "yaxis": "y"
        },
        {
         "hovertemplate": "Product=AntMiner S4 [5]<br>Hashrate(Th/s)=%{x}<br>Power Efficiency (J/Th)=%{y}<extra></extra>",
         "legendgroup": "AntMiner S4 [5]",
         "marker": {
          "color": "#ab63fa",
          "symbol": "circle"
         },
         "mode": "markers",
         "name": "AntMiner S4 [5]",
         "orientation": "v",
         "showlegend": true,
         "type": "scatter",
         "x": [
          2
         ],
         "xaxis": "x",
         "y": [
          700
         ],
         "yaxis": "y"
        },
        {
         "hovertemplate": "Product=AntMiner S5 [6]<br>Hashrate(Th/s)=%{x}<br>Power Efficiency (J/Th)=%{y}<extra></extra>",
         "legendgroup": "AntMiner S5 [6]",
         "marker": {
          "color": "#FFA15A",
          "symbol": "circle"
         },
         "mode": "markers",
         "name": "AntMiner S5 [6]",
         "orientation": "v",
         "showlegend": true,
         "type": "scatter",
         "x": [
          1.155
         ],
         "xaxis": "x",
         "y": [
          510.8225108225108
         ],
         "yaxis": "y"
        },
        {
         "hovertemplate": "Product=AntMiner S5+ [7]<br>Hashrate(Th/s)=%{x}<br>Power Efficiency (J/Th)=%{y}<extra></extra>",
         "legendgroup": "AntMiner S5+ [7]",
         "marker": {
          "color": "#19d3f3",
          "symbol": "circle"
         },
         "mode": "markers",
         "name": "AntMiner S5+ [7]",
         "orientation": "v",
         "showlegend": true,
         "type": "scatter",
         "x": [
          7.722
         ],
         "xaxis": "x",
         "y": [
          444.9624449624449
         ],
         "yaxis": "y"
        },
        {
         "hovertemplate": "Product=AntMiner S7 [8]<br>Hashrate(Th/s)=%{x}<br>Power Efficiency (J/Th)=%{y}<extra></extra>",
         "legendgroup": "AntMiner S7 [8]",
         "marker": {
          "color": "#FF6692",
          "symbol": "circle"
         },
         "mode": "markers",
         "name": "AntMiner S7 [8]",
         "orientation": "v",
         "showlegend": true,
         "type": "scatter",
         "x": [
          4.86
         ],
         "xaxis": "x",
         "y": [
          248.97119341563786
         ],
         "yaxis": "y"
        },
        {
         "hovertemplate": "Product=AntMiner S9 [9]<br>Hashrate(Th/s)=%{x}<br>Power Efficiency (J/Th)=%{y}<extra></extra>",
         "legendgroup": "AntMiner S9 [9]",
         "marker": {
          "color": "#B6E880",
          "symbol": "circle"
         },
         "mode": "markers",
         "name": "AntMiner S9 [9]",
         "orientation": "v",
         "showlegend": true,
         "type": "scatter",
         "x": [
          14
         ],
         "xaxis": "x",
         "y": [
          98.21428571428571
         ],
         "yaxis": "y"
        },
        {
         "hovertemplate": "Product=AntMiner U1 [10]<br>Hashrate(Th/s)=%{x}<br>Power Efficiency (J/Th)=%{y}<extra></extra>",
         "legendgroup": "AntMiner U1 [10]",
         "marker": {
          "color": "#FF97FF",
          "symbol": "circle"
         },
         "mode": "markers",
         "name": "AntMiner U1 [10]",
         "orientation": "v",
         "showlegend": true,
         "type": "scatter",
         "x": [
          0.0016
         ],
         "xaxis": "x",
         "y": [
          1250
         ],
         "yaxis": "y"
        },
        {
         "hovertemplate": "Product=AntMiner U2+ [11]<br>Hashrate(Th/s)=%{x}<br>Power Efficiency (J/Th)=%{y}<extra></extra>",
         "legendgroup": "AntMiner U2+ [11]",
         "marker": {
          "color": "#FECB52",
          "symbol": "circle"
         },
         "mode": "markers",
         "name": "AntMiner U2+ [11]",
         "orientation": "v",
         "showlegend": true,
         "type": "scatter",
         "x": [
          0.002
         ],
         "xaxis": "x",
         "y": [
          1000
         ],
         "yaxis": "y"
        },
        {
         "hovertemplate": "Product=AntMiner U3 [12]<br>Hashrate(Th/s)=%{x}<br>Power Efficiency (J/Th)=%{y}<extra></extra>",
         "legendgroup": "AntMiner U3 [12]",
         "marker": {
          "color": "#636efa",
          "symbol": "circle"
         },
         "mode": "markers",
         "name": "AntMiner U3 [12]",
         "orientation": "v",
         "showlegend": true,
         "type": "scatter",
         "x": [
          0.063
         ],
         "xaxis": "x",
         "y": [
          1000
         ],
         "yaxis": "y"
        },
        {
         "hovertemplate": "Product=ASICMiner BE Blade<br>Hashrate(Th/s)=%{x}<br>Power Efficiency (J/Th)=%{y}<extra></extra>",
         "legendgroup": "ASICMiner BE Blade",
         "marker": {
          "color": "#EF553B",
          "symbol": "circle"
         },
         "mode": "markers",
         "name": "ASICMiner BE Blade",
         "orientation": "v",
         "showlegend": true,
         "type": "scatter",
         "x": [
          0.010752
         ],
         "xaxis": "x",
         "y": [
          7719.494047619048
         ],
         "yaxis": "y"
        },
        {
         "hovertemplate": "Product=ASICMiner BE Cube<br>Hashrate(Th/s)=%{x}<br>Power Efficiency (J/Th)=%{y}<extra></extra>",
         "legendgroup": "ASICMiner BE Cube",
         "marker": {
          "color": "#00cc96",
          "symbol": "circle"
         },
         "mode": "markers",
         "name": "ASICMiner BE Cube",
         "orientation": "v",
         "showlegend": true,
         "type": "scatter",
         "x": [
          0.03
         ],
         "xaxis": "x",
         "y": [
          6666.666666666667
         ],
         "yaxis": "y"
        },
        {
         "hovertemplate": "Product=ASICMiner BE Prisma [15]<br>Hashrate(Th/s)=%{x}<br>Power Efficiency (J/Th)=%{y}<extra></extra>",
         "legendgroup": "ASICMiner BE Prisma [15]",
         "marker": {
          "color": "#ab63fa",
          "symbol": "circle"
         },
         "mode": "markers",
         "name": "ASICMiner BE Prisma [15]",
         "orientation": "v",
         "showlegend": true,
         "type": "scatter",
         "x": [
          1.4
         ],
         "xaxis": "x",
         "y": [
          785.7142857142858
         ],
         "yaxis": "y"
        },
        {
         "hovertemplate": "Product=ASICMiner BE Sapphire<br>Hashrate(Th/s)=%{x}<br>Power Efficiency (J/Th)=%{y}<extra></extra>",
         "legendgroup": "ASICMiner BE Sapphire",
         "marker": {
          "color": "#FFA15A",
          "symbol": "circle"
         },
         "mode": "markers",
         "name": "ASICMiner BE Sapphire",
         "orientation": "v",
         "showlegend": true,
         "type": "scatter",
         "x": [
          0.000336
         ],
         "xaxis": "x",
         "y": [
          7589.285714285714
         ],
         "yaxis": "y"
        },
        {
         "hovertemplate": "Product=ASICMiner BE Tube [14]<br>Hashrate(Th/s)=%{x}<br>Power Efficiency (J/Th)=%{y}<extra></extra>",
         "legendgroup": "ASICMiner BE Tube [14]",
         "marker": {
          "color": "#19d3f3",
          "symbol": "circle"
         },
         "mode": "markers",
         "name": "ASICMiner BE Tube [14]",
         "orientation": "v",
         "showlegend": true,
         "type": "scatter",
         "x": [
          0.8
         ],
         "xaxis": "x",
         "y": [
          1125
         ],
         "yaxis": "y"
        },
        {
         "hovertemplate": "Product=Avalon Batch 1<br>Hashrate(Th/s)=%{x}<br>Power Efficiency (J/Th)=%{y}<extra></extra>",
         "legendgroup": "Avalon Batch 1",
         "marker": {
          "color": "#FF6692",
          "symbol": "circle"
         },
         "mode": "markers",
         "name": "Avalon Batch 1",
         "orientation": "v",
         "showlegend": true,
         "type": "scatter",
         "x": [
          0.0663
         ],
         "xaxis": "x",
         "y": [
          9351.432880844646
         ],
         "yaxis": "y"
        },
        {
         "hovertemplate": "Product=Avalon Batch 2<br>Hashrate(Th/s)=%{x}<br>Power Efficiency (J/Th)=%{y}<extra></extra>",
         "legendgroup": "Avalon Batch 2",
         "marker": {
          "color": "#B6E880",
          "symbol": "circle"
         },
         "mode": "markers",
         "name": "Avalon Batch 2",
         "orientation": "v",
         "showlegend": true,
         "type": "scatter",
         "x": [
          0.082
         ],
         "xaxis": "x",
         "y": [
          8536.585365853658
         ],
         "yaxis": "y"
        },
        {
         "hovertemplate": "Product=Avalon Batch 3<br>Hashrate(Th/s)=%{x}<br>Power Efficiency (J/Th)=%{y}<extra></extra>",
         "legendgroup": "Avalon Batch 3",
         "marker": {
          "color": "#FF97FF",
          "symbol": "circle"
         },
         "mode": "markers",
         "name": "Avalon Batch 3",
         "orientation": "v",
         "showlegend": true,
         "type": "scatter",
         "x": [
          0.082
         ],
         "xaxis": "x",
         "y": [
          8536.585365853658
         ],
         "yaxis": "y"
        },
        {
         "hovertemplate": "Product=Avalon2<br>Hashrate(Th/s)=%{x}<br>Power Efficiency (J/Th)=%{y}<extra></extra>",
         "legendgroup": "Avalon2",
         "marker": {
          "color": "#FECB52",
          "symbol": "circle"
         },
         "mode": "markers",
         "name": "Avalon2",
         "orientation": "v",
         "showlegend": true,
         "type": "scatter",
         "x": [
          0.3
         ],
         "xaxis": "x",
         "y": [
          0
         ],
         "yaxis": "y"
        },
        {
         "hovertemplate": "Product=Avalon3<br>Hashrate(Th/s)=%{x}<br>Power Efficiency (J/Th)=%{y}<extra></extra>",
         "legendgroup": "Avalon3",
         "marker": {
          "color": "#636efa",
          "symbol": "circle"
         },
         "mode": "markers",
         "name": "Avalon3",
         "orientation": "v",
         "showlegend": true,
         "type": "scatter",
         "x": [
          0.8
         ],
         "xaxis": "x",
         "y": [
          0
         ],
         "yaxis": "y"
        },
        {
         "hovertemplate": "Product=Avalon6<br>Hashrate(Th/s)=%{x}<br>Power Efficiency (J/Th)=%{y}<extra></extra>",
         "legendgroup": "Avalon6",
         "marker": {
          "color": "#EF553B",
          "symbol": "circle"
         },
         "mode": "markers",
         "name": "Avalon6",
         "orientation": "v",
         "showlegend": true,
         "type": "scatter",
         "x": [
          3.5
         ],
         "xaxis": "x",
         "y": [
          308.57142857142856
         ],
         "yaxis": "y"
        },
        {
         "hovertemplate": "Product=Avalon721<br>Hashrate(Th/s)=%{x}<br>Power Efficiency (J/Th)=%{y}<extra></extra>",
         "legendgroup": "Avalon721",
         "marker": {
          "color": "#00cc96",
          "symbol": "circle"
         },
         "mode": "markers",
         "name": "Avalon721",
         "orientation": "v",
         "showlegend": true,
         "type": "scatter",
         "x": [
          6
         ],
         "xaxis": "x",
         "y": [
          166.66666666666666
         ],
         "yaxis": "y"
        },
        {
         "hovertemplate": "Product=Avalon741<br>Hashrate(Th/s)=%{x}<br>Power Efficiency (J/Th)=%{y}<extra></extra>",
         "legendgroup": "Avalon741",
         "marker": {
          "color": "#ab63fa",
          "symbol": "circle"
         },
         "mode": "markers",
         "name": "Avalon741",
         "orientation": "v",
         "showlegend": true,
         "type": "scatter",
         "x": [
          7.3
         ],
         "xaxis": "x",
         "y": [
          157.53424657534248
         ],
         "yaxis": "y"
        },
        {
         "hovertemplate": "Product=Avalon761<br>Hashrate(Th/s)=%{x}<br>Power Efficiency (J/Th)=%{y}<extra></extra>",
         "legendgroup": "Avalon761",
         "marker": {
          "color": "#FFA15A",
          "symbol": "circle"
         },
         "mode": "markers",
         "name": "Avalon761",
         "orientation": "v",
         "showlegend": true,
         "type": "scatter",
         "x": [
          8.8
         ],
         "xaxis": "x",
         "y": [
          150
         ],
         "yaxis": "y"
        },
        {
         "hovertemplate": "Product=Avalon821<br>Hashrate(Th/s)=%{x}<br>Power Efficiency (J/Th)=%{y}<extra></extra>",
         "legendgroup": "Avalon821",
         "marker": {
          "color": "#19d3f3",
          "symbol": "circle"
         },
         "mode": "markers",
         "name": "Avalon821",
         "orientation": "v",
         "showlegend": true,
         "type": "scatter",
         "x": [
          11
         ],
         "xaxis": "x",
         "y": [
          109.0909090909091
         ],
         "yaxis": "y"
        },
        {
         "hovertemplate": "Product=BFL 230 GH/s Rack Mount[18]<br>Hashrate(Th/s)=%{x}<br>Power Efficiency (J/Th)=%{y}<extra></extra>",
         "legendgroup": "BFL 230 GH/s Rack Mount[18]",
         "marker": {
          "color": "#FF6692",
          "symbol": "circle"
         },
         "mode": "markers",
         "name": "BFL 230 GH/s Rack Mount[18]",
         "orientation": "v",
         "showlegend": true,
         "type": "scatter",
         "x": [
          0.23
         ],
         "xaxis": "x",
         "y": [
          0
         ],
         "yaxis": "y"
        },
        {
         "hovertemplate": "Product=BFL 500 GH/s Mini Rig SC<br>Hashrate(Th/s)=%{x}<br>Power Efficiency (J/Th)=%{y}<extra></extra>",
         "legendgroup": "BFL 500 GH/s Mini Rig SC",
         "marker": {
          "color": "#B6E880",
          "symbol": "circle"
         },
         "mode": "markers",
         "name": "BFL 500 GH/s Mini Rig SC",
         "orientation": "v",
         "showlegend": true,
         "type": "scatter",
         "x": [
          0.5
         ],
         "xaxis": "x",
         "y": [
          5400
         ],
         "yaxis": "y"
        },
        {
         "hovertemplate": "Product=BFL Little Single<br>Hashrate(Th/s)=%{x}<br>Power Efficiency (J/Th)=%{y}<extra></extra>",
         "legendgroup": "BFL Little Single",
         "marker": {
          "color": "#FF97FF",
          "symbol": "circle"
         },
         "mode": "markers",
         "name": "BFL Little Single",
         "orientation": "v",
         "showlegend": true,
         "type": "scatter",
         "x": [
          0.03
         ],
         "xaxis": "x",
         "y": [
          0
         ],
         "yaxis": "y"
        },
        {
         "hovertemplate": "Product=BFL Monarch 700GH/s[19]<br>Hashrate(Th/s)=%{x}<br>Power Efficiency (J/Th)=%{y}<extra></extra>",
         "legendgroup": "BFL Monarch 700GH/s[19]",
         "marker": {
          "color": "#FECB52",
          "symbol": "circle"
         },
         "mode": "markers",
         "name": "BFL Monarch 700GH/s[19]",
         "orientation": "v",
         "showlegend": true,
         "type": "scatter",
         "x": [
          0.7
         ],
         "xaxis": "x",
         "y": [
          700
         ],
         "yaxis": "y"
        },
        {
         "hovertemplate": "Product=BFL SC 10 Gh/s<br>Hashrate(Th/s)=%{x}<br>Power Efficiency (J/Th)=%{y}<extra></extra>",
         "legendgroup": "BFL SC 10 Gh/s",
         "marker": {
          "color": "#636efa",
          "symbol": "circle"
         },
         "mode": "markers",
         "name": "BFL SC 10 Gh/s",
         "orientation": "v",
         "showlegend": true,
         "type": "scatter",
         "x": [
          0.01
         ],
         "xaxis": "x",
         "y": [
          0
         ],
         "yaxis": "y"
        },
        {
         "hovertemplate": "Product=BFL SC 25 Gh/s<br>Hashrate(Th/s)=%{x}<br>Power Efficiency (J/Th)=%{y}<extra></extra>",
         "legendgroup": "BFL SC 25 Gh/s",
         "marker": {
          "color": "#EF553B",
          "symbol": "circle"
         },
         "mode": "markers",
         "name": "BFL SC 25 Gh/s",
         "orientation": "v",
         "showlegend": true,
         "type": "scatter",
         "x": [
          0.025
         ],
         "xaxis": "x",
         "y": [
          6000
         ],
         "yaxis": "y"
        },
        {
         "hovertemplate": "Product=BFL SC 50 Gh/s<br>Hashrate(Th/s)=%{x}<br>Power Efficiency (J/Th)=%{y}<extra></extra>",
         "legendgroup": "BFL SC 50 Gh/s",
         "marker": {
          "color": "#00cc96",
          "symbol": "circle"
         },
         "mode": "markers",
         "name": "BFL SC 50 Gh/s",
         "orientation": "v",
         "showlegend": true,
         "type": "scatter",
         "x": [
          0.05
         ],
         "xaxis": "x",
         "y": [
          6000
         ],
         "yaxis": "y"
        },
        {
         "hovertemplate": "Product=BFL SC 5Gh/s<br>Hashrate(Th/s)=%{x}<br>Power Efficiency (J/Th)=%{y}<extra></extra>",
         "legendgroup": "BFL SC 5Gh/s",
         "marker": {
          "color": "#ab63fa",
          "symbol": "circle"
         },
         "mode": "markers",
         "name": "BFL SC 5Gh/s",
         "orientation": "v",
         "showlegend": true,
         "type": "scatter",
         "x": [
          0.005
         ],
         "xaxis": "x",
         "y": [
          6000
         ],
         "yaxis": "y"
        },
        {
         "hovertemplate": "Product=BFL Single 'SC'<br>Hashrate(Th/s)=%{x}<br>Power Efficiency (J/Th)=%{y}<extra></extra>",
         "legendgroup": "BFL Single 'SC'",
         "marker": {
          "color": "#FFA15A",
          "symbol": "circle"
         },
         "mode": "markers",
         "name": "BFL Single 'SC'",
         "orientation": "v",
         "showlegend": true,
         "type": "scatter",
         "x": [
          0.06
         ],
         "xaxis": "x",
         "y": [
          4000
         ],
         "yaxis": "y"
        },
        {
         "hovertemplate": "Product=bi*fury<br>Hashrate(Th/s)=%{x}<br>Power Efficiency (J/Th)=%{y}<extra></extra>",
         "legendgroup": "bi*fury",
         "marker": {
          "color": "#19d3f3",
          "symbol": "circle"
         },
         "mode": "markers",
         "name": "bi*fury",
         "orientation": "v",
         "showlegend": true,
         "type": "scatter",
         "x": [
          0.005
         ],
         "xaxis": "x",
         "y": [
          850
         ],
         "yaxis": "y"
        },
        {
         "hovertemplate": "Product=BitFury S.B.<br>Hashrate(Th/s)=%{x}<br>Power Efficiency (J/Th)=%{y}<extra></extra>",
         "legendgroup": "BitFury S.B.",
         "marker": {
          "color": "#FF6692",
          "symbol": "circle"
         },
         "mode": "markers",
         "name": "BitFury S.B.",
         "orientation": "v",
         "showlegend": true,
         "type": "scatter",
         "x": [
          0
         ],
         "xaxis": "x",
         "y": [
          null
         ],
         "yaxis": "y"
        },
        {
         "hovertemplate": "Product=Bitmine.ch Avalon Clone 85GH<br>Hashrate(Th/s)=%{x}<br>Power Efficiency (J/Th)=%{y}<extra></extra>",
         "legendgroup": "Bitmine.ch Avalon Clone 85GH",
         "marker": {
          "color": "#B6E880",
          "symbol": "circle"
         },
         "mode": "markers",
         "name": "Bitmine.ch Avalon Clone 85GH",
         "orientation": "v",
         "showlegend": true,
         "type": "scatter",
         "x": [
          0.085
         ],
         "xaxis": "x",
         "y": [
          7647.058823529411
         ],
         "yaxis": "y"
        },
        {
         "hovertemplate": "Product=Black Arrow Prospero X-1<br>Hashrate(Th/s)=%{x}<br>Power Efficiency (J/Th)=%{y}<extra></extra>",
         "legendgroup": "Black Arrow Prospero X-1",
         "marker": {
          "color": "#FF97FF",
          "symbol": "circle"
         },
         "mode": "markers",
         "name": "Black Arrow Prospero X-1",
         "orientation": "v",
         "showlegend": true,
         "type": "scatter",
         "x": [
          0.1
         ],
         "xaxis": "x",
         "y": [
          1000
         ],
         "yaxis": "y"
        },
        {
         "hovertemplate": "Product=Black Arrow Prospero X-3<br>Hashrate(Th/s)=%{x}<br>Power Efficiency (J/Th)=%{y}<extra></extra>",
         "legendgroup": "Black Arrow Prospero X-3",
         "marker": {
          "color": "#FECB52",
          "symbol": "circle"
         },
         "mode": "markers",
         "name": "Black Arrow Prospero X-3",
         "orientation": "v",
         "showlegend": true,
         "type": "scatter",
         "x": [
          2
         ],
         "xaxis": "x",
         "y": [
          1000
         ],
         "yaxis": "y"
        },
        {
         "hovertemplate": "Product=Blue Fury<br>Hashrate(Th/s)=%{x}<br>Power Efficiency (J/Th)=%{y}<extra></extra>",
         "legendgroup": "Blue Fury",
         "marker": {
          "color": "#636efa",
          "symbol": "circle"
         },
         "mode": "markers",
         "name": "Blue Fury",
         "orientation": "v",
         "showlegend": true,
         "type": "scatter",
         "x": [
          0.0025
         ],
         "xaxis": "x",
         "y": [
          1000
         ],
         "yaxis": "y"
        },
        {
         "hovertemplate": "Product=BTC Garden AM-V1 310 GH/s[21]<br>Hashrate(Th/s)=%{x}<br>Power Efficiency (J/Th)=%{y}<extra></extra>",
         "legendgroup": "BTC Garden AM-V1 310 GH/s[21]",
         "marker": {
          "color": "#EF553B",
          "symbol": "circle"
         },
         "mode": "markers",
         "name": "BTC Garden AM-V1 310 GH/s[21]",
         "orientation": "v",
         "showlegend": true,
         "type": "scatter",
         "x": [
          0.31
         ],
         "xaxis": "x",
         "y": [
          1045.1612903225807
         ],
         "yaxis": "y"
        },
        {
         "hovertemplate": "Product=BTC Garden AM-V1 616 GH/s[21]<br>Hashrate(Th/s)=%{x}<br>Power Efficiency (J/Th)=%{y}<extra></extra>",
         "legendgroup": "BTC Garden AM-V1 616 GH/s[21]",
         "marker": {
          "color": "#00cc96",
          "symbol": "circle"
         },
         "mode": "markers",
         "name": "BTC Garden AM-V1 616 GH/s[21]",
         "orientation": "v",
         "showlegend": true,
         "type": "scatter",
         "x": [
          0.616
         ],
         "xaxis": "x",
         "y": [
          1051.948051948052
         ],
         "yaxis": "y"
        },
        {
         "hovertemplate": "Product=CoinTerra TerraMiner IV<br>Hashrate(Th/s)=%{x}<br>Power Efficiency (J/Th)=%{y}<extra></extra>",
         "legendgroup": "CoinTerra TerraMiner IV",
         "marker": {
          "color": "#ab63fa",
          "symbol": "circle"
         },
         "mode": "markers",
         "name": "CoinTerra TerraMiner IV",
         "orientation": "v",
         "showlegend": true,
         "type": "scatter",
         "x": [
          1.6
         ],
         "xaxis": "x",
         "y": [
          1312.5
         ],
         "yaxis": "y"
        },
        {
         "hovertemplate": "Product=Drillbit<br>Hashrate(Th/s)=%{x}<br>Power Efficiency (J/Th)=%{y}<extra></extra>",
         "legendgroup": "Drillbit",
         "marker": {
          "color": "#FFA15A",
          "symbol": "circle"
         },
         "mode": "markers",
         "name": "Drillbit",
         "orientation": "v",
         "showlegend": true,
         "type": "scatter",
         "x": [
          0
         ],
         "xaxis": "x",
         "y": [
          null
         ],
         "yaxis": "y"
        },
        {
         "hovertemplate": "Product=Ebit E10 [25]<br>Hashrate(Th/s)=%{x}<br>Power Efficiency (J/Th)=%{y}<extra></extra>",
         "legendgroup": "Ebit E10 [25]",
         "marker": {
          "color": "#19d3f3",
          "symbol": "circle"
         },
         "mode": "markers",
         "name": "Ebit E10 [25]",
         "orientation": "v",
         "showlegend": true,
         "type": "scatter",
         "x": [
          18
         ],
         "xaxis": "x",
         "y": [
          90
         ],
         "yaxis": "y"
        },
        {
         "hovertemplate": "Product=Ebit E9 [22]<br>Hashrate(Th/s)=%{x}<br>Power Efficiency (J/Th)=%{y}<extra></extra>",
         "legendgroup": "Ebit E9 [22]",
         "marker": {
          "color": "#FF6692",
          "symbol": "circle"
         },
         "mode": "markers",
         "name": "Ebit E9 [22]",
         "orientation": "v",
         "showlegend": true,
         "type": "scatter",
         "x": [
          6.3
         ],
         "xaxis": "x",
         "y": [
          140
         ],
         "yaxis": "y"
        },
        {
         "hovertemplate": "Product=Ebit E9+ [23]<br>Hashrate(Th/s)=%{x}<br>Power Efficiency (J/Th)=%{y}<extra></extra>",
         "legendgroup": "Ebit E9+ [23]",
         "marker": {
          "color": "#B6E880",
          "symbol": "circle"
         },
         "mode": "markers",
         "name": "Ebit E9+ [23]",
         "orientation": "v",
         "showlegend": true,
         "type": "scatter",
         "x": [
          9
         ],
         "xaxis": "x",
         "y": [
          144.44444444444446
         ],
         "yaxis": "y"
        },
        {
         "hovertemplate": "Product=Ebit E9++ [24]<br>Hashrate(Th/s)=%{x}<br>Power Efficiency (J/Th)=%{y}<extra></extra>",
         "legendgroup": "Ebit E9++ [24]",
         "marker": {
          "color": "#FF97FF",
          "symbol": "circle"
         },
         "mode": "markers",
         "name": "Ebit E9++ [24]",
         "orientation": "v",
         "showlegend": true,
         "type": "scatter",
         "x": [
          14
         ],
         "xaxis": "x",
         "y": [
          95
         ],
         "yaxis": "y"
        },
        {
         "hovertemplate": "Product=HashBuster Micro<br>Hashrate(Th/s)=%{x}<br>Power Efficiency (J/Th)=%{y}<extra></extra>",
         "legendgroup": "HashBuster Micro",
         "marker": {
          "color": "#FECB52",
          "symbol": "circle"
         },
         "mode": "markers",
         "name": "HashBuster Micro",
         "orientation": "v",
         "showlegend": true,
         "type": "scatter",
         "x": [
          0.02
         ],
         "xaxis": "x",
         "y": [
          1150
         ],
         "yaxis": "y"
        },
        {
         "hovertemplate": "Product=HashBuster Nano<br>Hashrate(Th/s)=%{x}<br>Power Efficiency (J/Th)=%{y}<extra></extra>",
         "legendgroup": "HashBuster Nano",
         "marker": {
          "color": "#636efa",
          "symbol": "circle"
         },
         "mode": "markers",
         "name": "HashBuster Nano",
         "orientation": "v",
         "showlegend": true,
         "type": "scatter",
         "x": [
          0
         ],
         "xaxis": "x",
         "y": [
          null
         ],
         "yaxis": "y"
        },
        {
         "hovertemplate": "Product=HashCoins Apollo v3<br>Hashrate(Th/s)=%{x}<br>Power Efficiency (J/Th)=%{y}<extra></extra>",
         "legendgroup": "HashCoins Apollo v3",
         "marker": {
          "color": "#EF553B",
          "symbol": "circle"
         },
         "mode": "markers",
         "name": "HashCoins Apollo v3",
         "orientation": "v",
         "showlegend": true,
         "type": "scatter",
         "x": [
          1.1
         ],
         "xaxis": "x",
         "y": [
          909.090909090909
         ],
         "yaxis": "y"
        },
        {
         "hovertemplate": "Product=HashCoins Zeus v3<br>Hashrate(Th/s)=%{x}<br>Power Efficiency (J/Th)=%{y}<extra></extra>",
         "legendgroup": "HashCoins Zeus v3",
         "marker": {
          "color": "#00cc96",
          "symbol": "circle"
         },
         "mode": "markers",
         "name": "HashCoins Zeus v3",
         "orientation": "v",
         "showlegend": true,
         "type": "scatter",
         "x": [
          4.5
         ],
         "xaxis": "x",
         "y": [
          666.6666666666666
         ],
         "yaxis": "y"
        },
        {
         "hovertemplate": "Product=HashFast Baby Jet<br>Hashrate(Th/s)=%{x}<br>Power Efficiency (J/Th)=%{y}<extra></extra>",
         "legendgroup": "HashFast Baby Jet",
         "marker": {
          "color": "#ab63fa",
          "symbol": "circle"
         },
         "mode": "markers",
         "name": "HashFast Baby Jet",
         "orientation": "v",
         "showlegend": true,
         "type": "scatter",
         "x": [
          0.4
         ],
         "xaxis": "x",
         "y": [
          1100
         ],
         "yaxis": "y"
        },
        {
         "hovertemplate": "Product=HashFast Sierra<br>Hashrate(Th/s)=%{x}<br>Power Efficiency (J/Th)=%{y}<extra></extra>",
         "legendgroup": "HashFast Sierra",
         "marker": {
          "color": "#FFA15A",
          "symbol": "circle"
         },
         "mode": "markers",
         "name": "HashFast Sierra",
         "orientation": "v",
         "showlegend": true,
         "type": "scatter",
         "x": [
          1.2
         ],
         "xaxis": "x",
         "y": [
          1100
         ],
         "yaxis": "y"
        },
        {
         "hovertemplate": "Product=HashFast Sierra Evo 3<br>Hashrate(Th/s)=%{x}<br>Power Efficiency (J/Th)=%{y}<extra></extra>",
         "legendgroup": "HashFast Sierra Evo 3",
         "marker": {
          "color": "#19d3f3",
          "symbol": "circle"
         },
         "mode": "markers",
         "name": "HashFast Sierra Evo 3",
         "orientation": "v",
         "showlegend": true,
         "type": "scatter",
         "x": [
          2
         ],
         "xaxis": "x",
         "y": [
          1100
         ],
         "yaxis": "y"
        },
        {
         "hovertemplate": "Product=Klondike<br>Hashrate(Th/s)=%{x}<br>Power Efficiency (J/Th)=%{y}<extra></extra>",
         "legendgroup": "Klondike",
         "marker": {
          "color": "#FF6692",
          "symbol": "circle"
         },
         "mode": "markers",
         "name": "Klondike",
         "orientation": "v",
         "showlegend": true,
         "type": "scatter",
         "x": [
          0.0052
         ],
         "xaxis": "x",
         "y": [
          6153.846153846154
         ],
         "yaxis": "y"
        },
        {
         "hovertemplate": "Product=KnC Jupiter<br>Hashrate(Th/s)=%{x}<br>Power Efficiency (J/Th)=%{y}<extra></extra>",
         "legendgroup": "KnC Jupiter",
         "marker": {
          "color": "#B6E880",
          "symbol": "circle"
         },
         "mode": "markers",
         "name": "KnC Jupiter",
         "orientation": "v",
         "showlegend": true,
         "type": "scatter",
         "x": [
          0.5
         ],
         "xaxis": "x",
         "y": [
          1200
         ],
         "yaxis": "y"
        },
        {
         "hovertemplate": "Product=KnC Neptune [28]<br>Hashrate(Th/s)=%{x}<br>Power Efficiency (J/Th)=%{y}<extra></extra>",
         "legendgroup": "KnC Neptune [28]",
         "marker": {
          "color": "#FF97FF",
          "symbol": "circle"
         },
         "mode": "markers",
         "name": "KnC Neptune [28]",
         "orientation": "v",
         "showlegend": true,
         "type": "scatter",
         "x": [
          3
         ],
         "xaxis": "x",
         "y": [
          700
         ],
         "yaxis": "y"
        },
        {
         "hovertemplate": "Product=KnC Saturn<br>Hashrate(Th/s)=%{x}<br>Power Efficiency (J/Th)=%{y}<extra></extra>",
         "legendgroup": "KnC Saturn",
         "marker": {
          "color": "#FECB52",
          "symbol": "circle"
         },
         "mode": "markers",
         "name": "KnC Saturn",
         "orientation": "v",
         "showlegend": true,
         "type": "scatter",
         "x": [
          0.25
         ],
         "xaxis": "x",
         "y": [
          1200
         ],
         "yaxis": "y"
        },
        {
         "hovertemplate": "Product=KnCMiner Mercury<br>Hashrate(Th/s)=%{x}<br>Power Efficiency (J/Th)=%{y}<extra></extra>",
         "legendgroup": "KnCMiner Mercury",
         "marker": {
          "color": "#636efa",
          "symbol": "circle"
         },
         "mode": "markers",
         "name": "KnCMiner Mercury",
         "orientation": "v",
         "showlegend": true,
         "type": "scatter",
         "x": [
          0.1
         ],
         "xaxis": "x",
         "y": [
          2500
         ],
         "yaxis": "y"
        },
        {
         "hovertemplate": "Product=LittleFury<br>Hashrate(Th/s)=%{x}<br>Power Efficiency (J/Th)=%{y}<extra></extra>",
         "legendgroup": "LittleFury",
         "marker": {
          "color": "#EF553B",
          "symbol": "circle"
         },
         "mode": "markers",
         "name": "LittleFury",
         "orientation": "v",
         "showlegend": true,
         "type": "scatter",
         "x": [
          0
         ],
         "xaxis": "x",
         "y": [
          null
         ],
         "yaxis": "y"
        },
        {
         "hovertemplate": "Product=Metabank<br>Hashrate(Th/s)=%{x}<br>Power Efficiency (J/Th)=%{y}<extra></extra>",
         "legendgroup": "Metabank",
         "marker": {
          "color": "#00cc96",
          "symbol": "circle"
         },
         "mode": "markers",
         "name": "Metabank",
         "orientation": "v",
         "showlegend": true,
         "type": "scatter",
         "x": [
          0.12
         ],
         "xaxis": "x",
         "y": [
          1416.6666666666667
         ],
         "yaxis": "y"
        },
        {
         "hovertemplate": "Product=NanoFury / IceFury<br>Hashrate(Th/s)=%{x}<br>Power Efficiency (J/Th)=%{y}<extra></extra>",
         "legendgroup": "NanoFury / IceFury",
         "marker": {
          "color": "#ab63fa",
          "symbol": "circle"
         },
         "mode": "markers",
         "name": "NanoFury / IceFury",
         "orientation": "v",
         "showlegend": true,
         "type": "scatter",
         "x": [
          0.002
         ],
         "xaxis": "x",
         "y": [
          1250
         ],
         "yaxis": "y"
        },
        {
         "hovertemplate": "Product=NanoFury NF2<br>Hashrate(Th/s)=%{x}<br>Power Efficiency (J/Th)=%{y}<extra></extra>",
         "legendgroup": "NanoFury NF2",
         "marker": {
          "color": "#FFA15A",
          "symbol": "circle"
         },
         "mode": "markers",
         "name": "NanoFury NF2",
         "orientation": "v",
         "showlegend": true,
         "type": "scatter",
         "x": [
          0.0037
         ],
         "xaxis": "x",
         "y": [
          1351.3513513513512
         ],
         "yaxis": "y"
        },
        {
         "hovertemplate": "Product=Red/BlueFury<br>Hashrate(Th/s)=%{x}<br>Power Efficiency (J/Th)=%{y}<extra></extra>",
         "legendgroup": "Red/BlueFury",
         "marker": {
          "color": "#19d3f3",
          "symbol": "circle"
         },
         "mode": "markers",
         "name": "Red/BlueFury",
         "orientation": "v",
         "showlegend": true,
         "type": "scatter",
         "x": [
          0.0026
         ],
         "xaxis": "x",
         "y": [
          961.5384615384615
         ],
         "yaxis": "y"
        },
        {
         "hovertemplate": "Product=ROCKMINER R-BOX 110G[30]<br>Hashrate(Th/s)=%{x}<br>Power Efficiency (J/Th)=%{y}<extra></extra>",
         "legendgroup": "ROCKMINER R-BOX 110G[30]",
         "marker": {
          "color": "#FF6692",
          "symbol": "circle"
         },
         "mode": "markers",
         "name": "ROCKMINER R-BOX 110G[30]",
         "orientation": "v",
         "showlegend": true,
         "type": "scatter",
         "x": [
          0.11
         ],
         "xaxis": "x",
         "y": [
          1090.909090909091
         ],
         "yaxis": "y"
        },
        {
         "hovertemplate": "Product=ROCKMINER R-BOX[30]<br>Hashrate(Th/s)=%{x}<br>Power Efficiency (J/Th)=%{y}<extra></extra>",
         "legendgroup": "ROCKMINER R-BOX[30]",
         "marker": {
          "color": "#B6E880",
          "symbol": "circle"
         },
         "mode": "markers",
         "name": "ROCKMINER R-BOX[30]",
         "orientation": "v",
         "showlegend": true,
         "type": "scatter",
         "x": [
          0.032
         ],
         "xaxis": "x",
         "y": [
          1406.25
         ],
         "yaxis": "y"
        },
        {
         "hovertemplate": "Product=ROCKMINER R3-BOX[30]<br>Hashrate(Th/s)=%{x}<br>Power Efficiency (J/Th)=%{y}<extra></extra>",
         "legendgroup": "ROCKMINER R3-BOX[30]",
         "marker": {
          "color": "#FF97FF",
          "symbol": "circle"
         },
         "mode": "markers",
         "name": "ROCKMINER R3-BOX[30]",
         "orientation": "v",
         "showlegend": true,
         "type": "scatter",
         "x": [
          0.45
         ],
         "xaxis": "x",
         "y": [
          1000
         ],
         "yaxis": "y"
        },
        {
         "hovertemplate": "Product=ROCKMINER R4-BOX[30]<br>Hashrate(Th/s)=%{x}<br>Power Efficiency (J/Th)=%{y}<extra></extra>",
         "legendgroup": "ROCKMINER R4-BOX[30]",
         "marker": {
          "color": "#FECB52",
          "symbol": "circle"
         },
         "mode": "markers",
         "name": "ROCKMINER R4-BOX[30]",
         "orientation": "v",
         "showlegend": true,
         "type": "scatter",
         "x": [
          0.47
         ],
         "xaxis": "x",
         "y": [
          1000
         ],
         "yaxis": "y"
        },
        {
         "hovertemplate": "Product=ROCKMINER Rocket BOX [30]<br>Hashrate(Th/s)=%{x}<br>Power Efficiency (J/Th)=%{y}<extra></extra>",
         "legendgroup": "ROCKMINER Rocket BOX [30]",
         "marker": {
          "color": "#636efa",
          "symbol": "circle"
         },
         "mode": "markers",
         "name": "ROCKMINER Rocket BOX [30]",
         "orientation": "v",
         "showlegend": true,
         "type": "scatter",
         "x": [
          0.45
         ],
         "xaxis": "x",
         "y": [
          1066.6666666666667
         ],
         "yaxis": "y"
        },
        {
         "hovertemplate": "Product=ROCKMINER T1 800G[30]<br>Hashrate(Th/s)=%{x}<br>Power Efficiency (J/Th)=%{y}<extra></extra>",
         "legendgroup": "ROCKMINER T1 800G[30]",
         "marker": {
          "color": "#EF553B",
          "symbol": "circle"
         },
         "mode": "markers",
         "name": "ROCKMINER T1 800G[30]",
         "orientation": "v",
         "showlegend": true,
         "type": "scatter",
         "x": [
          0.8
         ],
         "xaxis": "x",
         "y": [
          1250
         ],
         "yaxis": "y"
        },
        {
         "hovertemplate": "Product=Spondooliestech SP10 Dawson[31]<br>Hashrate(Th/s)=%{x}<br>Power Efficiency (J/Th)=%{y}<extra></extra>",
         "legendgroup": "Spondooliestech SP10 Dawson[31]",
         "marker": {
          "color": "#00cc96",
          "symbol": "circle"
         },
         "mode": "markers",
         "name": "Spondooliestech SP10 Dawson[31]",
         "orientation": "v",
         "showlegend": true,
         "type": "scatter",
         "x": [
          1.4
         ],
         "xaxis": "x",
         "y": [
          892.8571428571429
         ],
         "yaxis": "y"
        },
        {
         "hovertemplate": "Product=Spondooliestech SP20 Jackson[32]<br>Hashrate(Th/s)=%{x}<br>Power Efficiency (J/Th)=%{y}<extra></extra>",
         "legendgroup": "Spondooliestech SP20 Jackson[32]",
         "marker": {
          "color": "#ab63fa",
          "symbol": "circle"
         },
         "mode": "markers",
         "name": "Spondooliestech SP20 Jackson[32]",
         "orientation": "v",
         "showlegend": true,
         "type": "scatter",
         "x": [
          1.7
         ],
         "xaxis": "x",
         "y": [
          647.0588235294118
         ],
         "yaxis": "y"
        },
        {
         "hovertemplate": "Product=Spondooliestech SP30 Yukon[33]<br>Hashrate(Th/s)=%{x}<br>Power Efficiency (J/Th)=%{y}<extra></extra>",
         "legendgroup": "Spondooliestech SP30 Yukon[33]",
         "marker": {
          "color": "#FFA15A",
          "symbol": "circle"
         },
         "mode": "markers",
         "name": "Spondooliestech SP30 Yukon[33]",
         "orientation": "v",
         "showlegend": true,
         "type": "scatter",
         "x": [
          4.5
         ],
         "xaxis": "x",
         "y": [
          666.6666666666666
         ],
         "yaxis": "y"
        },
        {
         "hovertemplate": "Product=Spondooliestech SP31 Yukon[34]<br>Hashrate(Th/s)=%{x}<br>Power Efficiency (J/Th)=%{y}<extra></extra>",
         "legendgroup": "Spondooliestech SP31 Yukon[34]",
         "marker": {
          "color": "#19d3f3",
          "symbol": "circle"
         },
         "mode": "markers",
         "name": "Spondooliestech SP31 Yukon[34]",
         "orientation": "v",
         "showlegend": true,
         "type": "scatter",
         "x": [
          4.9
         ],
         "xaxis": "x",
         "y": [
          612.2448979591836
         ],
         "yaxis": "y"
        },
        {
         "hovertemplate": "Product=Spondooliestech SP35 Yukon[35]<br>Hashrate(Th/s)=%{x}<br>Power Efficiency (J/Th)=%{y}<extra></extra>",
         "legendgroup": "Spondooliestech SP35 Yukon[35]",
         "marker": {
          "color": "#FF6692",
          "symbol": "circle"
         },
         "mode": "markers",
         "name": "Spondooliestech SP35 Yukon[35]",
         "orientation": "v",
         "showlegend": true,
         "type": "scatter",
         "x": [
          5.5
         ],
         "xaxis": "x",
         "y": [
          663.6363636363636
         ],
         "yaxis": "y"
        },
        {
         "hovertemplate": "Product=TerraHash DX Large (full)<br>Hashrate(Th/s)=%{x}<br>Power Efficiency (J/Th)=%{y}<extra></extra>",
         "legendgroup": "TerraHash DX Large (full)",
         "marker": {
          "color": "#B6E880",
          "symbol": "circle"
         },
         "mode": "markers",
         "name": "TerraHash DX Large (full)",
         "orientation": "v",
         "showlegend": true,
         "type": "scatter",
         "x": [
          0.18
         ],
         "xaxis": "x",
         "y": [
          7111.111111111111
         ],
         "yaxis": "y"
        },
        {
         "hovertemplate": "Product=TerraHash DX Mini (full)<br>Hashrate(Th/s)=%{x}<br>Power Efficiency (J/Th)=%{y}<extra></extra>",
         "legendgroup": "TerraHash DX Mini (full)",
         "marker": {
          "color": "#FF97FF",
          "symbol": "circle"
         },
         "mode": "markers",
         "name": "TerraHash DX Mini (full)",
         "orientation": "v",
         "showlegend": true,
         "type": "scatter",
         "x": [
          0.09
         ],
         "xaxis": "x",
         "y": [
          7111.111111111111
         ],
         "yaxis": "y"
        },
        {
         "hovertemplate": "Product=TerraHash Klondike 16 [36]<br>Hashrate(Th/s)=%{x}<br>Power Efficiency (J/Th)=%{y}<extra></extra>",
         "legendgroup": "TerraHash Klondike 16 [36]",
         "marker": {
          "color": "#FECB52",
          "symbol": "circle"
         },
         "mode": "markers",
         "name": "TerraHash Klondike 16 [36]",
         "orientation": "v",
         "showlegend": true,
         "type": "scatter",
         "x": [
          0.0045
         ],
         "xaxis": "x",
         "y": [
          7111.111111111111
         ],
         "yaxis": "y"
        },
        {
         "hovertemplate": "Product=TerraHash Klondike 64 [37]<br>Hashrate(Th/s)=%{x}<br>Power Efficiency (J/Th)=%{y}<extra></extra>",
         "legendgroup": "TerraHash Klondike 64 [37]",
         "marker": {
          "color": "#636efa",
          "symbol": "circle"
         },
         "mode": "markers",
         "name": "TerraHash Klondike 64 [37]",
         "orientation": "v",
         "showlegend": true,
         "type": "scatter",
         "x": [
          0.018
         ],
         "xaxis": "x",
         "y": [
          7055.555555555556
         ],
         "yaxis": "y"
        },
        {
         "hovertemplate": "Product=Twinfury<br>Hashrate(Th/s)=%{x}<br>Power Efficiency (J/Th)=%{y}<extra></extra>",
         "legendgroup": "Twinfury",
         "marker": {
          "color": "#EF553B",
          "symbol": "circle"
         },
         "mode": "markers",
         "name": "Twinfury",
         "orientation": "v",
         "showlegend": true,
         "type": "scatter",
         "x": [
          0.0045
         ],
         "xaxis": "x",
         "y": [
          851.1111111111112
         ],
         "yaxis": "y"
        },
        {
         "hovertemplate": "Product=WhatsMiner M1<br>Hashrate(Th/s)=%{x}<br>Power Efficiency (J/Th)=%{y}<extra></extra>",
         "legendgroup": "WhatsMiner M1",
         "marker": {
          "color": "#00cc96",
          "symbol": "circle"
         },
         "mode": "markers",
         "name": "WhatsMiner M1",
         "orientation": "v",
         "showlegend": true,
         "type": "scatter",
         "x": [
          null
         ],
         "xaxis": "x",
         "y": [
          null
         ],
         "yaxis": "y"
        },
        {
         "hovertemplate": "Product=WhatsMiner M2<br>Hashrate(Th/s)=%{x}<br>Power Efficiency (J/Th)=%{y}<extra></extra>",
         "legendgroup": "WhatsMiner M2",
         "marker": {
          "color": "#ab63fa",
          "symbol": "circle"
         },
         "mode": "markers",
         "name": "WhatsMiner M2",
         "orientation": "v",
         "showlegend": true,
         "type": "scatter",
         "x": [
          9.2
         ],
         "xaxis": "x",
         "y": [
          222.3913043478261
         ],
         "yaxis": "y"
        },
        {
         "hovertemplate": "Product=WhatsMiner M3<br>Hashrate(Th/s)=%{x}<br>Power Efficiency (J/Th)=%{y}<extra></extra>",
         "legendgroup": "WhatsMiner M3",
         "marker": {
          "color": "#FFA15A",
          "symbol": "circle"
         },
         "mode": "markers",
         "name": "WhatsMiner M3",
         "orientation": "v",
         "showlegend": true,
         "type": "scatter",
         "x": [
          11.5
         ],
         "xaxis": "x",
         "y": [
          155.2173913043478
         ],
         "yaxis": "y"
        }
       ],
       "layout": {
        "legend": {
         "title": {
          "text": "Product"
         },
         "tracegroupgap": 0
        },
        "template": {
         "data": {
          "bar": [
           {
            "error_x": {
             "color": "#2a3f5f"
            },
            "error_y": {
             "color": "#2a3f5f"
            },
            "marker": {
             "line": {
              "color": "#E5ECF6",
              "width": 0.5
             },
             "pattern": {
              "fillmode": "overlay",
              "size": 10,
              "solidity": 0.2
             }
            },
            "type": "bar"
           }
          ],
          "barpolar": [
           {
            "marker": {
             "line": {
              "color": "#E5ECF6",
              "width": 0.5
             },
             "pattern": {
              "fillmode": "overlay",
              "size": 10,
              "solidity": 0.2
             }
            },
            "type": "barpolar"
           }
          ],
          "carpet": [
           {
            "aaxis": {
             "endlinecolor": "#2a3f5f",
             "gridcolor": "white",
             "linecolor": "white",
             "minorgridcolor": "white",
             "startlinecolor": "#2a3f5f"
            },
            "baxis": {
             "endlinecolor": "#2a3f5f",
             "gridcolor": "white",
             "linecolor": "white",
             "minorgridcolor": "white",
             "startlinecolor": "#2a3f5f"
            },
            "type": "carpet"
           }
          ],
          "choropleth": [
           {
            "colorbar": {
             "outlinewidth": 0,
             "ticks": ""
            },
            "type": "choropleth"
           }
          ],
          "contour": [
           {
            "colorbar": {
             "outlinewidth": 0,
             "ticks": ""
            },
            "colorscale": [
             [
              0,
              "#0d0887"
             ],
             [
              0.1111111111111111,
              "#46039f"
             ],
             [
              0.2222222222222222,
              "#7201a8"
             ],
             [
              0.3333333333333333,
              "#9c179e"
             ],
             [
              0.4444444444444444,
              "#bd3786"
             ],
             [
              0.5555555555555556,
              "#d8576b"
             ],
             [
              0.6666666666666666,
              "#ed7953"
             ],
             [
              0.7777777777777778,
              "#fb9f3a"
             ],
             [
              0.8888888888888888,
              "#fdca26"
             ],
             [
              1,
              "#f0f921"
             ]
            ],
            "type": "contour"
           }
          ],
          "contourcarpet": [
           {
            "colorbar": {
             "outlinewidth": 0,
             "ticks": ""
            },
            "type": "contourcarpet"
           }
          ],
          "heatmap": [
           {
            "colorbar": {
             "outlinewidth": 0,
             "ticks": ""
            },
            "colorscale": [
             [
              0,
              "#0d0887"
             ],
             [
              0.1111111111111111,
              "#46039f"
             ],
             [
              0.2222222222222222,
              "#7201a8"
             ],
             [
              0.3333333333333333,
              "#9c179e"
             ],
             [
              0.4444444444444444,
              "#bd3786"
             ],
             [
              0.5555555555555556,
              "#d8576b"
             ],
             [
              0.6666666666666666,
              "#ed7953"
             ],
             [
              0.7777777777777778,
              "#fb9f3a"
             ],
             [
              0.8888888888888888,
              "#fdca26"
             ],
             [
              1,
              "#f0f921"
             ]
            ],
            "type": "heatmap"
           }
          ],
          "heatmapgl": [
           {
            "colorbar": {
             "outlinewidth": 0,
             "ticks": ""
            },
            "colorscale": [
             [
              0,
              "#0d0887"
             ],
             [
              0.1111111111111111,
              "#46039f"
             ],
             [
              0.2222222222222222,
              "#7201a8"
             ],
             [
              0.3333333333333333,
              "#9c179e"
             ],
             [
              0.4444444444444444,
              "#bd3786"
             ],
             [
              0.5555555555555556,
              "#d8576b"
             ],
             [
              0.6666666666666666,
              "#ed7953"
             ],
             [
              0.7777777777777778,
              "#fb9f3a"
             ],
             [
              0.8888888888888888,
              "#fdca26"
             ],
             [
              1,
              "#f0f921"
             ]
            ],
            "type": "heatmapgl"
           }
          ],
          "histogram": [
           {
            "marker": {
             "pattern": {
              "fillmode": "overlay",
              "size": 10,
              "solidity": 0.2
             }
            },
            "type": "histogram"
           }
          ],
          "histogram2d": [
           {
            "colorbar": {
             "outlinewidth": 0,
             "ticks": ""
            },
            "colorscale": [
             [
              0,
              "#0d0887"
             ],
             [
              0.1111111111111111,
              "#46039f"
             ],
             [
              0.2222222222222222,
              "#7201a8"
             ],
             [
              0.3333333333333333,
              "#9c179e"
             ],
             [
              0.4444444444444444,
              "#bd3786"
             ],
             [
              0.5555555555555556,
              "#d8576b"
             ],
             [
              0.6666666666666666,
              "#ed7953"
             ],
             [
              0.7777777777777778,
              "#fb9f3a"
             ],
             [
              0.8888888888888888,
              "#fdca26"
             ],
             [
              1,
              "#f0f921"
             ]
            ],
            "type": "histogram2d"
           }
          ],
          "histogram2dcontour": [
           {
            "colorbar": {
             "outlinewidth": 0,
             "ticks": ""
            },
            "colorscale": [
             [
              0,
              "#0d0887"
             ],
             [
              0.1111111111111111,
              "#46039f"
             ],
             [
              0.2222222222222222,
              "#7201a8"
             ],
             [
              0.3333333333333333,
              "#9c179e"
             ],
             [
              0.4444444444444444,
              "#bd3786"
             ],
             [
              0.5555555555555556,
              "#d8576b"
             ],
             [
              0.6666666666666666,
              "#ed7953"
             ],
             [
              0.7777777777777778,
              "#fb9f3a"
             ],
             [
              0.8888888888888888,
              "#fdca26"
             ],
             [
              1,
              "#f0f921"
             ]
            ],
            "type": "histogram2dcontour"
           }
          ],
          "mesh3d": [
           {
            "colorbar": {
             "outlinewidth": 0,
             "ticks": ""
            },
            "type": "mesh3d"
           }
          ],
          "parcoords": [
           {
            "line": {
             "colorbar": {
              "outlinewidth": 0,
              "ticks": ""
             }
            },
            "type": "parcoords"
           }
          ],
          "pie": [
           {
            "automargin": true,
            "type": "pie"
           }
          ],
          "scatter": [
           {
            "marker": {
             "colorbar": {
              "outlinewidth": 0,
              "ticks": ""
             }
            },
            "type": "scatter"
           }
          ],
          "scatter3d": [
           {
            "line": {
             "colorbar": {
              "outlinewidth": 0,
              "ticks": ""
             }
            },
            "marker": {
             "colorbar": {
              "outlinewidth": 0,
              "ticks": ""
             }
            },
            "type": "scatter3d"
           }
          ],
          "scattercarpet": [
           {
            "marker": {
             "colorbar": {
              "outlinewidth": 0,
              "ticks": ""
             }
            },
            "type": "scattercarpet"
           }
          ],
          "scattergeo": [
           {
            "marker": {
             "colorbar": {
              "outlinewidth": 0,
              "ticks": ""
             }
            },
            "type": "scattergeo"
           }
          ],
          "scattergl": [
           {
            "marker": {
             "colorbar": {
              "outlinewidth": 0,
              "ticks": ""
             }
            },
            "type": "scattergl"
           }
          ],
          "scattermapbox": [
           {
            "marker": {
             "colorbar": {
              "outlinewidth": 0,
              "ticks": ""
             }
            },
            "type": "scattermapbox"
           }
          ],
          "scatterpolar": [
           {
            "marker": {
             "colorbar": {
              "outlinewidth": 0,
              "ticks": ""
             }
            },
            "type": "scatterpolar"
           }
          ],
          "scatterpolargl": [
           {
            "marker": {
             "colorbar": {
              "outlinewidth": 0,
              "ticks": ""
             }
            },
            "type": "scatterpolargl"
           }
          ],
          "scatterternary": [
           {
            "marker": {
             "colorbar": {
              "outlinewidth": 0,
              "ticks": ""
             }
            },
            "type": "scatterternary"
           }
          ],
          "surface": [
           {
            "colorbar": {
             "outlinewidth": 0,
             "ticks": ""
            },
            "colorscale": [
             [
              0,
              "#0d0887"
             ],
             [
              0.1111111111111111,
              "#46039f"
             ],
             [
              0.2222222222222222,
              "#7201a8"
             ],
             [
              0.3333333333333333,
              "#9c179e"
             ],
             [
              0.4444444444444444,
              "#bd3786"
             ],
             [
              0.5555555555555556,
              "#d8576b"
             ],
             [
              0.6666666666666666,
              "#ed7953"
             ],
             [
              0.7777777777777778,
              "#fb9f3a"
             ],
             [
              0.8888888888888888,
              "#fdca26"
             ],
             [
              1,
              "#f0f921"
             ]
            ],
            "type": "surface"
           }
          ],
          "table": [
           {
            "cells": {
             "fill": {
              "color": "#EBF0F8"
             },
             "line": {
              "color": "white"
             }
            },
            "header": {
             "fill": {
              "color": "#C8D4E3"
             },
             "line": {
              "color": "white"
             }
            },
            "type": "table"
           }
          ]
         },
         "layout": {
          "annotationdefaults": {
           "arrowcolor": "#2a3f5f",
           "arrowhead": 0,
           "arrowwidth": 1
          },
          "autotypenumbers": "strict",
          "coloraxis": {
           "colorbar": {
            "outlinewidth": 0,
            "ticks": ""
           }
          },
          "colorscale": {
           "diverging": [
            [
             0,
             "#8e0152"
            ],
            [
             0.1,
             "#c51b7d"
            ],
            [
             0.2,
             "#de77ae"
            ],
            [
             0.3,
             "#f1b6da"
            ],
            [
             0.4,
             "#fde0ef"
            ],
            [
             0.5,
             "#f7f7f7"
            ],
            [
             0.6,
             "#e6f5d0"
            ],
            [
             0.7,
             "#b8e186"
            ],
            [
             0.8,
             "#7fbc41"
            ],
            [
             0.9,
             "#4d9221"
            ],
            [
             1,
             "#276419"
            ]
           ],
           "sequential": [
            [
             0,
             "#0d0887"
            ],
            [
             0.1111111111111111,
             "#46039f"
            ],
            [
             0.2222222222222222,
             "#7201a8"
            ],
            [
             0.3333333333333333,
             "#9c179e"
            ],
            [
             0.4444444444444444,
             "#bd3786"
            ],
            [
             0.5555555555555556,
             "#d8576b"
            ],
            [
             0.6666666666666666,
             "#ed7953"
            ],
            [
             0.7777777777777778,
             "#fb9f3a"
            ],
            [
             0.8888888888888888,
             "#fdca26"
            ],
            [
             1,
             "#f0f921"
            ]
           ],
           "sequentialminus": [
            [
             0,
             "#0d0887"
            ],
            [
             0.1111111111111111,
             "#46039f"
            ],
            [
             0.2222222222222222,
             "#7201a8"
            ],
            [
             0.3333333333333333,
             "#9c179e"
            ],
            [
             0.4444444444444444,
             "#bd3786"
            ],
            [
             0.5555555555555556,
             "#d8576b"
            ],
            [
             0.6666666666666666,
             "#ed7953"
            ],
            [
             0.7777777777777778,
             "#fb9f3a"
            ],
            [
             0.8888888888888888,
             "#fdca26"
            ],
            [
             1,
             "#f0f921"
            ]
           ]
          },
          "colorway": [
           "#636efa",
           "#EF553B",
           "#00cc96",
           "#ab63fa",
           "#FFA15A",
           "#19d3f3",
           "#FF6692",
           "#B6E880",
           "#FF97FF",
           "#FECB52"
          ],
          "font": {
           "color": "#2a3f5f"
          },
          "geo": {
           "bgcolor": "white",
           "lakecolor": "white",
           "landcolor": "#E5ECF6",
           "showlakes": true,
           "showland": true,
           "subunitcolor": "white"
          },
          "hoverlabel": {
           "align": "left"
          },
          "hovermode": "closest",
          "mapbox": {
           "style": "light"
          },
          "paper_bgcolor": "white",
          "plot_bgcolor": "#E5ECF6",
          "polar": {
           "angularaxis": {
            "gridcolor": "white",
            "linecolor": "white",
            "ticks": ""
           },
           "bgcolor": "#E5ECF6",
           "radialaxis": {
            "gridcolor": "white",
            "linecolor": "white",
            "ticks": ""
           }
          },
          "scene": {
           "xaxis": {
            "backgroundcolor": "#E5ECF6",
            "gridcolor": "white",
            "gridwidth": 2,
            "linecolor": "white",
            "showbackground": true,
            "ticks": "",
            "zerolinecolor": "white"
           },
           "yaxis": {
            "backgroundcolor": "#E5ECF6",
            "gridcolor": "white",
            "gridwidth": 2,
            "linecolor": "white",
            "showbackground": true,
            "ticks": "",
            "zerolinecolor": "white"
           },
           "zaxis": {
            "backgroundcolor": "#E5ECF6",
            "gridcolor": "white",
            "gridwidth": 2,
            "linecolor": "white",
            "showbackground": true,
            "ticks": "",
            "zerolinecolor": "white"
           }
          },
          "shapedefaults": {
           "line": {
            "color": "#2a3f5f"
           }
          },
          "ternary": {
           "aaxis": {
            "gridcolor": "white",
            "linecolor": "white",
            "ticks": ""
           },
           "baxis": {
            "gridcolor": "white",
            "linecolor": "white",
            "ticks": ""
           },
           "bgcolor": "#E5ECF6",
           "caxis": {
            "gridcolor": "white",
            "linecolor": "white",
            "ticks": ""
           }
          },
          "title": {
           "x": 0.05
          },
          "xaxis": {
           "automargin": true,
           "gridcolor": "white",
           "linecolor": "white",
           "ticks": "",
           "title": {
            "standoff": 15
           },
           "zerolinecolor": "white",
           "zerolinewidth": 2
          },
          "yaxis": {
           "automargin": true,
           "gridcolor": "white",
           "linecolor": "white",
           "ticks": "",
           "title": {
            "standoff": 15
           },
           "zerolinecolor": "white",
           "zerolinewidth": 2
          }
         }
        },
        "title": {
         "text": "Efficiencies of Bitcoin Hardware (P.Z)"
        },
        "xaxis": {
         "anchor": "y",
         "domain": [
          0,
          1
         ],
         "title": {
          "text": "Hashrate(Th/s)"
         },
         "type": "log"
        },
        "yaxis": {
         "anchor": "x",
         "domain": [
          0,
          1
         ],
         "title": {
          "text": "Power Efficiency (J/Th)"
         }
        }
       }
      },
      "text/html": [
       "<div>                            <div id=\"d3c1cf2f-03e6-4746-81f2-2bf2b128fcf3\" class=\"plotly-graph-div\" style=\"height:525px; width:100%;\"></div>            <script type=\"text/javascript\">                require([\"plotly\"], function(Plotly) {                    window.PLOTLYENV=window.PLOTLYENV || {};                                    if (document.getElementById(\"d3c1cf2f-03e6-4746-81f2-2bf2b128fcf3\")) {                    Plotly.newPlot(                        \"d3c1cf2f-03e6-4746-81f2-2bf2b128fcf3\",                        [{\"hovertemplate\":\"Product=AntMiner\\u00a0S1\\u00a0[1]<br>Hashrate(Th/s)=%{x}<br>Power Efficiency (J/Th)=%{y}<extra></extra>\",\"legendgroup\":\"AntMiner\\u00a0S1\\u00a0[1]\",\"marker\":{\"color\":\"#636efa\",\"symbol\":\"circle\"},\"mode\":\"markers\",\"name\":\"AntMiner\\u00a0S1\\u00a0[1]\",\"orientation\":\"v\",\"showlegend\":true,\"type\":\"scatter\",\"x\":[0.18],\"xaxis\":\"x\",\"y\":[2000.0],\"yaxis\":\"y\"},{\"hovertemplate\":\"Product=AntMiner\\u00a0S2\\u00a0[3]<br>Hashrate(Th/s)=%{x}<br>Power Efficiency (J/Th)=%{y}<extra></extra>\",\"legendgroup\":\"AntMiner\\u00a0S2\\u00a0[3]\",\"marker\":{\"color\":\"#EF553B\",\"symbol\":\"circle\"},\"mode\":\"markers\",\"name\":\"AntMiner\\u00a0S2\\u00a0[3]\",\"orientation\":\"v\",\"showlegend\":true,\"type\":\"scatter\",\"x\":[1.0],\"xaxis\":\"x\",\"y\":[1100.0],\"yaxis\":\"y\"},{\"hovertemplate\":\"Product=AntMiner\\u00a0S3\\u00a0[4]<br>Hashrate(Th/s)=%{x}<br>Power Efficiency (J/Th)=%{y}<extra></extra>\",\"legendgroup\":\"AntMiner\\u00a0S3\\u00a0[4]\",\"marker\":{\"color\":\"#00cc96\",\"symbol\":\"circle\"},\"mode\":\"markers\",\"name\":\"AntMiner\\u00a0S3\\u00a0[4]\",\"orientation\":\"v\",\"showlegend\":true,\"type\":\"scatter\",\"x\":[0.441],\"xaxis\":\"x\",\"y\":[770.9750566893424],\"yaxis\":\"y\"},{\"hovertemplate\":\"Product=AntMiner\\u00a0S4\\u00a0[5]<br>Hashrate(Th/s)=%{x}<br>Power Efficiency (J/Th)=%{y}<extra></extra>\",\"legendgroup\":\"AntMiner\\u00a0S4\\u00a0[5]\",\"marker\":{\"color\":\"#ab63fa\",\"symbol\":\"circle\"},\"mode\":\"markers\",\"name\":\"AntMiner\\u00a0S4\\u00a0[5]\",\"orientation\":\"v\",\"showlegend\":true,\"type\":\"scatter\",\"x\":[2.0],\"xaxis\":\"x\",\"y\":[700.0],\"yaxis\":\"y\"},{\"hovertemplate\":\"Product=AntMiner\\u00a0S5\\u00a0[6]<br>Hashrate(Th/s)=%{x}<br>Power Efficiency (J/Th)=%{y}<extra></extra>\",\"legendgroup\":\"AntMiner\\u00a0S5\\u00a0[6]\",\"marker\":{\"color\":\"#FFA15A\",\"symbol\":\"circle\"},\"mode\":\"markers\",\"name\":\"AntMiner\\u00a0S5\\u00a0[6]\",\"orientation\":\"v\",\"showlegend\":true,\"type\":\"scatter\",\"x\":[1.155],\"xaxis\":\"x\",\"y\":[510.8225108225108],\"yaxis\":\"y\"},{\"hovertemplate\":\"Product=AntMiner\\u00a0S5+\\u00a0[7]<br>Hashrate(Th/s)=%{x}<br>Power Efficiency (J/Th)=%{y}<extra></extra>\",\"legendgroup\":\"AntMiner\\u00a0S5+\\u00a0[7]\",\"marker\":{\"color\":\"#19d3f3\",\"symbol\":\"circle\"},\"mode\":\"markers\",\"name\":\"AntMiner\\u00a0S5+\\u00a0[7]\",\"orientation\":\"v\",\"showlegend\":true,\"type\":\"scatter\",\"x\":[7.722],\"xaxis\":\"x\",\"y\":[444.9624449624449],\"yaxis\":\"y\"},{\"hovertemplate\":\"Product=AntMiner\\u00a0S7\\u00a0[8]<br>Hashrate(Th/s)=%{x}<br>Power Efficiency (J/Th)=%{y}<extra></extra>\",\"legendgroup\":\"AntMiner\\u00a0S7\\u00a0[8]\",\"marker\":{\"color\":\"#FF6692\",\"symbol\":\"circle\"},\"mode\":\"markers\",\"name\":\"AntMiner\\u00a0S7\\u00a0[8]\",\"orientation\":\"v\",\"showlegend\":true,\"type\":\"scatter\",\"x\":[4.86],\"xaxis\":\"x\",\"y\":[248.97119341563786],\"yaxis\":\"y\"},{\"hovertemplate\":\"Product=AntMiner\\u00a0S9\\u00a0[9]<br>Hashrate(Th/s)=%{x}<br>Power Efficiency (J/Th)=%{y}<extra></extra>\",\"legendgroup\":\"AntMiner\\u00a0S9\\u00a0[9]\",\"marker\":{\"color\":\"#B6E880\",\"symbol\":\"circle\"},\"mode\":\"markers\",\"name\":\"AntMiner\\u00a0S9\\u00a0[9]\",\"orientation\":\"v\",\"showlegend\":true,\"type\":\"scatter\",\"x\":[14.0],\"xaxis\":\"x\",\"y\":[98.21428571428571],\"yaxis\":\"y\"},{\"hovertemplate\":\"Product=AntMiner\\u00a0U1\\u00a0[10]<br>Hashrate(Th/s)=%{x}<br>Power Efficiency (J/Th)=%{y}<extra></extra>\",\"legendgroup\":\"AntMiner\\u00a0U1\\u00a0[10]\",\"marker\":{\"color\":\"#FF97FF\",\"symbol\":\"circle\"},\"mode\":\"markers\",\"name\":\"AntMiner\\u00a0U1\\u00a0[10]\",\"orientation\":\"v\",\"showlegend\":true,\"type\":\"scatter\",\"x\":[0.0016],\"xaxis\":\"x\",\"y\":[1250.0],\"yaxis\":\"y\"},{\"hovertemplate\":\"Product=AntMiner\\u00a0U2+\\u00a0[11]<br>Hashrate(Th/s)=%{x}<br>Power Efficiency (J/Th)=%{y}<extra></extra>\",\"legendgroup\":\"AntMiner\\u00a0U2+\\u00a0[11]\",\"marker\":{\"color\":\"#FECB52\",\"symbol\":\"circle\"},\"mode\":\"markers\",\"name\":\"AntMiner\\u00a0U2+\\u00a0[11]\",\"orientation\":\"v\",\"showlegend\":true,\"type\":\"scatter\",\"x\":[0.002],\"xaxis\":\"x\",\"y\":[1000.0],\"yaxis\":\"y\"},{\"hovertemplate\":\"Product=AntMiner\\u00a0U3\\u00a0[12]<br>Hashrate(Th/s)=%{x}<br>Power Efficiency (J/Th)=%{y}<extra></extra>\",\"legendgroup\":\"AntMiner\\u00a0U3\\u00a0[12]\",\"marker\":{\"color\":\"#636efa\",\"symbol\":\"circle\"},\"mode\":\"markers\",\"name\":\"AntMiner\\u00a0U3\\u00a0[12]\",\"orientation\":\"v\",\"showlegend\":true,\"type\":\"scatter\",\"x\":[0.063],\"xaxis\":\"x\",\"y\":[1000.0],\"yaxis\":\"y\"},{\"hovertemplate\":\"Product=ASICMiner\\u00a0BE Blade<br>Hashrate(Th/s)=%{x}<br>Power Efficiency (J/Th)=%{y}<extra></extra>\",\"legendgroup\":\"ASICMiner\\u00a0BE Blade\",\"marker\":{\"color\":\"#EF553B\",\"symbol\":\"circle\"},\"mode\":\"markers\",\"name\":\"ASICMiner\\u00a0BE Blade\",\"orientation\":\"v\",\"showlegend\":true,\"type\":\"scatter\",\"x\":[0.010752],\"xaxis\":\"x\",\"y\":[7719.494047619048],\"yaxis\":\"y\"},{\"hovertemplate\":\"Product=ASICMiner\\u00a0BE Cube<br>Hashrate(Th/s)=%{x}<br>Power Efficiency (J/Th)=%{y}<extra></extra>\",\"legendgroup\":\"ASICMiner\\u00a0BE Cube\",\"marker\":{\"color\":\"#00cc96\",\"symbol\":\"circle\"},\"mode\":\"markers\",\"name\":\"ASICMiner\\u00a0BE Cube\",\"orientation\":\"v\",\"showlegend\":true,\"type\":\"scatter\",\"x\":[0.03],\"xaxis\":\"x\",\"y\":[6666.666666666667],\"yaxis\":\"y\"},{\"hovertemplate\":\"Product=ASICMiner\\u00a0BE Prisma\\u00a0[15]<br>Hashrate(Th/s)=%{x}<br>Power Efficiency (J/Th)=%{y}<extra></extra>\",\"legendgroup\":\"ASICMiner\\u00a0BE Prisma\\u00a0[15]\",\"marker\":{\"color\":\"#ab63fa\",\"symbol\":\"circle\"},\"mode\":\"markers\",\"name\":\"ASICMiner\\u00a0BE Prisma\\u00a0[15]\",\"orientation\":\"v\",\"showlegend\":true,\"type\":\"scatter\",\"x\":[1.4],\"xaxis\":\"x\",\"y\":[785.7142857142858],\"yaxis\":\"y\"},{\"hovertemplate\":\"Product=ASICMiner\\u00a0BE Sapphire<br>Hashrate(Th/s)=%{x}<br>Power Efficiency (J/Th)=%{y}<extra></extra>\",\"legendgroup\":\"ASICMiner\\u00a0BE Sapphire\",\"marker\":{\"color\":\"#FFA15A\",\"symbol\":\"circle\"},\"mode\":\"markers\",\"name\":\"ASICMiner\\u00a0BE Sapphire\",\"orientation\":\"v\",\"showlegend\":true,\"type\":\"scatter\",\"x\":[0.000336],\"xaxis\":\"x\",\"y\":[7589.285714285714],\"yaxis\":\"y\"},{\"hovertemplate\":\"Product=ASICMiner\\u00a0BE Tube\\u00a0[14]<br>Hashrate(Th/s)=%{x}<br>Power Efficiency (J/Th)=%{y}<extra></extra>\",\"legendgroup\":\"ASICMiner\\u00a0BE Tube\\u00a0[14]\",\"marker\":{\"color\":\"#19d3f3\",\"symbol\":\"circle\"},\"mode\":\"markers\",\"name\":\"ASICMiner\\u00a0BE Tube\\u00a0[14]\",\"orientation\":\"v\",\"showlegend\":true,\"type\":\"scatter\",\"x\":[0.8],\"xaxis\":\"x\",\"y\":[1125.0],\"yaxis\":\"y\"},{\"hovertemplate\":\"Product=Avalon\\u00a0Batch 1<br>Hashrate(Th/s)=%{x}<br>Power Efficiency (J/Th)=%{y}<extra></extra>\",\"legendgroup\":\"Avalon\\u00a0Batch 1\",\"marker\":{\"color\":\"#FF6692\",\"symbol\":\"circle\"},\"mode\":\"markers\",\"name\":\"Avalon\\u00a0Batch 1\",\"orientation\":\"v\",\"showlegend\":true,\"type\":\"scatter\",\"x\":[0.0663],\"xaxis\":\"x\",\"y\":[9351.432880844646],\"yaxis\":\"y\"},{\"hovertemplate\":\"Product=Avalon\\u00a0Batch 2<br>Hashrate(Th/s)=%{x}<br>Power Efficiency (J/Th)=%{y}<extra></extra>\",\"legendgroup\":\"Avalon\\u00a0Batch 2\",\"marker\":{\"color\":\"#B6E880\",\"symbol\":\"circle\"},\"mode\":\"markers\",\"name\":\"Avalon\\u00a0Batch 2\",\"orientation\":\"v\",\"showlegend\":true,\"type\":\"scatter\",\"x\":[0.082],\"xaxis\":\"x\",\"y\":[8536.585365853658],\"yaxis\":\"y\"},{\"hovertemplate\":\"Product=Avalon\\u00a0Batch 3<br>Hashrate(Th/s)=%{x}<br>Power Efficiency (J/Th)=%{y}<extra></extra>\",\"legendgroup\":\"Avalon\\u00a0Batch 3\",\"marker\":{\"color\":\"#FF97FF\",\"symbol\":\"circle\"},\"mode\":\"markers\",\"name\":\"Avalon\\u00a0Batch 3\",\"orientation\":\"v\",\"showlegend\":true,\"type\":\"scatter\",\"x\":[0.082],\"xaxis\":\"x\",\"y\":[8536.585365853658],\"yaxis\":\"y\"},{\"hovertemplate\":\"Product=Avalon2<br>Hashrate(Th/s)=%{x}<br>Power Efficiency (J/Th)=%{y}<extra></extra>\",\"legendgroup\":\"Avalon2\",\"marker\":{\"color\":\"#FECB52\",\"symbol\":\"circle\"},\"mode\":\"markers\",\"name\":\"Avalon2\",\"orientation\":\"v\",\"showlegend\":true,\"type\":\"scatter\",\"x\":[0.3],\"xaxis\":\"x\",\"y\":[0.0],\"yaxis\":\"y\"},{\"hovertemplate\":\"Product=Avalon3<br>Hashrate(Th/s)=%{x}<br>Power Efficiency (J/Th)=%{y}<extra></extra>\",\"legendgroup\":\"Avalon3\",\"marker\":{\"color\":\"#636efa\",\"symbol\":\"circle\"},\"mode\":\"markers\",\"name\":\"Avalon3\",\"orientation\":\"v\",\"showlegend\":true,\"type\":\"scatter\",\"x\":[0.8],\"xaxis\":\"x\",\"y\":[0.0],\"yaxis\":\"y\"},{\"hovertemplate\":\"Product=Avalon6<br>Hashrate(Th/s)=%{x}<br>Power Efficiency (J/Th)=%{y}<extra></extra>\",\"legendgroup\":\"Avalon6\",\"marker\":{\"color\":\"#EF553B\",\"symbol\":\"circle\"},\"mode\":\"markers\",\"name\":\"Avalon6\",\"orientation\":\"v\",\"showlegend\":true,\"type\":\"scatter\",\"x\":[3.5],\"xaxis\":\"x\",\"y\":[308.57142857142856],\"yaxis\":\"y\"},{\"hovertemplate\":\"Product=Avalon721<br>Hashrate(Th/s)=%{x}<br>Power Efficiency (J/Th)=%{y}<extra></extra>\",\"legendgroup\":\"Avalon721\",\"marker\":{\"color\":\"#00cc96\",\"symbol\":\"circle\"},\"mode\":\"markers\",\"name\":\"Avalon721\",\"orientation\":\"v\",\"showlegend\":true,\"type\":\"scatter\",\"x\":[6.0],\"xaxis\":\"x\",\"y\":[166.66666666666666],\"yaxis\":\"y\"},{\"hovertemplate\":\"Product=Avalon741<br>Hashrate(Th/s)=%{x}<br>Power Efficiency (J/Th)=%{y}<extra></extra>\",\"legendgroup\":\"Avalon741\",\"marker\":{\"color\":\"#ab63fa\",\"symbol\":\"circle\"},\"mode\":\"markers\",\"name\":\"Avalon741\",\"orientation\":\"v\",\"showlegend\":true,\"type\":\"scatter\",\"x\":[7.3],\"xaxis\":\"x\",\"y\":[157.53424657534248],\"yaxis\":\"y\"},{\"hovertemplate\":\"Product=Avalon761<br>Hashrate(Th/s)=%{x}<br>Power Efficiency (J/Th)=%{y}<extra></extra>\",\"legendgroup\":\"Avalon761\",\"marker\":{\"color\":\"#FFA15A\",\"symbol\":\"circle\"},\"mode\":\"markers\",\"name\":\"Avalon761\",\"orientation\":\"v\",\"showlegend\":true,\"type\":\"scatter\",\"x\":[8.8],\"xaxis\":\"x\",\"y\":[150.0],\"yaxis\":\"y\"},{\"hovertemplate\":\"Product=Avalon821<br>Hashrate(Th/s)=%{x}<br>Power Efficiency (J/Th)=%{y}<extra></extra>\",\"legendgroup\":\"Avalon821\",\"marker\":{\"color\":\"#19d3f3\",\"symbol\":\"circle\"},\"mode\":\"markers\",\"name\":\"Avalon821\",\"orientation\":\"v\",\"showlegend\":true,\"type\":\"scatter\",\"x\":[11.0],\"xaxis\":\"x\",\"y\":[109.0909090909091],\"yaxis\":\"y\"},{\"hovertemplate\":\"Product=BFL 230 GH/s Rack Mount[18]<br>Hashrate(Th/s)=%{x}<br>Power Efficiency (J/Th)=%{y}<extra></extra>\",\"legendgroup\":\"BFL 230 GH/s Rack Mount[18]\",\"marker\":{\"color\":\"#FF6692\",\"symbol\":\"circle\"},\"mode\":\"markers\",\"name\":\"BFL 230 GH/s Rack Mount[18]\",\"orientation\":\"v\",\"showlegend\":true,\"type\":\"scatter\",\"x\":[0.23],\"xaxis\":\"x\",\"y\":[0.0],\"yaxis\":\"y\"},{\"hovertemplate\":\"Product=BFL 500 GH/s Mini Rig SC<br>Hashrate(Th/s)=%{x}<br>Power Efficiency (J/Th)=%{y}<extra></extra>\",\"legendgroup\":\"BFL 500 GH/s Mini Rig SC\",\"marker\":{\"color\":\"#B6E880\",\"symbol\":\"circle\"},\"mode\":\"markers\",\"name\":\"BFL 500 GH/s Mini Rig SC\",\"orientation\":\"v\",\"showlegend\":true,\"type\":\"scatter\",\"x\":[0.5],\"xaxis\":\"x\",\"y\":[5400.0],\"yaxis\":\"y\"},{\"hovertemplate\":\"Product=BFL Little Single<br>Hashrate(Th/s)=%{x}<br>Power Efficiency (J/Th)=%{y}<extra></extra>\",\"legendgroup\":\"BFL Little Single\",\"marker\":{\"color\":\"#FF97FF\",\"symbol\":\"circle\"},\"mode\":\"markers\",\"name\":\"BFL Little Single\",\"orientation\":\"v\",\"showlegend\":true,\"type\":\"scatter\",\"x\":[0.03],\"xaxis\":\"x\",\"y\":[0.0],\"yaxis\":\"y\"},{\"hovertemplate\":\"Product=BFL Monarch 700GH/s[19]<br>Hashrate(Th/s)=%{x}<br>Power Efficiency (J/Th)=%{y}<extra></extra>\",\"legendgroup\":\"BFL Monarch 700GH/s[19]\",\"marker\":{\"color\":\"#FECB52\",\"symbol\":\"circle\"},\"mode\":\"markers\",\"name\":\"BFL Monarch 700GH/s[19]\",\"orientation\":\"v\",\"showlegend\":true,\"type\":\"scatter\",\"x\":[0.7],\"xaxis\":\"x\",\"y\":[700.0],\"yaxis\":\"y\"},{\"hovertemplate\":\"Product=BFL SC 10 Gh/s<br>Hashrate(Th/s)=%{x}<br>Power Efficiency (J/Th)=%{y}<extra></extra>\",\"legendgroup\":\"BFL SC 10 Gh/s\",\"marker\":{\"color\":\"#636efa\",\"symbol\":\"circle\"},\"mode\":\"markers\",\"name\":\"BFL SC 10 Gh/s\",\"orientation\":\"v\",\"showlegend\":true,\"type\":\"scatter\",\"x\":[0.01],\"xaxis\":\"x\",\"y\":[0.0],\"yaxis\":\"y\"},{\"hovertemplate\":\"Product=BFL SC 25 Gh/s<br>Hashrate(Th/s)=%{x}<br>Power Efficiency (J/Th)=%{y}<extra></extra>\",\"legendgroup\":\"BFL SC 25 Gh/s\",\"marker\":{\"color\":\"#EF553B\",\"symbol\":\"circle\"},\"mode\":\"markers\",\"name\":\"BFL SC 25 Gh/s\",\"orientation\":\"v\",\"showlegend\":true,\"type\":\"scatter\",\"x\":[0.025],\"xaxis\":\"x\",\"y\":[6000.0],\"yaxis\":\"y\"},{\"hovertemplate\":\"Product=BFL SC 50 Gh/s<br>Hashrate(Th/s)=%{x}<br>Power Efficiency (J/Th)=%{y}<extra></extra>\",\"legendgroup\":\"BFL SC 50 Gh/s\",\"marker\":{\"color\":\"#00cc96\",\"symbol\":\"circle\"},\"mode\":\"markers\",\"name\":\"BFL SC 50 Gh/s\",\"orientation\":\"v\",\"showlegend\":true,\"type\":\"scatter\",\"x\":[0.05],\"xaxis\":\"x\",\"y\":[6000.0],\"yaxis\":\"y\"},{\"hovertemplate\":\"Product=BFL SC 5Gh/s<br>Hashrate(Th/s)=%{x}<br>Power Efficiency (J/Th)=%{y}<extra></extra>\",\"legendgroup\":\"BFL SC 5Gh/s\",\"marker\":{\"color\":\"#ab63fa\",\"symbol\":\"circle\"},\"mode\":\"markers\",\"name\":\"BFL SC 5Gh/s\",\"orientation\":\"v\",\"showlegend\":true,\"type\":\"scatter\",\"x\":[0.005],\"xaxis\":\"x\",\"y\":[6000.0],\"yaxis\":\"y\"},{\"hovertemplate\":\"Product=BFL Single 'SC'<br>Hashrate(Th/s)=%{x}<br>Power Efficiency (J/Th)=%{y}<extra></extra>\",\"legendgroup\":\"BFL Single 'SC'\",\"marker\":{\"color\":\"#FFA15A\",\"symbol\":\"circle\"},\"mode\":\"markers\",\"name\":\"BFL Single 'SC'\",\"orientation\":\"v\",\"showlegend\":true,\"type\":\"scatter\",\"x\":[0.06],\"xaxis\":\"x\",\"y\":[4000.0],\"yaxis\":\"y\"},{\"hovertemplate\":\"Product=bi*fury<br>Hashrate(Th/s)=%{x}<br>Power Efficiency (J/Th)=%{y}<extra></extra>\",\"legendgroup\":\"bi*fury\",\"marker\":{\"color\":\"#19d3f3\",\"symbol\":\"circle\"},\"mode\":\"markers\",\"name\":\"bi*fury\",\"orientation\":\"v\",\"showlegend\":true,\"type\":\"scatter\",\"x\":[0.005],\"xaxis\":\"x\",\"y\":[850.0],\"yaxis\":\"y\"},{\"hovertemplate\":\"Product=BitFury S.B.<br>Hashrate(Th/s)=%{x}<br>Power Efficiency (J/Th)=%{y}<extra></extra>\",\"legendgroup\":\"BitFury S.B.\",\"marker\":{\"color\":\"#FF6692\",\"symbol\":\"circle\"},\"mode\":\"markers\",\"name\":\"BitFury S.B.\",\"orientation\":\"v\",\"showlegend\":true,\"type\":\"scatter\",\"x\":[0.0],\"xaxis\":\"x\",\"y\":[null],\"yaxis\":\"y\"},{\"hovertemplate\":\"Product=Bitmine.ch Avalon Clone 85GH<br>Hashrate(Th/s)=%{x}<br>Power Efficiency (J/Th)=%{y}<extra></extra>\",\"legendgroup\":\"Bitmine.ch Avalon Clone 85GH\",\"marker\":{\"color\":\"#B6E880\",\"symbol\":\"circle\"},\"mode\":\"markers\",\"name\":\"Bitmine.ch Avalon Clone 85GH\",\"orientation\":\"v\",\"showlegend\":true,\"type\":\"scatter\",\"x\":[0.085],\"xaxis\":\"x\",\"y\":[7647.058823529411],\"yaxis\":\"y\"},{\"hovertemplate\":\"Product=Black Arrow Prospero X-1<br>Hashrate(Th/s)=%{x}<br>Power Efficiency (J/Th)=%{y}<extra></extra>\",\"legendgroup\":\"Black Arrow Prospero X-1\",\"marker\":{\"color\":\"#FF97FF\",\"symbol\":\"circle\"},\"mode\":\"markers\",\"name\":\"Black Arrow Prospero X-1\",\"orientation\":\"v\",\"showlegend\":true,\"type\":\"scatter\",\"x\":[0.1],\"xaxis\":\"x\",\"y\":[1000.0],\"yaxis\":\"y\"},{\"hovertemplate\":\"Product=Black Arrow Prospero X-3<br>Hashrate(Th/s)=%{x}<br>Power Efficiency (J/Th)=%{y}<extra></extra>\",\"legendgroup\":\"Black Arrow Prospero X-3\",\"marker\":{\"color\":\"#FECB52\",\"symbol\":\"circle\"},\"mode\":\"markers\",\"name\":\"Black Arrow Prospero X-3\",\"orientation\":\"v\",\"showlegend\":true,\"type\":\"scatter\",\"x\":[2.0],\"xaxis\":\"x\",\"y\":[1000.0],\"yaxis\":\"y\"},{\"hovertemplate\":\"Product=Blue Fury<br>Hashrate(Th/s)=%{x}<br>Power Efficiency (J/Th)=%{y}<extra></extra>\",\"legendgroup\":\"Blue Fury\",\"marker\":{\"color\":\"#636efa\",\"symbol\":\"circle\"},\"mode\":\"markers\",\"name\":\"Blue Fury\",\"orientation\":\"v\",\"showlegend\":true,\"type\":\"scatter\",\"x\":[0.0025],\"xaxis\":\"x\",\"y\":[1000.0],\"yaxis\":\"y\"},{\"hovertemplate\":\"Product=BTC Garden AM-V1 310 GH/s[21]<br>Hashrate(Th/s)=%{x}<br>Power Efficiency (J/Th)=%{y}<extra></extra>\",\"legendgroup\":\"BTC Garden AM-V1 310 GH/s[21]\",\"marker\":{\"color\":\"#EF553B\",\"symbol\":\"circle\"},\"mode\":\"markers\",\"name\":\"BTC Garden AM-V1 310 GH/s[21]\",\"orientation\":\"v\",\"showlegend\":true,\"type\":\"scatter\",\"x\":[0.31],\"xaxis\":\"x\",\"y\":[1045.1612903225807],\"yaxis\":\"y\"},{\"hovertemplate\":\"Product=BTC Garden AM-V1 616 GH/s[21]<br>Hashrate(Th/s)=%{x}<br>Power Efficiency (J/Th)=%{y}<extra></extra>\",\"legendgroup\":\"BTC Garden AM-V1 616 GH/s[21]\",\"marker\":{\"color\":\"#00cc96\",\"symbol\":\"circle\"},\"mode\":\"markers\",\"name\":\"BTC Garden AM-V1 616 GH/s[21]\",\"orientation\":\"v\",\"showlegend\":true,\"type\":\"scatter\",\"x\":[0.616],\"xaxis\":\"x\",\"y\":[1051.948051948052],\"yaxis\":\"y\"},{\"hovertemplate\":\"Product=CoinTerra\\u00a0TerraMiner IV<br>Hashrate(Th/s)=%{x}<br>Power Efficiency (J/Th)=%{y}<extra></extra>\",\"legendgroup\":\"CoinTerra\\u00a0TerraMiner IV\",\"marker\":{\"color\":\"#ab63fa\",\"symbol\":\"circle\"},\"mode\":\"markers\",\"name\":\"CoinTerra\\u00a0TerraMiner IV\",\"orientation\":\"v\",\"showlegend\":true,\"type\":\"scatter\",\"x\":[1.6],\"xaxis\":\"x\",\"y\":[1312.5],\"yaxis\":\"y\"},{\"hovertemplate\":\"Product=Drillbit<br>Hashrate(Th/s)=%{x}<br>Power Efficiency (J/Th)=%{y}<extra></extra>\",\"legendgroup\":\"Drillbit\",\"marker\":{\"color\":\"#FFA15A\",\"symbol\":\"circle\"},\"mode\":\"markers\",\"name\":\"Drillbit\",\"orientation\":\"v\",\"showlegend\":true,\"type\":\"scatter\",\"x\":[0.0],\"xaxis\":\"x\",\"y\":[null],\"yaxis\":\"y\"},{\"hovertemplate\":\"Product=Ebit\\u00a0E10\\u00a0[25]<br>Hashrate(Th/s)=%{x}<br>Power Efficiency (J/Th)=%{y}<extra></extra>\",\"legendgroup\":\"Ebit\\u00a0E10\\u00a0[25]\",\"marker\":{\"color\":\"#19d3f3\",\"symbol\":\"circle\"},\"mode\":\"markers\",\"name\":\"Ebit\\u00a0E10\\u00a0[25]\",\"orientation\":\"v\",\"showlegend\":true,\"type\":\"scatter\",\"x\":[18.0],\"xaxis\":\"x\",\"y\":[90.0],\"yaxis\":\"y\"},{\"hovertemplate\":\"Product=Ebit\\u00a0E9\\u00a0[22]<br>Hashrate(Th/s)=%{x}<br>Power Efficiency (J/Th)=%{y}<extra></extra>\",\"legendgroup\":\"Ebit\\u00a0E9\\u00a0[22]\",\"marker\":{\"color\":\"#FF6692\",\"symbol\":\"circle\"},\"mode\":\"markers\",\"name\":\"Ebit\\u00a0E9\\u00a0[22]\",\"orientation\":\"v\",\"showlegend\":true,\"type\":\"scatter\",\"x\":[6.3],\"xaxis\":\"x\",\"y\":[140.0],\"yaxis\":\"y\"},{\"hovertemplate\":\"Product=Ebit\\u00a0E9+\\u00a0[23]<br>Hashrate(Th/s)=%{x}<br>Power Efficiency (J/Th)=%{y}<extra></extra>\",\"legendgroup\":\"Ebit\\u00a0E9+\\u00a0[23]\",\"marker\":{\"color\":\"#B6E880\",\"symbol\":\"circle\"},\"mode\":\"markers\",\"name\":\"Ebit\\u00a0E9+\\u00a0[23]\",\"orientation\":\"v\",\"showlegend\":true,\"type\":\"scatter\",\"x\":[9.0],\"xaxis\":\"x\",\"y\":[144.44444444444446],\"yaxis\":\"y\"},{\"hovertemplate\":\"Product=Ebit\\u00a0E9++\\u00a0[24]<br>Hashrate(Th/s)=%{x}<br>Power Efficiency (J/Th)=%{y}<extra></extra>\",\"legendgroup\":\"Ebit\\u00a0E9++\\u00a0[24]\",\"marker\":{\"color\":\"#FF97FF\",\"symbol\":\"circle\"},\"mode\":\"markers\",\"name\":\"Ebit\\u00a0E9++\\u00a0[24]\",\"orientation\":\"v\",\"showlegend\":true,\"type\":\"scatter\",\"x\":[14.0],\"xaxis\":\"x\",\"y\":[95.0],\"yaxis\":\"y\"},{\"hovertemplate\":\"Product=HashBuster Micro<br>Hashrate(Th/s)=%{x}<br>Power Efficiency (J/Th)=%{y}<extra></extra>\",\"legendgroup\":\"HashBuster Micro\",\"marker\":{\"color\":\"#FECB52\",\"symbol\":\"circle\"},\"mode\":\"markers\",\"name\":\"HashBuster Micro\",\"orientation\":\"v\",\"showlegend\":true,\"type\":\"scatter\",\"x\":[0.02],\"xaxis\":\"x\",\"y\":[1150.0],\"yaxis\":\"y\"},{\"hovertemplate\":\"Product=HashBuster Nano<br>Hashrate(Th/s)=%{x}<br>Power Efficiency (J/Th)=%{y}<extra></extra>\",\"legendgroup\":\"HashBuster Nano\",\"marker\":{\"color\":\"#636efa\",\"symbol\":\"circle\"},\"mode\":\"markers\",\"name\":\"HashBuster Nano\",\"orientation\":\"v\",\"showlegend\":true,\"type\":\"scatter\",\"x\":[0.0],\"xaxis\":\"x\",\"y\":[null],\"yaxis\":\"y\"},{\"hovertemplate\":\"Product=HashCoins\\u00a0Apollo v3<br>Hashrate(Th/s)=%{x}<br>Power Efficiency (J/Th)=%{y}<extra></extra>\",\"legendgroup\":\"HashCoins\\u00a0Apollo v3\",\"marker\":{\"color\":\"#EF553B\",\"symbol\":\"circle\"},\"mode\":\"markers\",\"name\":\"HashCoins\\u00a0Apollo v3\",\"orientation\":\"v\",\"showlegend\":true,\"type\":\"scatter\",\"x\":[1.1],\"xaxis\":\"x\",\"y\":[909.090909090909],\"yaxis\":\"y\"},{\"hovertemplate\":\"Product=HashCoins\\u00a0Zeus v3<br>Hashrate(Th/s)=%{x}<br>Power Efficiency (J/Th)=%{y}<extra></extra>\",\"legendgroup\":\"HashCoins\\u00a0Zeus v3\",\"marker\":{\"color\":\"#00cc96\",\"symbol\":\"circle\"},\"mode\":\"markers\",\"name\":\"HashCoins\\u00a0Zeus v3\",\"orientation\":\"v\",\"showlegend\":true,\"type\":\"scatter\",\"x\":[4.5],\"xaxis\":\"x\",\"y\":[666.6666666666666],\"yaxis\":\"y\"},{\"hovertemplate\":\"Product=HashFast Baby Jet<br>Hashrate(Th/s)=%{x}<br>Power Efficiency (J/Th)=%{y}<extra></extra>\",\"legendgroup\":\"HashFast Baby Jet\",\"marker\":{\"color\":\"#ab63fa\",\"symbol\":\"circle\"},\"mode\":\"markers\",\"name\":\"HashFast Baby Jet\",\"orientation\":\"v\",\"showlegend\":true,\"type\":\"scatter\",\"x\":[0.4],\"xaxis\":\"x\",\"y\":[1100.0],\"yaxis\":\"y\"},{\"hovertemplate\":\"Product=HashFast Sierra<br>Hashrate(Th/s)=%{x}<br>Power Efficiency (J/Th)=%{y}<extra></extra>\",\"legendgroup\":\"HashFast Sierra\",\"marker\":{\"color\":\"#FFA15A\",\"symbol\":\"circle\"},\"mode\":\"markers\",\"name\":\"HashFast Sierra\",\"orientation\":\"v\",\"showlegend\":true,\"type\":\"scatter\",\"x\":[1.2],\"xaxis\":\"x\",\"y\":[1100.0],\"yaxis\":\"y\"},{\"hovertemplate\":\"Product=HashFast Sierra Evo 3<br>Hashrate(Th/s)=%{x}<br>Power Efficiency (J/Th)=%{y}<extra></extra>\",\"legendgroup\":\"HashFast Sierra Evo 3\",\"marker\":{\"color\":\"#19d3f3\",\"symbol\":\"circle\"},\"mode\":\"markers\",\"name\":\"HashFast Sierra Evo 3\",\"orientation\":\"v\",\"showlegend\":true,\"type\":\"scatter\",\"x\":[2.0],\"xaxis\":\"x\",\"y\":[1100.0],\"yaxis\":\"y\"},{\"hovertemplate\":\"Product=Klondike<br>Hashrate(Th/s)=%{x}<br>Power Efficiency (J/Th)=%{y}<extra></extra>\",\"legendgroup\":\"Klondike\",\"marker\":{\"color\":\"#FF6692\",\"symbol\":\"circle\"},\"mode\":\"markers\",\"name\":\"Klondike\",\"orientation\":\"v\",\"showlegend\":true,\"type\":\"scatter\",\"x\":[0.0052],\"xaxis\":\"x\",\"y\":[6153.846153846154],\"yaxis\":\"y\"},{\"hovertemplate\":\"Product=KnC Jupiter<br>Hashrate(Th/s)=%{x}<br>Power Efficiency (J/Th)=%{y}<extra></extra>\",\"legendgroup\":\"KnC Jupiter\",\"marker\":{\"color\":\"#B6E880\",\"symbol\":\"circle\"},\"mode\":\"markers\",\"name\":\"KnC Jupiter\",\"orientation\":\"v\",\"showlegend\":true,\"type\":\"scatter\",\"x\":[0.5],\"xaxis\":\"x\",\"y\":[1200.0],\"yaxis\":\"y\"},{\"hovertemplate\":\"Product=KnC Neptune\\u00a0[28]<br>Hashrate(Th/s)=%{x}<br>Power Efficiency (J/Th)=%{y}<extra></extra>\",\"legendgroup\":\"KnC Neptune\\u00a0[28]\",\"marker\":{\"color\":\"#FF97FF\",\"symbol\":\"circle\"},\"mode\":\"markers\",\"name\":\"KnC Neptune\\u00a0[28]\",\"orientation\":\"v\",\"showlegend\":true,\"type\":\"scatter\",\"x\":[3.0],\"xaxis\":\"x\",\"y\":[700.0],\"yaxis\":\"y\"},{\"hovertemplate\":\"Product=KnC Saturn<br>Hashrate(Th/s)=%{x}<br>Power Efficiency (J/Th)=%{y}<extra></extra>\",\"legendgroup\":\"KnC Saturn\",\"marker\":{\"color\":\"#FECB52\",\"symbol\":\"circle\"},\"mode\":\"markers\",\"name\":\"KnC Saturn\",\"orientation\":\"v\",\"showlegend\":true,\"type\":\"scatter\",\"x\":[0.25],\"xaxis\":\"x\",\"y\":[1200.0],\"yaxis\":\"y\"},{\"hovertemplate\":\"Product=KnCMiner\\u00a0Mercury<br>Hashrate(Th/s)=%{x}<br>Power Efficiency (J/Th)=%{y}<extra></extra>\",\"legendgroup\":\"KnCMiner\\u00a0Mercury\",\"marker\":{\"color\":\"#636efa\",\"symbol\":\"circle\"},\"mode\":\"markers\",\"name\":\"KnCMiner\\u00a0Mercury\",\"orientation\":\"v\",\"showlegend\":true,\"type\":\"scatter\",\"x\":[0.1],\"xaxis\":\"x\",\"y\":[2500.0],\"yaxis\":\"y\"},{\"hovertemplate\":\"Product=LittleFury<br>Hashrate(Th/s)=%{x}<br>Power Efficiency (J/Th)=%{y}<extra></extra>\",\"legendgroup\":\"LittleFury\",\"marker\":{\"color\":\"#EF553B\",\"symbol\":\"circle\"},\"mode\":\"markers\",\"name\":\"LittleFury\",\"orientation\":\"v\",\"showlegend\":true,\"type\":\"scatter\",\"x\":[0.0],\"xaxis\":\"x\",\"y\":[null],\"yaxis\":\"y\"},{\"hovertemplate\":\"Product=Metabank<br>Hashrate(Th/s)=%{x}<br>Power Efficiency (J/Th)=%{y}<extra></extra>\",\"legendgroup\":\"Metabank\",\"marker\":{\"color\":\"#00cc96\",\"symbol\":\"circle\"},\"mode\":\"markers\",\"name\":\"Metabank\",\"orientation\":\"v\",\"showlegend\":true,\"type\":\"scatter\",\"x\":[0.12],\"xaxis\":\"x\",\"y\":[1416.6666666666667],\"yaxis\":\"y\"},{\"hovertemplate\":\"Product=NanoFury / IceFury<br>Hashrate(Th/s)=%{x}<br>Power Efficiency (J/Th)=%{y}<extra></extra>\",\"legendgroup\":\"NanoFury / IceFury\",\"marker\":{\"color\":\"#ab63fa\",\"symbol\":\"circle\"},\"mode\":\"markers\",\"name\":\"NanoFury / IceFury\",\"orientation\":\"v\",\"showlegend\":true,\"type\":\"scatter\",\"x\":[0.002],\"xaxis\":\"x\",\"y\":[1250.0],\"yaxis\":\"y\"},{\"hovertemplate\":\"Product=NanoFury NF2<br>Hashrate(Th/s)=%{x}<br>Power Efficiency (J/Th)=%{y}<extra></extra>\",\"legendgroup\":\"NanoFury NF2\",\"marker\":{\"color\":\"#FFA15A\",\"symbol\":\"circle\"},\"mode\":\"markers\",\"name\":\"NanoFury NF2\",\"orientation\":\"v\",\"showlegend\":true,\"type\":\"scatter\",\"x\":[0.0037],\"xaxis\":\"x\",\"y\":[1351.3513513513512],\"yaxis\":\"y\"},{\"hovertemplate\":\"Product=Red/BlueFury<br>Hashrate(Th/s)=%{x}<br>Power Efficiency (J/Th)=%{y}<extra></extra>\",\"legendgroup\":\"Red/BlueFury\",\"marker\":{\"color\":\"#19d3f3\",\"symbol\":\"circle\"},\"mode\":\"markers\",\"name\":\"Red/BlueFury\",\"orientation\":\"v\",\"showlegend\":true,\"type\":\"scatter\",\"x\":[0.0026],\"xaxis\":\"x\",\"y\":[961.5384615384615],\"yaxis\":\"y\"},{\"hovertemplate\":\"Product=ROCKMINER R-BOX 110G[30]<br>Hashrate(Th/s)=%{x}<br>Power Efficiency (J/Th)=%{y}<extra></extra>\",\"legendgroup\":\"ROCKMINER R-BOX 110G[30]\",\"marker\":{\"color\":\"#FF6692\",\"symbol\":\"circle\"},\"mode\":\"markers\",\"name\":\"ROCKMINER R-BOX 110G[30]\",\"orientation\":\"v\",\"showlegend\":true,\"type\":\"scatter\",\"x\":[0.11],\"xaxis\":\"x\",\"y\":[1090.909090909091],\"yaxis\":\"y\"},{\"hovertemplate\":\"Product=ROCKMINER R-BOX[30]<br>Hashrate(Th/s)=%{x}<br>Power Efficiency (J/Th)=%{y}<extra></extra>\",\"legendgroup\":\"ROCKMINER R-BOX[30]\",\"marker\":{\"color\":\"#B6E880\",\"symbol\":\"circle\"},\"mode\":\"markers\",\"name\":\"ROCKMINER R-BOX[30]\",\"orientation\":\"v\",\"showlegend\":true,\"type\":\"scatter\",\"x\":[0.032],\"xaxis\":\"x\",\"y\":[1406.25],\"yaxis\":\"y\"},{\"hovertemplate\":\"Product=ROCKMINER R3-BOX[30]<br>Hashrate(Th/s)=%{x}<br>Power Efficiency (J/Th)=%{y}<extra></extra>\",\"legendgroup\":\"ROCKMINER R3-BOX[30]\",\"marker\":{\"color\":\"#FF97FF\",\"symbol\":\"circle\"},\"mode\":\"markers\",\"name\":\"ROCKMINER R3-BOX[30]\",\"orientation\":\"v\",\"showlegend\":true,\"type\":\"scatter\",\"x\":[0.45],\"xaxis\":\"x\",\"y\":[1000.0],\"yaxis\":\"y\"},{\"hovertemplate\":\"Product=ROCKMINER R4-BOX[30]<br>Hashrate(Th/s)=%{x}<br>Power Efficiency (J/Th)=%{y}<extra></extra>\",\"legendgroup\":\"ROCKMINER R4-BOX[30]\",\"marker\":{\"color\":\"#FECB52\",\"symbol\":\"circle\"},\"mode\":\"markers\",\"name\":\"ROCKMINER R4-BOX[30]\",\"orientation\":\"v\",\"showlegend\":true,\"type\":\"scatter\",\"x\":[0.47],\"xaxis\":\"x\",\"y\":[1000.0],\"yaxis\":\"y\"},{\"hovertemplate\":\"Product=ROCKMINER Rocket BOX\\u00a0[30]<br>Hashrate(Th/s)=%{x}<br>Power Efficiency (J/Th)=%{y}<extra></extra>\",\"legendgroup\":\"ROCKMINER Rocket BOX\\u00a0[30]\",\"marker\":{\"color\":\"#636efa\",\"symbol\":\"circle\"},\"mode\":\"markers\",\"name\":\"ROCKMINER Rocket BOX\\u00a0[30]\",\"orientation\":\"v\",\"showlegend\":true,\"type\":\"scatter\",\"x\":[0.45],\"xaxis\":\"x\",\"y\":[1066.6666666666667],\"yaxis\":\"y\"},{\"hovertemplate\":\"Product=ROCKMINER T1 800G[30]<br>Hashrate(Th/s)=%{x}<br>Power Efficiency (J/Th)=%{y}<extra></extra>\",\"legendgroup\":\"ROCKMINER T1 800G[30]\",\"marker\":{\"color\":\"#EF553B\",\"symbol\":\"circle\"},\"mode\":\"markers\",\"name\":\"ROCKMINER T1 800G[30]\",\"orientation\":\"v\",\"showlegend\":true,\"type\":\"scatter\",\"x\":[0.8],\"xaxis\":\"x\",\"y\":[1250.0],\"yaxis\":\"y\"},{\"hovertemplate\":\"Product=Spondooliestech SP10 Dawson[31]<br>Hashrate(Th/s)=%{x}<br>Power Efficiency (J/Th)=%{y}<extra></extra>\",\"legendgroup\":\"Spondooliestech SP10 Dawson[31]\",\"marker\":{\"color\":\"#00cc96\",\"symbol\":\"circle\"},\"mode\":\"markers\",\"name\":\"Spondooliestech SP10 Dawson[31]\",\"orientation\":\"v\",\"showlegend\":true,\"type\":\"scatter\",\"x\":[1.4],\"xaxis\":\"x\",\"y\":[892.8571428571429],\"yaxis\":\"y\"},{\"hovertemplate\":\"Product=Spondooliestech SP20 Jackson[32]<br>Hashrate(Th/s)=%{x}<br>Power Efficiency (J/Th)=%{y}<extra></extra>\",\"legendgroup\":\"Spondooliestech SP20 Jackson[32]\",\"marker\":{\"color\":\"#ab63fa\",\"symbol\":\"circle\"},\"mode\":\"markers\",\"name\":\"Spondooliestech SP20 Jackson[32]\",\"orientation\":\"v\",\"showlegend\":true,\"type\":\"scatter\",\"x\":[1.7],\"xaxis\":\"x\",\"y\":[647.0588235294118],\"yaxis\":\"y\"},{\"hovertemplate\":\"Product=Spondooliestech SP30 Yukon[33]<br>Hashrate(Th/s)=%{x}<br>Power Efficiency (J/Th)=%{y}<extra></extra>\",\"legendgroup\":\"Spondooliestech SP30 Yukon[33]\",\"marker\":{\"color\":\"#FFA15A\",\"symbol\":\"circle\"},\"mode\":\"markers\",\"name\":\"Spondooliestech SP30 Yukon[33]\",\"orientation\":\"v\",\"showlegend\":true,\"type\":\"scatter\",\"x\":[4.5],\"xaxis\":\"x\",\"y\":[666.6666666666666],\"yaxis\":\"y\"},{\"hovertemplate\":\"Product=Spondooliestech SP31 Yukon[34]<br>Hashrate(Th/s)=%{x}<br>Power Efficiency (J/Th)=%{y}<extra></extra>\",\"legendgroup\":\"Spondooliestech SP31 Yukon[34]\",\"marker\":{\"color\":\"#19d3f3\",\"symbol\":\"circle\"},\"mode\":\"markers\",\"name\":\"Spondooliestech SP31 Yukon[34]\",\"orientation\":\"v\",\"showlegend\":true,\"type\":\"scatter\",\"x\":[4.9],\"xaxis\":\"x\",\"y\":[612.2448979591836],\"yaxis\":\"y\"},{\"hovertemplate\":\"Product=Spondooliestech SP35 Yukon[35]<br>Hashrate(Th/s)=%{x}<br>Power Efficiency (J/Th)=%{y}<extra></extra>\",\"legendgroup\":\"Spondooliestech SP35 Yukon[35]\",\"marker\":{\"color\":\"#FF6692\",\"symbol\":\"circle\"},\"mode\":\"markers\",\"name\":\"Spondooliestech SP35 Yukon[35]\",\"orientation\":\"v\",\"showlegend\":true,\"type\":\"scatter\",\"x\":[5.5],\"xaxis\":\"x\",\"y\":[663.6363636363636],\"yaxis\":\"y\"},{\"hovertemplate\":\"Product=TerraHash DX Large (full)<br>Hashrate(Th/s)=%{x}<br>Power Efficiency (J/Th)=%{y}<extra></extra>\",\"legendgroup\":\"TerraHash DX Large (full)\",\"marker\":{\"color\":\"#B6E880\",\"symbol\":\"circle\"},\"mode\":\"markers\",\"name\":\"TerraHash DX Large (full)\",\"orientation\":\"v\",\"showlegend\":true,\"type\":\"scatter\",\"x\":[0.18],\"xaxis\":\"x\",\"y\":[7111.111111111111],\"yaxis\":\"y\"},{\"hovertemplate\":\"Product=TerraHash DX Mini (full)<br>Hashrate(Th/s)=%{x}<br>Power Efficiency (J/Th)=%{y}<extra></extra>\",\"legendgroup\":\"TerraHash DX Mini (full)\",\"marker\":{\"color\":\"#FF97FF\",\"symbol\":\"circle\"},\"mode\":\"markers\",\"name\":\"TerraHash DX Mini (full)\",\"orientation\":\"v\",\"showlegend\":true,\"type\":\"scatter\",\"x\":[0.09],\"xaxis\":\"x\",\"y\":[7111.111111111111],\"yaxis\":\"y\"},{\"hovertemplate\":\"Product=TerraHash Klondike 16\\u00a0[36]<br>Hashrate(Th/s)=%{x}<br>Power Efficiency (J/Th)=%{y}<extra></extra>\",\"legendgroup\":\"TerraHash Klondike 16\\u00a0[36]\",\"marker\":{\"color\":\"#FECB52\",\"symbol\":\"circle\"},\"mode\":\"markers\",\"name\":\"TerraHash Klondike 16\\u00a0[36]\",\"orientation\":\"v\",\"showlegend\":true,\"type\":\"scatter\",\"x\":[0.0045],\"xaxis\":\"x\",\"y\":[7111.111111111111],\"yaxis\":\"y\"},{\"hovertemplate\":\"Product=TerraHash Klondike 64\\u00a0[37]<br>Hashrate(Th/s)=%{x}<br>Power Efficiency (J/Th)=%{y}<extra></extra>\",\"legendgroup\":\"TerraHash Klondike 64\\u00a0[37]\",\"marker\":{\"color\":\"#636efa\",\"symbol\":\"circle\"},\"mode\":\"markers\",\"name\":\"TerraHash Klondike 64\\u00a0[37]\",\"orientation\":\"v\",\"showlegend\":true,\"type\":\"scatter\",\"x\":[0.018],\"xaxis\":\"x\",\"y\":[7055.555555555556],\"yaxis\":\"y\"},{\"hovertemplate\":\"Product=Twinfury<br>Hashrate(Th/s)=%{x}<br>Power Efficiency (J/Th)=%{y}<extra></extra>\",\"legendgroup\":\"Twinfury\",\"marker\":{\"color\":\"#EF553B\",\"symbol\":\"circle\"},\"mode\":\"markers\",\"name\":\"Twinfury\",\"orientation\":\"v\",\"showlegend\":true,\"type\":\"scatter\",\"x\":[0.0045],\"xaxis\":\"x\",\"y\":[851.1111111111112],\"yaxis\":\"y\"},{\"hovertemplate\":\"Product=WhatsMiner M1<br>Hashrate(Th/s)=%{x}<br>Power Efficiency (J/Th)=%{y}<extra></extra>\",\"legendgroup\":\"WhatsMiner M1\",\"marker\":{\"color\":\"#00cc96\",\"symbol\":\"circle\"},\"mode\":\"markers\",\"name\":\"WhatsMiner M1\",\"orientation\":\"v\",\"showlegend\":true,\"type\":\"scatter\",\"x\":[null],\"xaxis\":\"x\",\"y\":[null],\"yaxis\":\"y\"},{\"hovertemplate\":\"Product=WhatsMiner M2<br>Hashrate(Th/s)=%{x}<br>Power Efficiency (J/Th)=%{y}<extra></extra>\",\"legendgroup\":\"WhatsMiner M2\",\"marker\":{\"color\":\"#ab63fa\",\"symbol\":\"circle\"},\"mode\":\"markers\",\"name\":\"WhatsMiner M2\",\"orientation\":\"v\",\"showlegend\":true,\"type\":\"scatter\",\"x\":[9.2],\"xaxis\":\"x\",\"y\":[222.3913043478261],\"yaxis\":\"y\"},{\"hovertemplate\":\"Product=WhatsMiner M3<br>Hashrate(Th/s)=%{x}<br>Power Efficiency (J/Th)=%{y}<extra></extra>\",\"legendgroup\":\"WhatsMiner M3\",\"marker\":{\"color\":\"#FFA15A\",\"symbol\":\"circle\"},\"mode\":\"markers\",\"name\":\"WhatsMiner M3\",\"orientation\":\"v\",\"showlegend\":true,\"type\":\"scatter\",\"x\":[11.5],\"xaxis\":\"x\",\"y\":[155.2173913043478],\"yaxis\":\"y\"}],                        {\"legend\":{\"title\":{\"text\":\"Product\"},\"tracegroupgap\":0},\"template\":{\"data\":{\"bar\":[{\"error_x\":{\"color\":\"#2a3f5f\"},\"error_y\":{\"color\":\"#2a3f5f\"},\"marker\":{\"line\":{\"color\":\"#E5ECF6\",\"width\":0.5},\"pattern\":{\"fillmode\":\"overlay\",\"size\":10,\"solidity\":0.2}},\"type\":\"bar\"}],\"barpolar\":[{\"marker\":{\"line\":{\"color\":\"#E5ECF6\",\"width\":0.5},\"pattern\":{\"fillmode\":\"overlay\",\"size\":10,\"solidity\":0.2}},\"type\":\"barpolar\"}],\"carpet\":[{\"aaxis\":{\"endlinecolor\":\"#2a3f5f\",\"gridcolor\":\"white\",\"linecolor\":\"white\",\"minorgridcolor\":\"white\",\"startlinecolor\":\"#2a3f5f\"},\"baxis\":{\"endlinecolor\":\"#2a3f5f\",\"gridcolor\":\"white\",\"linecolor\":\"white\",\"minorgridcolor\":\"white\",\"startlinecolor\":\"#2a3f5f\"},\"type\":\"carpet\"}],\"choropleth\":[{\"colorbar\":{\"outlinewidth\":0,\"ticks\":\"\"},\"type\":\"choropleth\"}],\"contour\":[{\"colorbar\":{\"outlinewidth\":0,\"ticks\":\"\"},\"colorscale\":[[0.0,\"#0d0887\"],[0.1111111111111111,\"#46039f\"],[0.2222222222222222,\"#7201a8\"],[0.3333333333333333,\"#9c179e\"],[0.4444444444444444,\"#bd3786\"],[0.5555555555555556,\"#d8576b\"],[0.6666666666666666,\"#ed7953\"],[0.7777777777777778,\"#fb9f3a\"],[0.8888888888888888,\"#fdca26\"],[1.0,\"#f0f921\"]],\"type\":\"contour\"}],\"contourcarpet\":[{\"colorbar\":{\"outlinewidth\":0,\"ticks\":\"\"},\"type\":\"contourcarpet\"}],\"heatmap\":[{\"colorbar\":{\"outlinewidth\":0,\"ticks\":\"\"},\"colorscale\":[[0.0,\"#0d0887\"],[0.1111111111111111,\"#46039f\"],[0.2222222222222222,\"#7201a8\"],[0.3333333333333333,\"#9c179e\"],[0.4444444444444444,\"#bd3786\"],[0.5555555555555556,\"#d8576b\"],[0.6666666666666666,\"#ed7953\"],[0.7777777777777778,\"#fb9f3a\"],[0.8888888888888888,\"#fdca26\"],[1.0,\"#f0f921\"]],\"type\":\"heatmap\"}],\"heatmapgl\":[{\"colorbar\":{\"outlinewidth\":0,\"ticks\":\"\"},\"colorscale\":[[0.0,\"#0d0887\"],[0.1111111111111111,\"#46039f\"],[0.2222222222222222,\"#7201a8\"],[0.3333333333333333,\"#9c179e\"],[0.4444444444444444,\"#bd3786\"],[0.5555555555555556,\"#d8576b\"],[0.6666666666666666,\"#ed7953\"],[0.7777777777777778,\"#fb9f3a\"],[0.8888888888888888,\"#fdca26\"],[1.0,\"#f0f921\"]],\"type\":\"heatmapgl\"}],\"histogram\":[{\"marker\":{\"pattern\":{\"fillmode\":\"overlay\",\"size\":10,\"solidity\":0.2}},\"type\":\"histogram\"}],\"histogram2d\":[{\"colorbar\":{\"outlinewidth\":0,\"ticks\":\"\"},\"colorscale\":[[0.0,\"#0d0887\"],[0.1111111111111111,\"#46039f\"],[0.2222222222222222,\"#7201a8\"],[0.3333333333333333,\"#9c179e\"],[0.4444444444444444,\"#bd3786\"],[0.5555555555555556,\"#d8576b\"],[0.6666666666666666,\"#ed7953\"],[0.7777777777777778,\"#fb9f3a\"],[0.8888888888888888,\"#fdca26\"],[1.0,\"#f0f921\"]],\"type\":\"histogram2d\"}],\"histogram2dcontour\":[{\"colorbar\":{\"outlinewidth\":0,\"ticks\":\"\"},\"colorscale\":[[0.0,\"#0d0887\"],[0.1111111111111111,\"#46039f\"],[0.2222222222222222,\"#7201a8\"],[0.3333333333333333,\"#9c179e\"],[0.4444444444444444,\"#bd3786\"],[0.5555555555555556,\"#d8576b\"],[0.6666666666666666,\"#ed7953\"],[0.7777777777777778,\"#fb9f3a\"],[0.8888888888888888,\"#fdca26\"],[1.0,\"#f0f921\"]],\"type\":\"histogram2dcontour\"}],\"mesh3d\":[{\"colorbar\":{\"outlinewidth\":0,\"ticks\":\"\"},\"type\":\"mesh3d\"}],\"parcoords\":[{\"line\":{\"colorbar\":{\"outlinewidth\":0,\"ticks\":\"\"}},\"type\":\"parcoords\"}],\"pie\":[{\"automargin\":true,\"type\":\"pie\"}],\"scatter\":[{\"marker\":{\"colorbar\":{\"outlinewidth\":0,\"ticks\":\"\"}},\"type\":\"scatter\"}],\"scatter3d\":[{\"line\":{\"colorbar\":{\"outlinewidth\":0,\"ticks\":\"\"}},\"marker\":{\"colorbar\":{\"outlinewidth\":0,\"ticks\":\"\"}},\"type\":\"scatter3d\"}],\"scattercarpet\":[{\"marker\":{\"colorbar\":{\"outlinewidth\":0,\"ticks\":\"\"}},\"type\":\"scattercarpet\"}],\"scattergeo\":[{\"marker\":{\"colorbar\":{\"outlinewidth\":0,\"ticks\":\"\"}},\"type\":\"scattergeo\"}],\"scattergl\":[{\"marker\":{\"colorbar\":{\"outlinewidth\":0,\"ticks\":\"\"}},\"type\":\"scattergl\"}],\"scattermapbox\":[{\"marker\":{\"colorbar\":{\"outlinewidth\":0,\"ticks\":\"\"}},\"type\":\"scattermapbox\"}],\"scatterpolar\":[{\"marker\":{\"colorbar\":{\"outlinewidth\":0,\"ticks\":\"\"}},\"type\":\"scatterpolar\"}],\"scatterpolargl\":[{\"marker\":{\"colorbar\":{\"outlinewidth\":0,\"ticks\":\"\"}},\"type\":\"scatterpolargl\"}],\"scatterternary\":[{\"marker\":{\"colorbar\":{\"outlinewidth\":0,\"ticks\":\"\"}},\"type\":\"scatterternary\"}],\"surface\":[{\"colorbar\":{\"outlinewidth\":0,\"ticks\":\"\"},\"colorscale\":[[0.0,\"#0d0887\"],[0.1111111111111111,\"#46039f\"],[0.2222222222222222,\"#7201a8\"],[0.3333333333333333,\"#9c179e\"],[0.4444444444444444,\"#bd3786\"],[0.5555555555555556,\"#d8576b\"],[0.6666666666666666,\"#ed7953\"],[0.7777777777777778,\"#fb9f3a\"],[0.8888888888888888,\"#fdca26\"],[1.0,\"#f0f921\"]],\"type\":\"surface\"}],\"table\":[{\"cells\":{\"fill\":{\"color\":\"#EBF0F8\"},\"line\":{\"color\":\"white\"}},\"header\":{\"fill\":{\"color\":\"#C8D4E3\"},\"line\":{\"color\":\"white\"}},\"type\":\"table\"}]},\"layout\":{\"annotationdefaults\":{\"arrowcolor\":\"#2a3f5f\",\"arrowhead\":0,\"arrowwidth\":1},\"autotypenumbers\":\"strict\",\"coloraxis\":{\"colorbar\":{\"outlinewidth\":0,\"ticks\":\"\"}},\"colorscale\":{\"diverging\":[[0,\"#8e0152\"],[0.1,\"#c51b7d\"],[0.2,\"#de77ae\"],[0.3,\"#f1b6da\"],[0.4,\"#fde0ef\"],[0.5,\"#f7f7f7\"],[0.6,\"#e6f5d0\"],[0.7,\"#b8e186\"],[0.8,\"#7fbc41\"],[0.9,\"#4d9221\"],[1,\"#276419\"]],\"sequential\":[[0.0,\"#0d0887\"],[0.1111111111111111,\"#46039f\"],[0.2222222222222222,\"#7201a8\"],[0.3333333333333333,\"#9c179e\"],[0.4444444444444444,\"#bd3786\"],[0.5555555555555556,\"#d8576b\"],[0.6666666666666666,\"#ed7953\"],[0.7777777777777778,\"#fb9f3a\"],[0.8888888888888888,\"#fdca26\"],[1.0,\"#f0f921\"]],\"sequentialminus\":[[0.0,\"#0d0887\"],[0.1111111111111111,\"#46039f\"],[0.2222222222222222,\"#7201a8\"],[0.3333333333333333,\"#9c179e\"],[0.4444444444444444,\"#bd3786\"],[0.5555555555555556,\"#d8576b\"],[0.6666666666666666,\"#ed7953\"],[0.7777777777777778,\"#fb9f3a\"],[0.8888888888888888,\"#fdca26\"],[1.0,\"#f0f921\"]]},\"colorway\":[\"#636efa\",\"#EF553B\",\"#00cc96\",\"#ab63fa\",\"#FFA15A\",\"#19d3f3\",\"#FF6692\",\"#B6E880\",\"#FF97FF\",\"#FECB52\"],\"font\":{\"color\":\"#2a3f5f\"},\"geo\":{\"bgcolor\":\"white\",\"lakecolor\":\"white\",\"landcolor\":\"#E5ECF6\",\"showlakes\":true,\"showland\":true,\"subunitcolor\":\"white\"},\"hoverlabel\":{\"align\":\"left\"},\"hovermode\":\"closest\",\"mapbox\":{\"style\":\"light\"},\"paper_bgcolor\":\"white\",\"plot_bgcolor\":\"#E5ECF6\",\"polar\":{\"angularaxis\":{\"gridcolor\":\"white\",\"linecolor\":\"white\",\"ticks\":\"\"},\"bgcolor\":\"#E5ECF6\",\"radialaxis\":{\"gridcolor\":\"white\",\"linecolor\":\"white\",\"ticks\":\"\"}},\"scene\":{\"xaxis\":{\"backgroundcolor\":\"#E5ECF6\",\"gridcolor\":\"white\",\"gridwidth\":2,\"linecolor\":\"white\",\"showbackground\":true,\"ticks\":\"\",\"zerolinecolor\":\"white\"},\"yaxis\":{\"backgroundcolor\":\"#E5ECF6\",\"gridcolor\":\"white\",\"gridwidth\":2,\"linecolor\":\"white\",\"showbackground\":true,\"ticks\":\"\",\"zerolinecolor\":\"white\"},\"zaxis\":{\"backgroundcolor\":\"#E5ECF6\",\"gridcolor\":\"white\",\"gridwidth\":2,\"linecolor\":\"white\",\"showbackground\":true,\"ticks\":\"\",\"zerolinecolor\":\"white\"}},\"shapedefaults\":{\"line\":{\"color\":\"#2a3f5f\"}},\"ternary\":{\"aaxis\":{\"gridcolor\":\"white\",\"linecolor\":\"white\",\"ticks\":\"\"},\"baxis\":{\"gridcolor\":\"white\",\"linecolor\":\"white\",\"ticks\":\"\"},\"bgcolor\":\"#E5ECF6\",\"caxis\":{\"gridcolor\":\"white\",\"linecolor\":\"white\",\"ticks\":\"\"}},\"title\":{\"x\":0.05},\"xaxis\":{\"automargin\":true,\"gridcolor\":\"white\",\"linecolor\":\"white\",\"ticks\":\"\",\"title\":{\"standoff\":15},\"zerolinecolor\":\"white\",\"zerolinewidth\":2},\"yaxis\":{\"automargin\":true,\"gridcolor\":\"white\",\"linecolor\":\"white\",\"ticks\":\"\",\"title\":{\"standoff\":15},\"zerolinecolor\":\"white\",\"zerolinewidth\":2}}},\"title\":{\"text\":\"Efficiencies of Bitcoin Hardware (P.Z)\"},\"xaxis\":{\"anchor\":\"y\",\"domain\":[0.0,1.0],\"title\":{\"text\":\"Hashrate(Th/s)\"},\"type\":\"log\"},\"yaxis\":{\"anchor\":\"x\",\"domain\":[0.0,1.0],\"title\":{\"text\":\"Power Efficiency (J/Th)\"}}},                        {\"responsive\": true}                    ).then(function(){\n",
       "                            \n",
       "var gd = document.getElementById('d3c1cf2f-03e6-4746-81f2-2bf2b128fcf3');\n",
       "var x = new MutationObserver(function (mutations, observer) {{\n",
       "        var display = window.getComputedStyle(gd).display;\n",
       "        if (!display || display === 'none') {{\n",
       "            console.log([gd, 'removed!']);\n",
       "            Plotly.purge(gd);\n",
       "            observer.disconnect();\n",
       "        }}\n",
       "}});\n",
       "\n",
       "// Listen for the removal of the full notebook cells\n",
       "var notebookContainer = gd.closest('#notebook-container');\n",
       "if (notebookContainer) {{\n",
       "    x.observe(notebookContainer, {childList: true});\n",
       "}}\n",
       "\n",
       "// Listen for the clearing of the current output cell\n",
       "var outputEl = gd.closest('.output');\n",
       "if (outputEl) {{\n",
       "    x.observe(outputEl, {childList: true});\n",
       "}}\n",
       "\n",
       "                        })                };                });            </script>        </div>"
      ]
     },
     "metadata": {},
     "output_type": "display_data"
    },
    {
     "data": {
      "text/plain": [
       "<Figure size 1440x720 with 0 Axes>"
      ]
     },
     "metadata": {},
     "output_type": "display_data"
    }
   ],
   "source": [
    "#plot efficiencies\n",
    "plt.figure( figsize = ( 20, 10))\n",
    "x=miner_info['Hashrate(Th/s)']\n",
    "y=miner_info['Power Efficiency (J/Th)']\n",
    "sym=miner_info['Product']\n",
    "import plotly.express as px\n",
    "fig = px.scatter(miner_info, x, y, color=sym, log_x=True, title = 'Efficiencies of Bitcoin Hardware (P.Z)')\n",
    "fig.show()"
   ]
  },
  {
   "cell_type": "code",
   "execution_count": 135,
   "metadata": {},
   "outputs": [
    {
     "data": {
      "application/vnd.plotly.v1+json": {
       "config": {
        "plotlyServerURL": "https://plot.ly"
       },
       "data": [
        {
         "hovertemplate": "ASIC Model=Antminer S19Pro<br>Hash Power (Th/s)=%{x}<br>Power Efficiency (J/T)=%{y}<br>Denver's Derivative=%{marker.color}<extra></extra>",
         "legendgroup": "Antminer S19Pro",
         "marker": {
          "color": [
           46.37149593921928
          ],
          "coloraxis": "coloraxis",
          "symbol": "circle"
         },
         "mode": "markers",
         "name": "Antminer S19Pro",
         "orientation": "v",
         "showlegend": true,
         "type": "scatter",
         "x": [
          110
         ],
         "xaxis": "x",
         "y": [
          29.5
         ],
         "yaxis": "y"
        },
        {
         "hovertemplate": "ASIC Model=Antminer S19jPro<br>Hash Power (Th/s)=%{x}<br>Power Efficiency (J/T)=%{y}<br>Denver's Derivative=%{marker.color}<extra></extra>",
         "legendgroup": "Antminer S19jPro",
         "marker": {
          "color": [
           40.80691642651296
          ],
          "coloraxis": "coloraxis",
          "symbol": "diamond"
         },
         "mode": "markers",
         "name": "Antminer S19jPro",
         "orientation": "v",
         "showlegend": true,
         "type": "scatter",
         "x": [
          104
         ],
         "xaxis": "x",
         "y": [
          29.5
         ],
         "yaxis": "y"
        },
        {
         "hovertemplate": "ASIC Model=Antminer S19Pro + Hyd<br>Hash Power (Th/s)=%{x}<br>Power Efficiency (J/T)=%{y}<br>Denver's Derivative=%{marker.color}<extra></extra>",
         "legendgroup": "Antminer S19Pro + Hyd",
         "marker": {
          "color": [
           30.115273775216135
          ],
          "coloraxis": "coloraxis",
          "symbol": "square"
         },
         "mode": "markers",
         "name": "Antminer S19Pro + Hyd",
         "orientation": "v",
         "showlegend": true,
         "type": "scatter",
         "x": [
          198
         ],
         "xaxis": "x",
         "y": [
          27.5
         ],
         "yaxis": "y"
        },
        {
         "hovertemplate": "ASIC Model=Antminer S19XP<br>Hash Power (Th/s)=%{x}<br>Power Efficiency (J/T)=%{y}<br>Denver's Derivative=%{marker.color}<extra></extra>",
         "legendgroup": "Antminer S19XP",
         "marker": {
          "color": [
           25.713256484149852
          ],
          "coloraxis": "coloraxis",
          "symbol": "x"
         },
         "mode": "markers",
         "name": "Antminer S19XP",
         "orientation": "v",
         "showlegend": true,
         "type": "scatter",
         "x": [
          140
         ],
         "xaxis": "x",
         "y": [
          21.5
         ],
         "yaxis": "y"
        },
        {
         "hovertemplate": "ASIC Model=Whatsminer M30s++ 112<br>Hash Power (Th/s)=%{x}<br>Power Efficiency (J/T)=%{y}<br>Denver's Derivative=%{marker.color}<extra></extra>",
         "legendgroup": "Whatsminer M30s++ 112",
         "marker": {
          "color": [
           51.98705743104158
          ],
          "coloraxis": "coloraxis",
          "symbol": "cross"
         },
         "mode": "markers",
         "name": "Whatsminer M30s++ 112",
         "orientation": "v",
         "showlegend": true,
         "type": "scatter",
         "x": [
          112
         ],
         "xaxis": "x",
         "y": [
          31
         ],
         "yaxis": "y"
        },
        {
         "hovertemplate": "ASIC Model=Whatsminer M30s++ 106 (neq)<br>Hash Power (Th/s)=%{x}<br>Power Efficiency (J/T)=%{y}<br>Denver's Derivative=%{marker.color}<extra></extra>",
         "legendgroup": "Whatsminer M30s++ 106 (neq)",
         "marker": {
          "color": [
           34.13354358109945
          ],
          "coloraxis": "coloraxis",
          "symbol": "circle"
         },
         "mode": "markers",
         "name": "Whatsminer M30s++ 106 (neq)",
         "orientation": "v",
         "showlegend": true,
         "type": "scatter",
         "x": [
          106
         ],
         "xaxis": "x",
         "y": [
          31
         ],
         "yaxis": "y"
        },
        {
         "hovertemplate": "ASIC Model=Whatsminer M32<br>Hash Power (Th/s)=%{x}<br>Power Efficiency (J/T)=%{y}<br>Denver's Derivative=%{marker.color}<extra></extra>",
         "legendgroup": "Whatsminer M32",
         "marker": {
          "color": [
           37.686472283437865
          ],
          "coloraxis": "coloraxis",
          "symbol": "diamond"
         },
         "mode": "markers",
         "name": "Whatsminer M32",
         "orientation": "v",
         "showlegend": true,
         "type": "scatter",
         "x": [
          68
         ],
         "xaxis": "x",
         "y": [
          50
         ],
         "yaxis": "y"
        }
       ],
       "layout": {
        "coloraxis": {
         "colorbar": {
          "title": {
           "text": "Denver's Derivative"
          }
         },
         "colorscale": [
          [
           0,
           "#0d0887"
          ],
          [
           0.1111111111111111,
           "#46039f"
          ],
          [
           0.2222222222222222,
           "#7201a8"
          ],
          [
           0.3333333333333333,
           "#9c179e"
          ],
          [
           0.4444444444444444,
           "#bd3786"
          ],
          [
           0.5555555555555556,
           "#d8576b"
          ],
          [
           0.6666666666666666,
           "#ed7953"
          ],
          [
           0.7777777777777778,
           "#fb9f3a"
          ],
          [
           0.8888888888888888,
           "#fdca26"
          ],
          [
           1,
           "#f0f921"
          ]
         ]
        },
        "legend": {
         "orientation": "h",
         "title": {
          "text": "ASIC Model"
         },
         "tracegroupgap": 0,
         "x": 1,
         "xanchor": "right",
         "y": 1.02,
         "yanchor": "bottom"
        },
        "template": {
         "data": {
          "bar": [
           {
            "error_x": {
             "color": "#2a3f5f"
            },
            "error_y": {
             "color": "#2a3f5f"
            },
            "marker": {
             "line": {
              "color": "#E5ECF6",
              "width": 0.5
             },
             "pattern": {
              "fillmode": "overlay",
              "size": 10,
              "solidity": 0.2
             }
            },
            "type": "bar"
           }
          ],
          "barpolar": [
           {
            "marker": {
             "line": {
              "color": "#E5ECF6",
              "width": 0.5
             },
             "pattern": {
              "fillmode": "overlay",
              "size": 10,
              "solidity": 0.2
             }
            },
            "type": "barpolar"
           }
          ],
          "carpet": [
           {
            "aaxis": {
             "endlinecolor": "#2a3f5f",
             "gridcolor": "white",
             "linecolor": "white",
             "minorgridcolor": "white",
             "startlinecolor": "#2a3f5f"
            },
            "baxis": {
             "endlinecolor": "#2a3f5f",
             "gridcolor": "white",
             "linecolor": "white",
             "minorgridcolor": "white",
             "startlinecolor": "#2a3f5f"
            },
            "type": "carpet"
           }
          ],
          "choropleth": [
           {
            "colorbar": {
             "outlinewidth": 0,
             "ticks": ""
            },
            "type": "choropleth"
           }
          ],
          "contour": [
           {
            "colorbar": {
             "outlinewidth": 0,
             "ticks": ""
            },
            "colorscale": [
             [
              0,
              "#0d0887"
             ],
             [
              0.1111111111111111,
              "#46039f"
             ],
             [
              0.2222222222222222,
              "#7201a8"
             ],
             [
              0.3333333333333333,
              "#9c179e"
             ],
             [
              0.4444444444444444,
              "#bd3786"
             ],
             [
              0.5555555555555556,
              "#d8576b"
             ],
             [
              0.6666666666666666,
              "#ed7953"
             ],
             [
              0.7777777777777778,
              "#fb9f3a"
             ],
             [
              0.8888888888888888,
              "#fdca26"
             ],
             [
              1,
              "#f0f921"
             ]
            ],
            "type": "contour"
           }
          ],
          "contourcarpet": [
           {
            "colorbar": {
             "outlinewidth": 0,
             "ticks": ""
            },
            "type": "contourcarpet"
           }
          ],
          "heatmap": [
           {
            "colorbar": {
             "outlinewidth": 0,
             "ticks": ""
            },
            "colorscale": [
             [
              0,
              "#0d0887"
             ],
             [
              0.1111111111111111,
              "#46039f"
             ],
             [
              0.2222222222222222,
              "#7201a8"
             ],
             [
              0.3333333333333333,
              "#9c179e"
             ],
             [
              0.4444444444444444,
              "#bd3786"
             ],
             [
              0.5555555555555556,
              "#d8576b"
             ],
             [
              0.6666666666666666,
              "#ed7953"
             ],
             [
              0.7777777777777778,
              "#fb9f3a"
             ],
             [
              0.8888888888888888,
              "#fdca26"
             ],
             [
              1,
              "#f0f921"
             ]
            ],
            "type": "heatmap"
           }
          ],
          "heatmapgl": [
           {
            "colorbar": {
             "outlinewidth": 0,
             "ticks": ""
            },
            "colorscale": [
             [
              0,
              "#0d0887"
             ],
             [
              0.1111111111111111,
              "#46039f"
             ],
             [
              0.2222222222222222,
              "#7201a8"
             ],
             [
              0.3333333333333333,
              "#9c179e"
             ],
             [
              0.4444444444444444,
              "#bd3786"
             ],
             [
              0.5555555555555556,
              "#d8576b"
             ],
             [
              0.6666666666666666,
              "#ed7953"
             ],
             [
              0.7777777777777778,
              "#fb9f3a"
             ],
             [
              0.8888888888888888,
              "#fdca26"
             ],
             [
              1,
              "#f0f921"
             ]
            ],
            "type": "heatmapgl"
           }
          ],
          "histogram": [
           {
            "marker": {
             "pattern": {
              "fillmode": "overlay",
              "size": 10,
              "solidity": 0.2
             }
            },
            "type": "histogram"
           }
          ],
          "histogram2d": [
           {
            "colorbar": {
             "outlinewidth": 0,
             "ticks": ""
            },
            "colorscale": [
             [
              0,
              "#0d0887"
             ],
             [
              0.1111111111111111,
              "#46039f"
             ],
             [
              0.2222222222222222,
              "#7201a8"
             ],
             [
              0.3333333333333333,
              "#9c179e"
             ],
             [
              0.4444444444444444,
              "#bd3786"
             ],
             [
              0.5555555555555556,
              "#d8576b"
             ],
             [
              0.6666666666666666,
              "#ed7953"
             ],
             [
              0.7777777777777778,
              "#fb9f3a"
             ],
             [
              0.8888888888888888,
              "#fdca26"
             ],
             [
              1,
              "#f0f921"
             ]
            ],
            "type": "histogram2d"
           }
          ],
          "histogram2dcontour": [
           {
            "colorbar": {
             "outlinewidth": 0,
             "ticks": ""
            },
            "colorscale": [
             [
              0,
              "#0d0887"
             ],
             [
              0.1111111111111111,
              "#46039f"
             ],
             [
              0.2222222222222222,
              "#7201a8"
             ],
             [
              0.3333333333333333,
              "#9c179e"
             ],
             [
              0.4444444444444444,
              "#bd3786"
             ],
             [
              0.5555555555555556,
              "#d8576b"
             ],
             [
              0.6666666666666666,
              "#ed7953"
             ],
             [
              0.7777777777777778,
              "#fb9f3a"
             ],
             [
              0.8888888888888888,
              "#fdca26"
             ],
             [
              1,
              "#f0f921"
             ]
            ],
            "type": "histogram2dcontour"
           }
          ],
          "mesh3d": [
           {
            "colorbar": {
             "outlinewidth": 0,
             "ticks": ""
            },
            "type": "mesh3d"
           }
          ],
          "parcoords": [
           {
            "line": {
             "colorbar": {
              "outlinewidth": 0,
              "ticks": ""
             }
            },
            "type": "parcoords"
           }
          ],
          "pie": [
           {
            "automargin": true,
            "type": "pie"
           }
          ],
          "scatter": [
           {
            "marker": {
             "colorbar": {
              "outlinewidth": 0,
              "ticks": ""
             }
            },
            "type": "scatter"
           }
          ],
          "scatter3d": [
           {
            "line": {
             "colorbar": {
              "outlinewidth": 0,
              "ticks": ""
             }
            },
            "marker": {
             "colorbar": {
              "outlinewidth": 0,
              "ticks": ""
             }
            },
            "type": "scatter3d"
           }
          ],
          "scattercarpet": [
           {
            "marker": {
             "colorbar": {
              "outlinewidth": 0,
              "ticks": ""
             }
            },
            "type": "scattercarpet"
           }
          ],
          "scattergeo": [
           {
            "marker": {
             "colorbar": {
              "outlinewidth": 0,
              "ticks": ""
             }
            },
            "type": "scattergeo"
           }
          ],
          "scattergl": [
           {
            "marker": {
             "colorbar": {
              "outlinewidth": 0,
              "ticks": ""
             }
            },
            "type": "scattergl"
           }
          ],
          "scattermapbox": [
           {
            "marker": {
             "colorbar": {
              "outlinewidth": 0,
              "ticks": ""
             }
            },
            "type": "scattermapbox"
           }
          ],
          "scatterpolar": [
           {
            "marker": {
             "colorbar": {
              "outlinewidth": 0,
              "ticks": ""
             }
            },
            "type": "scatterpolar"
           }
          ],
          "scatterpolargl": [
           {
            "marker": {
             "colorbar": {
              "outlinewidth": 0,
              "ticks": ""
             }
            },
            "type": "scatterpolargl"
           }
          ],
          "scatterternary": [
           {
            "marker": {
             "colorbar": {
              "outlinewidth": 0,
              "ticks": ""
             }
            },
            "type": "scatterternary"
           }
          ],
          "surface": [
           {
            "colorbar": {
             "outlinewidth": 0,
             "ticks": ""
            },
            "colorscale": [
             [
              0,
              "#0d0887"
             ],
             [
              0.1111111111111111,
              "#46039f"
             ],
             [
              0.2222222222222222,
              "#7201a8"
             ],
             [
              0.3333333333333333,
              "#9c179e"
             ],
             [
              0.4444444444444444,
              "#bd3786"
             ],
             [
              0.5555555555555556,
              "#d8576b"
             ],
             [
              0.6666666666666666,
              "#ed7953"
             ],
             [
              0.7777777777777778,
              "#fb9f3a"
             ],
             [
              0.8888888888888888,
              "#fdca26"
             ],
             [
              1,
              "#f0f921"
             ]
            ],
            "type": "surface"
           }
          ],
          "table": [
           {
            "cells": {
             "fill": {
              "color": "#EBF0F8"
             },
             "line": {
              "color": "white"
             }
            },
            "header": {
             "fill": {
              "color": "#C8D4E3"
             },
             "line": {
              "color": "white"
             }
            },
            "type": "table"
           }
          ]
         },
         "layout": {
          "annotationdefaults": {
           "arrowcolor": "#2a3f5f",
           "arrowhead": 0,
           "arrowwidth": 1
          },
          "autotypenumbers": "strict",
          "coloraxis": {
           "colorbar": {
            "outlinewidth": 0,
            "ticks": ""
           }
          },
          "colorscale": {
           "diverging": [
            [
             0,
             "#8e0152"
            ],
            [
             0.1,
             "#c51b7d"
            ],
            [
             0.2,
             "#de77ae"
            ],
            [
             0.3,
             "#f1b6da"
            ],
            [
             0.4,
             "#fde0ef"
            ],
            [
             0.5,
             "#f7f7f7"
            ],
            [
             0.6,
             "#e6f5d0"
            ],
            [
             0.7,
             "#b8e186"
            ],
            [
             0.8,
             "#7fbc41"
            ],
            [
             0.9,
             "#4d9221"
            ],
            [
             1,
             "#276419"
            ]
           ],
           "sequential": [
            [
             0,
             "#0d0887"
            ],
            [
             0.1111111111111111,
             "#46039f"
            ],
            [
             0.2222222222222222,
             "#7201a8"
            ],
            [
             0.3333333333333333,
             "#9c179e"
            ],
            [
             0.4444444444444444,
             "#bd3786"
            ],
            [
             0.5555555555555556,
             "#d8576b"
            ],
            [
             0.6666666666666666,
             "#ed7953"
            ],
            [
             0.7777777777777778,
             "#fb9f3a"
            ],
            [
             0.8888888888888888,
             "#fdca26"
            ],
            [
             1,
             "#f0f921"
            ]
           ],
           "sequentialminus": [
            [
             0,
             "#0d0887"
            ],
            [
             0.1111111111111111,
             "#46039f"
            ],
            [
             0.2222222222222222,
             "#7201a8"
            ],
            [
             0.3333333333333333,
             "#9c179e"
            ],
            [
             0.4444444444444444,
             "#bd3786"
            ],
            [
             0.5555555555555556,
             "#d8576b"
            ],
            [
             0.6666666666666666,
             "#ed7953"
            ],
            [
             0.7777777777777778,
             "#fb9f3a"
            ],
            [
             0.8888888888888888,
             "#fdca26"
            ],
            [
             1,
             "#f0f921"
            ]
           ]
          },
          "colorway": [
           "#636efa",
           "#EF553B",
           "#00cc96",
           "#ab63fa",
           "#FFA15A",
           "#19d3f3",
           "#FF6692",
           "#B6E880",
           "#FF97FF",
           "#FECB52"
          ],
          "font": {
           "color": "#2a3f5f"
          },
          "geo": {
           "bgcolor": "white",
           "lakecolor": "white",
           "landcolor": "#E5ECF6",
           "showlakes": true,
           "showland": true,
           "subunitcolor": "white"
          },
          "hoverlabel": {
           "align": "left"
          },
          "hovermode": "closest",
          "mapbox": {
           "style": "light"
          },
          "paper_bgcolor": "white",
          "plot_bgcolor": "#E5ECF6",
          "polar": {
           "angularaxis": {
            "gridcolor": "white",
            "linecolor": "white",
            "ticks": ""
           },
           "bgcolor": "#E5ECF6",
           "radialaxis": {
            "gridcolor": "white",
            "linecolor": "white",
            "ticks": ""
           }
          },
          "scene": {
           "xaxis": {
            "backgroundcolor": "#E5ECF6",
            "gridcolor": "white",
            "gridwidth": 2,
            "linecolor": "white",
            "showbackground": true,
            "ticks": "",
            "zerolinecolor": "white"
           },
           "yaxis": {
            "backgroundcolor": "#E5ECF6",
            "gridcolor": "white",
            "gridwidth": 2,
            "linecolor": "white",
            "showbackground": true,
            "ticks": "",
            "zerolinecolor": "white"
           },
           "zaxis": {
            "backgroundcolor": "#E5ECF6",
            "gridcolor": "white",
            "gridwidth": 2,
            "linecolor": "white",
            "showbackground": true,
            "ticks": "",
            "zerolinecolor": "white"
           }
          },
          "shapedefaults": {
           "line": {
            "color": "#2a3f5f"
           }
          },
          "ternary": {
           "aaxis": {
            "gridcolor": "white",
            "linecolor": "white",
            "ticks": ""
           },
           "baxis": {
            "gridcolor": "white",
            "linecolor": "white",
            "ticks": ""
           },
           "bgcolor": "#E5ECF6",
           "caxis": {
            "gridcolor": "white",
            "linecolor": "white",
            "ticks": ""
           }
          },
          "title": {
           "x": 0.05
          },
          "xaxis": {
           "automargin": true,
           "gridcolor": "white",
           "linecolor": "white",
           "ticks": "",
           "title": {
            "standoff": 15
           },
           "zerolinecolor": "white",
           "zerolinewidth": 2
          },
          "yaxis": {
           "automargin": true,
           "gridcolor": "white",
           "linecolor": "white",
           "ticks": "",
           "title": {
            "standoff": 15
           },
           "zerolinecolor": "white",
           "zerolinewidth": 2
          }
         }
        },
        "title": {
         "text": "Mining Hardware: Denver Derivative (P.Z)"
        },
        "xaxis": {
         "anchor": "y",
         "domain": [
          0,
          1
         ],
         "title": {
          "text": "Hash Power (Th/s)"
         },
         "type": "log"
        },
        "yaxis": {
         "anchor": "x",
         "domain": [
          0,
          1
         ],
         "title": {
          "text": "Power Efficiency (J/T)"
         }
        }
       }
      },
      "text/html": [
       "<div>                            <div id=\"6e540503-00f5-4575-b69c-08d33b0c63cf\" class=\"plotly-graph-div\" style=\"height:525px; width:100%;\"></div>            <script type=\"text/javascript\">                require([\"plotly\"], function(Plotly) {                    window.PLOTLYENV=window.PLOTLYENV || {};                                    if (document.getElementById(\"6e540503-00f5-4575-b69c-08d33b0c63cf\")) {                    Plotly.newPlot(                        \"6e540503-00f5-4575-b69c-08d33b0c63cf\",                        [{\"hovertemplate\":\"ASIC Model=Antminer S19Pro<br>Hash Power (Th/s)=%{x}<br>Power Efficiency (J/T)=%{y}<br>Denver's Derivative=%{marker.color}<extra></extra>\",\"legendgroup\":\"Antminer S19Pro\",\"marker\":{\"color\":[46.37149593921928],\"coloraxis\":\"coloraxis\",\"symbol\":\"circle\"},\"mode\":\"markers\",\"name\":\"Antminer S19Pro\",\"orientation\":\"v\",\"showlegend\":true,\"type\":\"scatter\",\"x\":[110],\"xaxis\":\"x\",\"y\":[29.5],\"yaxis\":\"y\"},{\"hovertemplate\":\"ASIC Model=Antminer S19jPro<br>Hash Power (Th/s)=%{x}<br>Power Efficiency (J/T)=%{y}<br>Denver's Derivative=%{marker.color}<extra></extra>\",\"legendgroup\":\"Antminer S19jPro\",\"marker\":{\"color\":[40.80691642651296],\"coloraxis\":\"coloraxis\",\"symbol\":\"diamond\"},\"mode\":\"markers\",\"name\":\"Antminer S19jPro\",\"orientation\":\"v\",\"showlegend\":true,\"type\":\"scatter\",\"x\":[104],\"xaxis\":\"x\",\"y\":[29.5],\"yaxis\":\"y\"},{\"hovertemplate\":\"ASIC Model=Antminer S19Pro + Hyd<br>Hash Power (Th/s)=%{x}<br>Power Efficiency (J/T)=%{y}<br>Denver's Derivative=%{marker.color}<extra></extra>\",\"legendgroup\":\"Antminer S19Pro + Hyd\",\"marker\":{\"color\":[30.115273775216135],\"coloraxis\":\"coloraxis\",\"symbol\":\"square\"},\"mode\":\"markers\",\"name\":\"Antminer S19Pro + Hyd\",\"orientation\":\"v\",\"showlegend\":true,\"type\":\"scatter\",\"x\":[198],\"xaxis\":\"x\",\"y\":[27.5],\"yaxis\":\"y\"},{\"hovertemplate\":\"ASIC Model=Antminer S19XP<br>Hash Power (Th/s)=%{x}<br>Power Efficiency (J/T)=%{y}<br>Denver's Derivative=%{marker.color}<extra></extra>\",\"legendgroup\":\"Antminer S19XP\",\"marker\":{\"color\":[25.713256484149852],\"coloraxis\":\"coloraxis\",\"symbol\":\"x\"},\"mode\":\"markers\",\"name\":\"Antminer S19XP\",\"orientation\":\"v\",\"showlegend\":true,\"type\":\"scatter\",\"x\":[140],\"xaxis\":\"x\",\"y\":[21.5],\"yaxis\":\"y\"},{\"hovertemplate\":\"ASIC Model=Whatsminer M30s++ 112<br>Hash Power (Th/s)=%{x}<br>Power Efficiency (J/T)=%{y}<br>Denver's Derivative=%{marker.color}<extra></extra>\",\"legendgroup\":\"Whatsminer M30s++ 112\",\"marker\":{\"color\":[51.98705743104158],\"coloraxis\":\"coloraxis\",\"symbol\":\"cross\"},\"mode\":\"markers\",\"name\":\"Whatsminer M30s++ 112\",\"orientation\":\"v\",\"showlegend\":true,\"type\":\"scatter\",\"x\":[112],\"xaxis\":\"x\",\"y\":[31.0],\"yaxis\":\"y\"},{\"hovertemplate\":\"ASIC Model=Whatsminer M30s++ 106 (neq)<br>Hash Power (Th/s)=%{x}<br>Power Efficiency (J/T)=%{y}<br>Denver's Derivative=%{marker.color}<extra></extra>\",\"legendgroup\":\"Whatsminer M30s++ 106 (neq)\",\"marker\":{\"color\":[34.13354358109945],\"coloraxis\":\"coloraxis\",\"symbol\":\"circle\"},\"mode\":\"markers\",\"name\":\"Whatsminer M30s++ 106 (neq)\",\"orientation\":\"v\",\"showlegend\":true,\"type\":\"scatter\",\"x\":[106],\"xaxis\":\"x\",\"y\":[31.0],\"yaxis\":\"y\"},{\"hovertemplate\":\"ASIC Model=Whatsminer M32<br>Hash Power (Th/s)=%{x}<br>Power Efficiency (J/T)=%{y}<br>Denver's Derivative=%{marker.color}<extra></extra>\",\"legendgroup\":\"Whatsminer M32\",\"marker\":{\"color\":[37.686472283437865],\"coloraxis\":\"coloraxis\",\"symbol\":\"diamond\"},\"mode\":\"markers\",\"name\":\"Whatsminer M32\",\"orientation\":\"v\",\"showlegend\":true,\"type\":\"scatter\",\"x\":[68],\"xaxis\":\"x\",\"y\":[50.0],\"yaxis\":\"y\"}],                        {\"coloraxis\":{\"colorbar\":{\"title\":{\"text\":\"Denver's Derivative\"}},\"colorscale\":[[0.0,\"#0d0887\"],[0.1111111111111111,\"#46039f\"],[0.2222222222222222,\"#7201a8\"],[0.3333333333333333,\"#9c179e\"],[0.4444444444444444,\"#bd3786\"],[0.5555555555555556,\"#d8576b\"],[0.6666666666666666,\"#ed7953\"],[0.7777777777777778,\"#fb9f3a\"],[0.8888888888888888,\"#fdca26\"],[1.0,\"#f0f921\"]]},\"legend\":{\"orientation\":\"h\",\"title\":{\"text\":\"ASIC Model\"},\"tracegroupgap\":0,\"x\":1,\"xanchor\":\"right\",\"y\":1.02,\"yanchor\":\"bottom\"},\"template\":{\"data\":{\"bar\":[{\"error_x\":{\"color\":\"#2a3f5f\"},\"error_y\":{\"color\":\"#2a3f5f\"},\"marker\":{\"line\":{\"color\":\"#E5ECF6\",\"width\":0.5},\"pattern\":{\"fillmode\":\"overlay\",\"size\":10,\"solidity\":0.2}},\"type\":\"bar\"}],\"barpolar\":[{\"marker\":{\"line\":{\"color\":\"#E5ECF6\",\"width\":0.5},\"pattern\":{\"fillmode\":\"overlay\",\"size\":10,\"solidity\":0.2}},\"type\":\"barpolar\"}],\"carpet\":[{\"aaxis\":{\"endlinecolor\":\"#2a3f5f\",\"gridcolor\":\"white\",\"linecolor\":\"white\",\"minorgridcolor\":\"white\",\"startlinecolor\":\"#2a3f5f\"},\"baxis\":{\"endlinecolor\":\"#2a3f5f\",\"gridcolor\":\"white\",\"linecolor\":\"white\",\"minorgridcolor\":\"white\",\"startlinecolor\":\"#2a3f5f\"},\"type\":\"carpet\"}],\"choropleth\":[{\"colorbar\":{\"outlinewidth\":0,\"ticks\":\"\"},\"type\":\"choropleth\"}],\"contour\":[{\"colorbar\":{\"outlinewidth\":0,\"ticks\":\"\"},\"colorscale\":[[0.0,\"#0d0887\"],[0.1111111111111111,\"#46039f\"],[0.2222222222222222,\"#7201a8\"],[0.3333333333333333,\"#9c179e\"],[0.4444444444444444,\"#bd3786\"],[0.5555555555555556,\"#d8576b\"],[0.6666666666666666,\"#ed7953\"],[0.7777777777777778,\"#fb9f3a\"],[0.8888888888888888,\"#fdca26\"],[1.0,\"#f0f921\"]],\"type\":\"contour\"}],\"contourcarpet\":[{\"colorbar\":{\"outlinewidth\":0,\"ticks\":\"\"},\"type\":\"contourcarpet\"}],\"heatmap\":[{\"colorbar\":{\"outlinewidth\":0,\"ticks\":\"\"},\"colorscale\":[[0.0,\"#0d0887\"],[0.1111111111111111,\"#46039f\"],[0.2222222222222222,\"#7201a8\"],[0.3333333333333333,\"#9c179e\"],[0.4444444444444444,\"#bd3786\"],[0.5555555555555556,\"#d8576b\"],[0.6666666666666666,\"#ed7953\"],[0.7777777777777778,\"#fb9f3a\"],[0.8888888888888888,\"#fdca26\"],[1.0,\"#f0f921\"]],\"type\":\"heatmap\"}],\"heatmapgl\":[{\"colorbar\":{\"outlinewidth\":0,\"ticks\":\"\"},\"colorscale\":[[0.0,\"#0d0887\"],[0.1111111111111111,\"#46039f\"],[0.2222222222222222,\"#7201a8\"],[0.3333333333333333,\"#9c179e\"],[0.4444444444444444,\"#bd3786\"],[0.5555555555555556,\"#d8576b\"],[0.6666666666666666,\"#ed7953\"],[0.7777777777777778,\"#fb9f3a\"],[0.8888888888888888,\"#fdca26\"],[1.0,\"#f0f921\"]],\"type\":\"heatmapgl\"}],\"histogram\":[{\"marker\":{\"pattern\":{\"fillmode\":\"overlay\",\"size\":10,\"solidity\":0.2}},\"type\":\"histogram\"}],\"histogram2d\":[{\"colorbar\":{\"outlinewidth\":0,\"ticks\":\"\"},\"colorscale\":[[0.0,\"#0d0887\"],[0.1111111111111111,\"#46039f\"],[0.2222222222222222,\"#7201a8\"],[0.3333333333333333,\"#9c179e\"],[0.4444444444444444,\"#bd3786\"],[0.5555555555555556,\"#d8576b\"],[0.6666666666666666,\"#ed7953\"],[0.7777777777777778,\"#fb9f3a\"],[0.8888888888888888,\"#fdca26\"],[1.0,\"#f0f921\"]],\"type\":\"histogram2d\"}],\"histogram2dcontour\":[{\"colorbar\":{\"outlinewidth\":0,\"ticks\":\"\"},\"colorscale\":[[0.0,\"#0d0887\"],[0.1111111111111111,\"#46039f\"],[0.2222222222222222,\"#7201a8\"],[0.3333333333333333,\"#9c179e\"],[0.4444444444444444,\"#bd3786\"],[0.5555555555555556,\"#d8576b\"],[0.6666666666666666,\"#ed7953\"],[0.7777777777777778,\"#fb9f3a\"],[0.8888888888888888,\"#fdca26\"],[1.0,\"#f0f921\"]],\"type\":\"histogram2dcontour\"}],\"mesh3d\":[{\"colorbar\":{\"outlinewidth\":0,\"ticks\":\"\"},\"type\":\"mesh3d\"}],\"parcoords\":[{\"line\":{\"colorbar\":{\"outlinewidth\":0,\"ticks\":\"\"}},\"type\":\"parcoords\"}],\"pie\":[{\"automargin\":true,\"type\":\"pie\"}],\"scatter\":[{\"marker\":{\"colorbar\":{\"outlinewidth\":0,\"ticks\":\"\"}},\"type\":\"scatter\"}],\"scatter3d\":[{\"line\":{\"colorbar\":{\"outlinewidth\":0,\"ticks\":\"\"}},\"marker\":{\"colorbar\":{\"outlinewidth\":0,\"ticks\":\"\"}},\"type\":\"scatter3d\"}],\"scattercarpet\":[{\"marker\":{\"colorbar\":{\"outlinewidth\":0,\"ticks\":\"\"}},\"type\":\"scattercarpet\"}],\"scattergeo\":[{\"marker\":{\"colorbar\":{\"outlinewidth\":0,\"ticks\":\"\"}},\"type\":\"scattergeo\"}],\"scattergl\":[{\"marker\":{\"colorbar\":{\"outlinewidth\":0,\"ticks\":\"\"}},\"type\":\"scattergl\"}],\"scattermapbox\":[{\"marker\":{\"colorbar\":{\"outlinewidth\":0,\"ticks\":\"\"}},\"type\":\"scattermapbox\"}],\"scatterpolar\":[{\"marker\":{\"colorbar\":{\"outlinewidth\":0,\"ticks\":\"\"}},\"type\":\"scatterpolar\"}],\"scatterpolargl\":[{\"marker\":{\"colorbar\":{\"outlinewidth\":0,\"ticks\":\"\"}},\"type\":\"scatterpolargl\"}],\"scatterternary\":[{\"marker\":{\"colorbar\":{\"outlinewidth\":0,\"ticks\":\"\"}},\"type\":\"scatterternary\"}],\"surface\":[{\"colorbar\":{\"outlinewidth\":0,\"ticks\":\"\"},\"colorscale\":[[0.0,\"#0d0887\"],[0.1111111111111111,\"#46039f\"],[0.2222222222222222,\"#7201a8\"],[0.3333333333333333,\"#9c179e\"],[0.4444444444444444,\"#bd3786\"],[0.5555555555555556,\"#d8576b\"],[0.6666666666666666,\"#ed7953\"],[0.7777777777777778,\"#fb9f3a\"],[0.8888888888888888,\"#fdca26\"],[1.0,\"#f0f921\"]],\"type\":\"surface\"}],\"table\":[{\"cells\":{\"fill\":{\"color\":\"#EBF0F8\"},\"line\":{\"color\":\"white\"}},\"header\":{\"fill\":{\"color\":\"#C8D4E3\"},\"line\":{\"color\":\"white\"}},\"type\":\"table\"}]},\"layout\":{\"annotationdefaults\":{\"arrowcolor\":\"#2a3f5f\",\"arrowhead\":0,\"arrowwidth\":1},\"autotypenumbers\":\"strict\",\"coloraxis\":{\"colorbar\":{\"outlinewidth\":0,\"ticks\":\"\"}},\"colorscale\":{\"diverging\":[[0,\"#8e0152\"],[0.1,\"#c51b7d\"],[0.2,\"#de77ae\"],[0.3,\"#f1b6da\"],[0.4,\"#fde0ef\"],[0.5,\"#f7f7f7\"],[0.6,\"#e6f5d0\"],[0.7,\"#b8e186\"],[0.8,\"#7fbc41\"],[0.9,\"#4d9221\"],[1,\"#276419\"]],\"sequential\":[[0.0,\"#0d0887\"],[0.1111111111111111,\"#46039f\"],[0.2222222222222222,\"#7201a8\"],[0.3333333333333333,\"#9c179e\"],[0.4444444444444444,\"#bd3786\"],[0.5555555555555556,\"#d8576b\"],[0.6666666666666666,\"#ed7953\"],[0.7777777777777778,\"#fb9f3a\"],[0.8888888888888888,\"#fdca26\"],[1.0,\"#f0f921\"]],\"sequentialminus\":[[0.0,\"#0d0887\"],[0.1111111111111111,\"#46039f\"],[0.2222222222222222,\"#7201a8\"],[0.3333333333333333,\"#9c179e\"],[0.4444444444444444,\"#bd3786\"],[0.5555555555555556,\"#d8576b\"],[0.6666666666666666,\"#ed7953\"],[0.7777777777777778,\"#fb9f3a\"],[0.8888888888888888,\"#fdca26\"],[1.0,\"#f0f921\"]]},\"colorway\":[\"#636efa\",\"#EF553B\",\"#00cc96\",\"#ab63fa\",\"#FFA15A\",\"#19d3f3\",\"#FF6692\",\"#B6E880\",\"#FF97FF\",\"#FECB52\"],\"font\":{\"color\":\"#2a3f5f\"},\"geo\":{\"bgcolor\":\"white\",\"lakecolor\":\"white\",\"landcolor\":\"#E5ECF6\",\"showlakes\":true,\"showland\":true,\"subunitcolor\":\"white\"},\"hoverlabel\":{\"align\":\"left\"},\"hovermode\":\"closest\",\"mapbox\":{\"style\":\"light\"},\"paper_bgcolor\":\"white\",\"plot_bgcolor\":\"#E5ECF6\",\"polar\":{\"angularaxis\":{\"gridcolor\":\"white\",\"linecolor\":\"white\",\"ticks\":\"\"},\"bgcolor\":\"#E5ECF6\",\"radialaxis\":{\"gridcolor\":\"white\",\"linecolor\":\"white\",\"ticks\":\"\"}},\"scene\":{\"xaxis\":{\"backgroundcolor\":\"#E5ECF6\",\"gridcolor\":\"white\",\"gridwidth\":2,\"linecolor\":\"white\",\"showbackground\":true,\"ticks\":\"\",\"zerolinecolor\":\"white\"},\"yaxis\":{\"backgroundcolor\":\"#E5ECF6\",\"gridcolor\":\"white\",\"gridwidth\":2,\"linecolor\":\"white\",\"showbackground\":true,\"ticks\":\"\",\"zerolinecolor\":\"white\"},\"zaxis\":{\"backgroundcolor\":\"#E5ECF6\",\"gridcolor\":\"white\",\"gridwidth\":2,\"linecolor\":\"white\",\"showbackground\":true,\"ticks\":\"\",\"zerolinecolor\":\"white\"}},\"shapedefaults\":{\"line\":{\"color\":\"#2a3f5f\"}},\"ternary\":{\"aaxis\":{\"gridcolor\":\"white\",\"linecolor\":\"white\",\"ticks\":\"\"},\"baxis\":{\"gridcolor\":\"white\",\"linecolor\":\"white\",\"ticks\":\"\"},\"bgcolor\":\"#E5ECF6\",\"caxis\":{\"gridcolor\":\"white\",\"linecolor\":\"white\",\"ticks\":\"\"}},\"title\":{\"x\":0.05},\"xaxis\":{\"automargin\":true,\"gridcolor\":\"white\",\"linecolor\":\"white\",\"ticks\":\"\",\"title\":{\"standoff\":15},\"zerolinecolor\":\"white\",\"zerolinewidth\":2},\"yaxis\":{\"automargin\":true,\"gridcolor\":\"white\",\"linecolor\":\"white\",\"ticks\":\"\",\"title\":{\"standoff\":15},\"zerolinecolor\":\"white\",\"zerolinewidth\":2}}},\"title\":{\"text\":\"Mining Hardware: Denver Derivative (P.Z)\"},\"xaxis\":{\"anchor\":\"y\",\"domain\":[0.0,1.0],\"title\":{\"text\":\"Hash Power (Th/s)\"},\"type\":\"log\"},\"yaxis\":{\"anchor\":\"x\",\"domain\":[0.0,1.0],\"title\":{\"text\":\"Power Efficiency (J/T)\"}}},                        {\"responsive\": true}                    ).then(function(){\n",
       "                            \n",
       "var gd = document.getElementById('6e540503-00f5-4575-b69c-08d33b0c63cf');\n",
       "var x = new MutationObserver(function (mutations, observer) {{\n",
       "        var display = window.getComputedStyle(gd).display;\n",
       "        if (!display || display === 'none') {{\n",
       "            console.log([gd, 'removed!']);\n",
       "            Plotly.purge(gd);\n",
       "            observer.disconnect();\n",
       "        }}\n",
       "}});\n",
       "\n",
       "// Listen for the removal of the full notebook cells\n",
       "var notebookContainer = gd.closest('#notebook-container');\n",
       "if (notebookContainer) {{\n",
       "    x.observe(notebookContainer, {childList: true});\n",
       "}}\n",
       "\n",
       "// Listen for the clearing of the current output cell\n",
       "var outputEl = gd.closest('.output');\n",
       "if (outputEl) {{\n",
       "    x.observe(outputEl, {childList: true});\n",
       "}}\n",
       "\n",
       "                        })                };                });            </script>        </div>"
      ]
     },
     "metadata": {},
     "output_type": "display_data"
    },
    {
     "data": {
      "text/plain": [
       "<Figure size 3600x1440 with 0 Axes>"
      ]
     },
     "metadata": {},
     "output_type": "display_data"
    }
   ],
   "source": [
    "plt.figure( figsize = ( 50, 20))\n",
    "\n",
    "x=miner_info_asics['Hash Power (Th/s)']\n",
    "y=miner_info_asics['Power Efficiency (J/T)']\n",
    "z=miner_info_asics[\"Denver's Derivative\"]\n",
    "sym=miner_info_asics['ASIC Model']\n",
    "import plotly.express as px\n",
    "fig = px.scatter(miner_info_asics, x, y,z,symbol=sym, log_x=True, title='Mining Hardware: Denver Derivative (P.Z)')\n",
    "fig.update_layout(legend=dict(\n",
    "    orientation=\"h\",\n",
    "    yanchor=\"bottom\",\n",
    "    y=1.02,\n",
    "    xanchor=\"right\",\n",
    "    x=1\n",
    "))\n",
    "fig.show()\n"
   ]
  }
 ],
 "metadata": {
  "kernelspec": {
   "display_name": "Python 3 (ipykernel)",
   "language": "python",
   "name": "python3"
  },
  "language_info": {
   "codemirror_mode": {
    "name": "ipython",
    "version": 3
   },
   "file_extension": ".py",
   "mimetype": "text/x-python",
   "name": "python",
   "nbconvert_exporter": "python",
   "pygments_lexer": "ipython3",
   "version": "3.7.11"
  }
 },
 "nbformat": 4,
 "nbformat_minor": 2
}
